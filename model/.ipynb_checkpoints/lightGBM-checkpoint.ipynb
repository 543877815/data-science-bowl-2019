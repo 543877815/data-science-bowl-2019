{
 "cells": [
  {
   "cell_type": "code",
   "execution_count": 1,
   "metadata": {},
   "outputs": [],
   "source": [
    "from sklearn.model_selection import train_test_split, StratifiedKFold\n",
    "import lightgbm as lgb\n",
    "import pandas as pd"
   ]
  },
  {
   "cell_type": "markdown",
   "metadata": {},
   "source": [
    "train_test_split"
   ]
  },
  {
   "cell_type": "code",
   "execution_count": 2,
   "metadata": {},
   "outputs": [],
   "source": [
    "data = pd.read_csv('../feature_extract/reduce_train_108.csv')"
   ]
  },
  {
   "cell_type": "code",
   "execution_count": 3,
   "metadata": {},
   "outputs": [],
   "source": [
    "Y = data.pop('accuracy_group')\n",
    "data.pop('installation_id')\n",
    "data.pop('Unnamed: 0')\n",
    "X = data"
   ]
  },
  {
   "cell_type": "code",
   "execution_count": 4,
   "metadata": {},
   "outputs": [],
   "source": [
    "X_train, X_test, y_train, y_test = train_test_split(X, Y, test_size=0.2, random_state=7)"
   ]
  },
  {
   "cell_type": "markdown",
   "metadata": {},
   "source": [
    "model\n",
    "\n",
    "1.boosting_type=‘gbdt’# 提升树的类型 gbdt,dart,goss,rf\n",
    "\n",
    "2.num_leavel=32#树的最大叶子数，对比xgboost一般为2^(max_depth)\n",
    "\n",
    "3.max_depth=-1#最大树的深度\n",
    "\n",
    "4.learning_rate#学习率\n",
    "\n",
    "5.n_estimators=10: 拟合的树的棵树，相当于训练轮数\n",
    "\n",
    "6.subsample=1.0: 训练样本采样率 行\n",
    "\n",
    "7.colsample_bytree=1.0: 训练特征采样率 列\n",
    "\n",
    "8.subsample_freq=1: 子样本频率\n",
    "\n",
    "9.reg_alpha=0.0: L1正则化系数\n",
    "\n",
    "10.reg_lambda=0.0: L2正则化系数\n",
    "\n",
    "11.random_state=None: 随机种子数\n",
    "\n",
    "12.n_jobs=-1: 并行运行多线程核心数\n",
    "\n",
    "13.silent=True: 训练过程是否打印日志信息\n",
    "\n",
    "14.min_split_gain=0.0: 最小分割增益\n",
    "\n",
    "15.min_child_weight=0.001: 分支结点的最小权重"
   ]
  },
  {
   "cell_type": "code",
   "execution_count": null,
   "metadata": {},
   "outputs": [
    {
     "name": "stdout",
     "output_type": "stream",
     "text": [
      "[50]\tvalid_0's multi_logloss: 1.02761\n",
      "[100]\tvalid_0's multi_logloss: 0.998626\n",
      "[150]\tvalid_0's multi_logloss: 0.99306\n",
      "[200]\tvalid_0's multi_logloss: 0.992967\n",
      "[250]\tvalid_0's multi_logloss: 0.994583\n"
     ]
    }
   ],
   "source": [
    "X_train.columns = [\"\".join (c if c.isalnum() else \"_\" for c in str(x)) for x in X_train.columns]\n",
    "X_test.columns = [\"\".join (c if c.isalnum() else \"_\" for c in str(x)) for x in X_test.columns]\n",
    "\n",
    "clf = lgb.LGBMClassifier(\n",
    "        boosting_type = 'gbdt', num_leaves = 64, reg_alpha = 5, reg_lambda = 5,\n",
    "        n_estimators = 4053, objective = 'binary',\n",
    "        subsample = 0.7, colsample_bytree = 0.7, subsample_freq = 1,\n",
    "        learning_rate = 0.05, random_state = 8012, n_jobs = -1)\n",
    "\n",
    "clf.fit(X_train, y_train, eval_set = [(X_test, y_test)], verbose = 50)"
   ]
  },
  {
   "cell_type": "code",
   "execution_count": null,
   "metadata": {},
   "outputs": [],
   "source": [
    "test_result = clf.predict_proba(test_data)\n",
    "test_data = all_data[all_data.label == -1].drop('label', axis = 1).reset_index(drop = True)\n",
    "test_data['label'] = test_result[:, 1]\n",
    "test_data['label'] = test_data.label.apply(lambda x:1 if x >= 0.36 else 0)"
   ]
  },
  {
   "cell_type": "code",
   "execution_count": null,
   "metadata": {},
   "outputs": [],
   "source": []
  }
 ],
 "metadata": {
  "kernelspec": {
   "display_name": "Python 3",
   "language": "python",
   "name": "python3"
  },
  "language_info": {
   "codemirror_mode": {
    "name": "ipython",
    "version": 3
   },
   "file_extension": ".py",
   "mimetype": "text/x-python",
   "name": "python",
   "nbconvert_exporter": "python",
   "pygments_lexer": "ipython3",
   "version": "3.6.9"
  }
 },
 "nbformat": 4,
 "nbformat_minor": 2
}
