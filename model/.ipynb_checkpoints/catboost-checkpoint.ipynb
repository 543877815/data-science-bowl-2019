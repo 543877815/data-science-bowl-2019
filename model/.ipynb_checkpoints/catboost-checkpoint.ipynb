{
 "cells": [
  {
   "cell_type": "code",
   "execution_count": 4,
   "metadata": {},
   "outputs": [
    {
     "ename": "ModuleNotFoundError",
     "evalue": "No module named 'sklearn.metric'",
     "output_type": "error",
     "traceback": [
      "\u001b[0;31m\u001b[0m",
      "\u001b[0;31mModuleNotFoundError\u001b[0mTraceback (most recent call last)",
      "\u001b[0;32m<ipython-input-4-31dde69120b3>\u001b[0m in \u001b[0;36m<module>\u001b[0;34m\u001b[0m\n\u001b[1;32m      2\u001b[0m \u001b[0;32mimport\u001b[0m \u001b[0mpandas\u001b[0m \u001b[0;32mas\u001b[0m \u001b[0mpd\u001b[0m\u001b[0;34m\u001b[0m\u001b[0;34m\u001b[0m\u001b[0m\n\u001b[1;32m      3\u001b[0m \u001b[0;32mimport\u001b[0m \u001b[0mcatboost\u001b[0m \u001b[0;32mas\u001b[0m \u001b[0mcbt\u001b[0m\u001b[0;34m\u001b[0m\u001b[0;34m\u001b[0m\u001b[0m\n\u001b[0;32m----> 4\u001b[0;31m \u001b[0;32mfrom\u001b[0m \u001b[0msklearn\u001b[0m\u001b[0;34m.\u001b[0m\u001b[0mmetric\u001b[0m \u001b[0;32mimport\u001b[0m \u001b[0mf1_score\u001b[0m\u001b[0;34m\u001b[0m\u001b[0;34m\u001b[0m\u001b[0m\n\u001b[0m\u001b[1;32m      5\u001b[0m \u001b[0;32mfrom\u001b[0m \u001b[0msklearn\u001b[0m\u001b[0;34m.\u001b[0m\u001b[0mmodel_selection\u001b[0m \u001b[0;32mimport\u001b[0m \u001b[0mtrain_test_split\u001b[0m\u001b[0;34m\u001b[0m\u001b[0;34m\u001b[0m\u001b[0m\n\u001b[1;32m      6\u001b[0m \u001b[0;32mfrom\u001b[0m \u001b[0msklearn\u001b[0m\u001b[0;34m.\u001b[0m\u001b[0mmodel_selection\u001b[0m \u001b[0;32mimport\u001b[0m \u001b[0mStratifiedKFold\u001b[0m\u001b[0;34m\u001b[0m\u001b[0;34m\u001b[0m\u001b[0m\n",
      "\u001b[0;31mModuleNotFoundError\u001b[0m: No module named 'sklearn.metric'"
     ]
    }
   ],
   "source": [
    "import numpy as np\n",
    "import pandas as pd\n",
    "import catboost as cbt\n",
    "from sklearn.metric import f1_score\n",
    "from sklearn.model_selection import train_test_split\n",
    "from sklearn.model_selection import StratifiedKFold\n",
    " \n",
    " \n",
    "train_data = pd.read_csv('.....')\n",
    "train_label = pd.read_csv('.....')\n",
    "test_data = pd.read_csv('.....')\n",
    " \n",
    " \n",
    "cat_list = [] #catboost中需要处理的离散特征属性列\n",
    "oof = np.zeros(train_data.shape[0])  #训练集长度\n",
    "prediction = np.zeros(test_data.shape[0])     #测试集长度\n",
    "seeds = [2017,2018,2019,2020]     #随机种子\n",
    "num_model_seed = 1\n",
    " \n",
    " \n",
    "train_x, test_x, train_y, test_y = train_test_split(train_data, train_label, test_size=0.2, random_state = 2019)     #拆分训练集\n",
    "for model_seed in range(num_model_seed):     #选用几个随机种子\n",
    "    oof_cat = np.zeros(train_data.shape[0])\n",
    "    prediction_cat = np.zeros(test_data.shape[0])\n",
    "    skf = StratifiedKFold(n_splits=5, random_state=seeds[model_seed], shuffle=True) #五折交叉验证，shuffle表示是否打乱数据，若为True再设定随机种子random_state\n",
    "    for index, (train_index, test_index) in enumerate(skf.split(train_data, train_label)): #将数据五折分割\n",
    "        train_x, test_x, train_y, test_y = train_data.iloc[train_index], test_data.iloc[test_index], train_label.iloc[train_index], train_label.iloc[test_index]\n",
    "        cbt_model = cbt.CatBoostClassifier(iterations=5000, learning_rate=0.1, max_depth=7, verbose=100, early_stopping_rounds=500,task_type='GPU', eval_metric='F1',cat_features=cat_list)     #设置模型参数，verbose表示每100个训练输出打印一次\n",
    "        cbt_model.fit(train_x, train_y, eval_set=(test_x, test_y)) #训练五折分割后的训练集\n",
    "        gc.collect() #垃圾清理，内存清理\n",
    "        oof_cat[test_index] += cbt_model.predict_proba(test_x)[:,1] #\n",
    "        prediction_cat += cbt_model.predict_proba(test_data)[:,1]/5\n",
    "    print('F1', f1_score(train_label, np.round(oof_cat)))\n",
    "    oof += oof_cat / num_model_seed     #五折训练集取均值\n",
    "    prediction += prediction_cat / num_model_seed #测试集取均值\n",
    "print('score', f1_score(train_label, np.round(oof)))\n",
    " \n",
    "##结果写入csv文件\n",
    "submit = test_data['id']\n",
    "submit['label'] = (prediction>=0.499).astype(int)\n",
    "print(submit['label'].value_counts())\n",
    "submit.to_csv('submission.csv',index=False)"
   ]
  },
  {
   "cell_type": "code",
   "execution_count": null,
   "metadata": {},
   "outputs": [],
   "source": []
  }
 ],
 "metadata": {
  "kernelspec": {
   "display_name": "Python 3",
   "language": "python",
   "name": "python3"
  },
  "language_info": {
   "codemirror_mode": {
    "name": "ipython",
    "version": 3
   },
   "file_extension": ".py",
   "mimetype": "text/x-python",
   "name": "python",
   "nbconvert_exporter": "python",
   "pygments_lexer": "ipython3",
   "version": "3.7.1"
  }
 },
 "nbformat": 4,
 "nbformat_minor": 2
}
