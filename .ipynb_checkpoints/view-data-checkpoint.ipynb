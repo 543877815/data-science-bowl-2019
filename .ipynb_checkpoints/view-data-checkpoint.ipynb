{
 "cells": [
  {
   "cell_type": "markdown",
   "metadata": {},
   "source": [
    "说明\n",
    "\n",
    "在此数据集中，您将获得PBS KIDS Measure Up的游戏分析功能！应用程式。在此应用中，孩子们可以浏览地图并完成各个级别，包括活动，视频剪辑，游戏或评估。每个评估旨在测试孩子对一组与测量相关的技能的理解。共有五种评估：鸟类测量仪，推车平衡器，大锅填料，胸部分选机和蘑菇分选机。\n",
    "\n",
    "比赛的目的是使用游戏数据预测孩子通过给定评估的尝试次数（不正确的答案计为一次尝试）。每次应用程序安装均以表示`installation_id`。这通常对应一个孩子，但是您应该期待诸如共享设备之类的噪音。在训练集中，将为您提供游戏数据的完整历史记录。在测试集中，我们在一次评估（随机选择）的开始事件之后截断了历史记录，您必须预测该历史记录的尝试次数。请注意，训练集包含许多`installation_id`从未接受过评估的，而`installation_id`测试集中的每个人都尝试了至少一项评估。\n",
    "\n",
    "本次比赛的结果分为4组（`accuracy_group`数据中标记）：\n",
    "\n",
    "- 3：评估是在第一次尝试时解决的\n",
    "- 2：评估已在第二次尝试中解决\n",
    "- 1：尝试3次以上后，评估结果已解决\n",
    "- 0：评估从未解决"
   ]
  },
  {
   "cell_type": "code",
   "execution_count": 1,
   "metadata": {},
   "outputs": [
    {
     "data": {
      "text/plain": [
       "('1.16.2', '0.25.3')"
      ]
     },
     "execution_count": 1,
     "metadata": {},
     "output_type": "execute_result"
    }
   ],
   "source": [
    "import numpy as np\n",
    "import pandas as pd\n",
    "PREVIOUS_MAX_ROWS = pd.options.display.max_rows\n",
    "pd.options.display.max_rows = 20\n",
    "np.random.seed(12345)\n",
    "\n",
    "import matplotlib.pyplot as plt\n",
    "plt.rc('figure', figsize=(10, 6))\n",
    "np.set_printoptions(precision=4, suppress=True)\n",
    "\n",
    "import utils\n",
    "\n",
    "np.__version__, pd.__version__"
   ]
  },
  {
   "cell_type": "code",
   "execution_count": 2,
   "metadata": {},
   "outputs": [
    {
     "name": "stdout",
     "output_type": "stream",
     "text": [
      " 驱动器 E 中的卷是 文档\n",
      " 卷的序列号是 489E-DDE3\n",
      "\n",
      " E:\\jupyter notebook\\data-science-bowl-2019\\data 的目录\n",
      "\n",
      "2019/11/24  17:05    <DIR>          .\n",
      "2019/11/24  17:05    <DIR>          ..\n",
      "2019/11/24  17:03    <DIR>          .ipynb_checkpoints\n",
      "2019/11/24  17:05    <DIR>          source\n",
      "               0 个文件              0 字节\n",
      "               4 个目录 1,361,841,258,496 可用字节\n"
     ]
    }
   ],
   "source": [
    "ls data"
   ]
  },
  {
   "cell_type": "code",
   "execution_count": 3,
   "metadata": {},
   "outputs": [],
   "source": [
    "base_dir = './data/source/'\n",
    "train_data_file = base_dir + 'train.csv'\n",
    "test_data_file = base_dir + 'test.csv'\n",
    "train_labels_file = base_dir + 'train_labels.csv'\n",
    "event_specs_file = base_dir + 'specs.csv'\n",
    "sample_submission_file = base_dir + 'sample_submission.csv'"
   ]
  },
  {
   "cell_type": "markdown",
   "metadata": {},
   "source": [
    "# train & test"
   ]
  },
  {
   "cell_type": "markdown",
   "metadata": {},
   "source": [
    "train.csv有3.61GB,一共有1134,1042条记录\n",
    "\n",
    "test.csv有379MB,一共有115,6416条记录\n",
    "\n",
    "\n",
    "- `event_id`- 随机生成的事件类型的唯一标识符。映射到event_id规格表中的列。\n",
    "\n",
    "需要和spec.csv对着看\n",
    "\n",
    "- `game_session` - 在单个游戏或视频播放会话中随机生成的唯一标识符分组事件。\n",
    "\n",
    "类似于cookie和session，用来标识用户\n",
    "\n",
    "- `timestamp` - 客户生成的日期时间\n",
    "\n",
    "- `event_data` - 包含事件参数的半结构化JSON格式的字符串。默认字段是：event_count，event_code，和game_time; 否则，字段由事件类型确定。\n",
    "\n",
    "- `installation_id` - 在单个安装的应用程序实例中随机生成的唯一标识符将游戏会话分组。\n",
    "\n",
    "- `event_count`- 游戏会话内事件的增量计数器（偏移为1）。提取自event_data。\n",
    "\n",
    "- `event_code`- 事件“类别”的标识符。每个游戏唯一，但可以在多个游戏中重复。例如，事件代码“ 2000”始终标识所有游戏的“开始游戏”事件。提取自event_data。\n",
    "\n",
    "- `game_time`- 自游戏会话开始以来的时间（以毫秒为单位）。提取自event_data。\n",
    "\n",
    "- `title` - 游戏或视频的标题。\n",
    "\n",
    "- `type` - 游戏或视频的媒体类型。可能的值为：“游戏”，“评估”，“活动”，“剪辑”。\n",
    "\n",
    "- `world` - 游戏或视频所属的应用程序部分。有助于确定媒体的教育课程目标。可能的值包括：“ NONE”（在应用程序的开始屏幕上），“ REEPOTPCITY”（长度/高度），“ MAGMAPEAK”（容量/排量），“ CRYSTALCAVES”（重量）。"
   ]
  },
  {
   "cell_type": "code",
   "execution_count": 4,
   "metadata": {},
   "outputs": [
    {
     "data": {
      "text/html": [
       "<div>\n",
       "<style scoped>\n",
       "    .dataframe tbody tr th:only-of-type {\n",
       "        vertical-align: middle;\n",
       "    }\n",
       "\n",
       "    .dataframe tbody tr th {\n",
       "        vertical-align: top;\n",
       "    }\n",
       "\n",
       "    .dataframe thead th {\n",
       "        text-align: right;\n",
       "    }\n",
       "</style>\n",
       "<table border=\"1\" class=\"dataframe\">\n",
       "  <thead>\n",
       "    <tr style=\"text-align: right;\">\n",
       "      <th></th>\n",
       "      <th>event_id</th>\n",
       "      <th>game_session</th>\n",
       "      <th>timestamp</th>\n",
       "      <th>event_data</th>\n",
       "      <th>installation_id</th>\n",
       "      <th>event_count</th>\n",
       "      <th>event_code</th>\n",
       "      <th>game_time</th>\n",
       "      <th>title</th>\n",
       "      <th>type</th>\n",
       "      <th>world</th>\n",
       "    </tr>\n",
       "  </thead>\n",
       "  <tbody>\n",
       "    <tr>\n",
       "      <th>0</th>\n",
       "      <td>27253bdc</td>\n",
       "      <td>45bb1e1b6b50c07b</td>\n",
       "      <td>2019-09-06T17:53:46.937Z</td>\n",
       "      <td>{\"event_code\": 2000, \"event_count\": 1}</td>\n",
       "      <td>0001e90f</td>\n",
       "      <td>1</td>\n",
       "      <td>2000</td>\n",
       "      <td>0</td>\n",
       "      <td>Welcome to Lost Lagoon!</td>\n",
       "      <td>Clip</td>\n",
       "      <td>NONE</td>\n",
       "    </tr>\n",
       "    <tr>\n",
       "      <th>1</th>\n",
       "      <td>27253bdc</td>\n",
       "      <td>17eeb7f223665f53</td>\n",
       "      <td>2019-09-06T17:54:17.519Z</td>\n",
       "      <td>{\"event_code\": 2000, \"event_count\": 1}</td>\n",
       "      <td>0001e90f</td>\n",
       "      <td>1</td>\n",
       "      <td>2000</td>\n",
       "      <td>0</td>\n",
       "      <td>Magma Peak - Level 1</td>\n",
       "      <td>Clip</td>\n",
       "      <td>MAGMAPEAK</td>\n",
       "    </tr>\n",
       "    <tr>\n",
       "      <th>2</th>\n",
       "      <td>77261ab5</td>\n",
       "      <td>0848ef14a8dc6892</td>\n",
       "      <td>2019-09-06T17:54:56.302Z</td>\n",
       "      <td>{\"version\":\"1.0\",\"event_count\":1,\"game_time\":0...</td>\n",
       "      <td>0001e90f</td>\n",
       "      <td>1</td>\n",
       "      <td>2000</td>\n",
       "      <td>0</td>\n",
       "      <td>Sandcastle Builder (Activity)</td>\n",
       "      <td>Activity</td>\n",
       "      <td>MAGMAPEAK</td>\n",
       "    </tr>\n",
       "    <tr>\n",
       "      <th>3</th>\n",
       "      <td>b2dba42b</td>\n",
       "      <td>0848ef14a8dc6892</td>\n",
       "      <td>2019-09-06T17:54:56.387Z</td>\n",
       "      <td>{\"description\":\"Let's build a sandcastle! Firs...</td>\n",
       "      <td>0001e90f</td>\n",
       "      <td>2</td>\n",
       "      <td>3010</td>\n",
       "      <td>53</td>\n",
       "      <td>Sandcastle Builder (Activity)</td>\n",
       "      <td>Activity</td>\n",
       "      <td>MAGMAPEAK</td>\n",
       "    </tr>\n",
       "    <tr>\n",
       "      <th>4</th>\n",
       "      <td>1bb5fbdb</td>\n",
       "      <td>0848ef14a8dc6892</td>\n",
       "      <td>2019-09-06T17:55:03.253Z</td>\n",
       "      <td>{\"description\":\"Let's build a sandcastle! Firs...</td>\n",
       "      <td>0001e90f</td>\n",
       "      <td>3</td>\n",
       "      <td>3110</td>\n",
       "      <td>6972</td>\n",
       "      <td>Sandcastle Builder (Activity)</td>\n",
       "      <td>Activity</td>\n",
       "      <td>MAGMAPEAK</td>\n",
       "    </tr>\n",
       "    <tr>\n",
       "      <th>...</th>\n",
       "      <td>...</td>\n",
       "      <td>...</td>\n",
       "      <td>...</td>\n",
       "      <td>...</td>\n",
       "      <td>...</td>\n",
       "      <td>...</td>\n",
       "      <td>...</td>\n",
       "      <td>...</td>\n",
       "      <td>...</td>\n",
       "      <td>...</td>\n",
       "      <td>...</td>\n",
       "    </tr>\n",
       "    <tr>\n",
       "      <th>11341037</th>\n",
       "      <td>ab3136ba</td>\n",
       "      <td>c09b94eebfdf50a6</td>\n",
       "      <td>2019-10-10T15:11:15.584Z</td>\n",
       "      <td>{\"description\":\"Tap another dinosaur.\",\"identi...</td>\n",
       "      <td>fffc0583</td>\n",
       "      <td>66</td>\n",
       "      <td>3110</td>\n",
       "      <td>118615</td>\n",
       "      <td>Dino Dive</td>\n",
       "      <td>Game</td>\n",
       "      <td>MAGMAPEAK</td>\n",
       "    </tr>\n",
       "    <tr>\n",
       "      <th>11341038</th>\n",
       "      <td>27253bdc</td>\n",
       "      <td>6ad8ab25003ef1b0</td>\n",
       "      <td>2019-10-10T15:12:17.364Z</td>\n",
       "      <td>{\"event_code\": 2000, \"event_count\": 1}</td>\n",
       "      <td>fffc0583</td>\n",
       "      <td>1</td>\n",
       "      <td>2000</td>\n",
       "      <td>0</td>\n",
       "      <td>Crystal Caves - Level 2</td>\n",
       "      <td>Clip</td>\n",
       "      <td>CRYSTALCAVES</td>\n",
       "    </tr>\n",
       "    <tr>\n",
       "      <th>11341039</th>\n",
       "      <td>27253bdc</td>\n",
       "      <td>71904dca23b982c6</td>\n",
       "      <td>2019-10-10T15:13:04.713Z</td>\n",
       "      <td>{\"event_code\": 2000, \"event_count\": 1}</td>\n",
       "      <td>fffc0583</td>\n",
       "      <td>1</td>\n",
       "      <td>2000</td>\n",
       "      <td>0</td>\n",
       "      <td>Crystal Caves - Level 3</td>\n",
       "      <td>Clip</td>\n",
       "      <td>CRYSTALCAVES</td>\n",
       "    </tr>\n",
       "    <tr>\n",
       "      <th>11341040</th>\n",
       "      <td>27253bdc</td>\n",
       "      <td>2267b18f069e875a</td>\n",
       "      <td>2019-10-10T15:13:54.545Z</td>\n",
       "      <td>{\"event_code\": 2000, \"event_count\": 1}</td>\n",
       "      <td>fffc0583</td>\n",
       "      <td>1</td>\n",
       "      <td>2000</td>\n",
       "      <td>0</td>\n",
       "      <td>Crystal Caves - Level 3</td>\n",
       "      <td>Clip</td>\n",
       "      <td>CRYSTALCAVES</td>\n",
       "    </tr>\n",
       "    <tr>\n",
       "      <th>11341041</th>\n",
       "      <td>27253bdc</td>\n",
       "      <td>f31950f549d7c242</td>\n",
       "      <td>2019-10-10T15:15:12.483Z</td>\n",
       "      <td>{\"event_code\": 2000, \"event_count\": 1}</td>\n",
       "      <td>fffc0583</td>\n",
       "      <td>1</td>\n",
       "      <td>2000</td>\n",
       "      <td>0</td>\n",
       "      <td>Tree Top City - Level 2</td>\n",
       "      <td>Clip</td>\n",
       "      <td>TREETOPCITY</td>\n",
       "    </tr>\n",
       "  </tbody>\n",
       "</table>\n",
       "<p>11341042 rows × 11 columns</p>\n",
       "</div>"
      ],
      "text/plain": [
       "          event_id      game_session                 timestamp  \\\n",
       "0         27253bdc  45bb1e1b6b50c07b  2019-09-06T17:53:46.937Z   \n",
       "1         27253bdc  17eeb7f223665f53  2019-09-06T17:54:17.519Z   \n",
       "2         77261ab5  0848ef14a8dc6892  2019-09-06T17:54:56.302Z   \n",
       "3         b2dba42b  0848ef14a8dc6892  2019-09-06T17:54:56.387Z   \n",
       "4         1bb5fbdb  0848ef14a8dc6892  2019-09-06T17:55:03.253Z   \n",
       "...            ...               ...                       ...   \n",
       "11341037  ab3136ba  c09b94eebfdf50a6  2019-10-10T15:11:15.584Z   \n",
       "11341038  27253bdc  6ad8ab25003ef1b0  2019-10-10T15:12:17.364Z   \n",
       "11341039  27253bdc  71904dca23b982c6  2019-10-10T15:13:04.713Z   \n",
       "11341040  27253bdc  2267b18f069e875a  2019-10-10T15:13:54.545Z   \n",
       "11341041  27253bdc  f31950f549d7c242  2019-10-10T15:15:12.483Z   \n",
       "\n",
       "                                                 event_data installation_id  \\\n",
       "0                    {\"event_code\": 2000, \"event_count\": 1}        0001e90f   \n",
       "1                    {\"event_code\": 2000, \"event_count\": 1}        0001e90f   \n",
       "2         {\"version\":\"1.0\",\"event_count\":1,\"game_time\":0...        0001e90f   \n",
       "3         {\"description\":\"Let's build a sandcastle! Firs...        0001e90f   \n",
       "4         {\"description\":\"Let's build a sandcastle! Firs...        0001e90f   \n",
       "...                                                     ...             ...   \n",
       "11341037  {\"description\":\"Tap another dinosaur.\",\"identi...        fffc0583   \n",
       "11341038             {\"event_code\": 2000, \"event_count\": 1}        fffc0583   \n",
       "11341039             {\"event_code\": 2000, \"event_count\": 1}        fffc0583   \n",
       "11341040             {\"event_code\": 2000, \"event_count\": 1}        fffc0583   \n",
       "11341041             {\"event_code\": 2000, \"event_count\": 1}        fffc0583   \n",
       "\n",
       "          event_count  event_code  game_time                          title  \\\n",
       "0                   1        2000          0        Welcome to Lost Lagoon!   \n",
       "1                   1        2000          0           Magma Peak - Level 1   \n",
       "2                   1        2000          0  Sandcastle Builder (Activity)   \n",
       "3                   2        3010         53  Sandcastle Builder (Activity)   \n",
       "4                   3        3110       6972  Sandcastle Builder (Activity)   \n",
       "...               ...         ...        ...                            ...   \n",
       "11341037           66        3110     118615                      Dino Dive   \n",
       "11341038            1        2000          0        Crystal Caves - Level 2   \n",
       "11341039            1        2000          0        Crystal Caves - Level 3   \n",
       "11341040            1        2000          0        Crystal Caves - Level 3   \n",
       "11341041            1        2000          0        Tree Top City - Level 2   \n",
       "\n",
       "              type         world  \n",
       "0             Clip          NONE  \n",
       "1             Clip     MAGMAPEAK  \n",
       "2         Activity     MAGMAPEAK  \n",
       "3         Activity     MAGMAPEAK  \n",
       "4         Activity     MAGMAPEAK  \n",
       "...            ...           ...  \n",
       "11341037      Game     MAGMAPEAK  \n",
       "11341038      Clip  CRYSTALCAVES  \n",
       "11341039      Clip  CRYSTALCAVES  \n",
       "11341040      Clip  CRYSTALCAVES  \n",
       "11341041      Clip   TREETOPCITY  \n",
       "\n",
       "[11341042 rows x 11 columns]"
      ]
     },
     "execution_count": 4,
     "metadata": {},
     "output_type": "execute_result"
    }
   ],
   "source": [
    "train_data = pd.read_csv(train_data_file)\n",
    "train_data"
   ]
  },
  {
   "cell_type": "markdown",
   "metadata": {},
   "source": [
    "## 1. event_id"
   ]
  },
  {
   "cell_type": "markdown",
   "metadata": {},
   "source": [
    "随机生成的事件类型的唯一标识符。映射到event_id规格表中的列。"
   ]
  },
  {
   "cell_type": "code",
   "execution_count": 5,
   "metadata": {},
   "outputs": [],
   "source": [
    "event_ids = train_data[\"event_id\"]"
   ]
  },
  {
   "cell_type": "code",
   "execution_count": 6,
   "metadata": {},
   "outputs": [
    {
     "data": {
      "text/plain": [
       "1325467d    274673\n",
       "bb3e370b    256179\n",
       "cf82af56    224694\n",
       "5e812b27    206129\n",
       "cfbd47c8    199734\n",
       "             ...  \n",
       "17ca3959         1\n",
       "4074bac2         1\n",
       "5dc079d8         1\n",
       "003cd2ee         1\n",
       "a8cc6fec         1\n",
       "Name: event_id, Length: 384, dtype: int64"
      ]
     },
     "execution_count": 6,
     "metadata": {},
     "output_type": "execute_result"
    }
   ],
   "source": [
    "event_count = pd.value_counts(event_ids)\n",
    "event_count"
   ]
  },
  {
   "cell_type": "code",
   "execution_count": 7,
   "metadata": {},
   "outputs": [
    {
     "data": {
      "text/plain": [
       "(pandas.core.series.Series, 384)"
      ]
     },
     "execution_count": 7,
     "metadata": {},
     "output_type": "execute_result"
    }
   ],
   "source": [
    "type(event_count), len(event_count)"
   ]
  },
  {
   "cell_type": "code",
   "execution_count": 8,
   "metadata": {},
   "outputs": [],
   "source": [
    "event_count_list = list(event_count)"
   ]
  },
  {
   "cell_type": "code",
   "execution_count": 9,
   "metadata": {},
   "outputs": [
    {
     "data": {
      "image/png": "[encoded data removed]",
      "text/plain": [
       "<Figure size 432x288 with 1 Axes>"
      ]
     },
     "metadata": {
      "needs_background": "light"
     },
     "output_type": "display_data"
    }
   ],
   "source": [
    "utils.plot_distribution(event_count_list, \"event_id\")"
   ]
  },
  {
   "cell_type": "markdown",
   "metadata": {},
   "source": [
    "## 2. game_session\n",
    "\n",
    "在单个游戏或视频播放会话中随机生成的唯一标识符分组事件。"
   ]
  },
  {
   "cell_type": "code",
   "execution_count": 11,
   "metadata": {},
   "outputs": [
    {
     "data": {
      "text/plain": [
       "0           45bb1e1b6b50c07b\n",
       "1           17eeb7f223665f53\n",
       "2           0848ef14a8dc6892\n",
       "3           0848ef14a8dc6892\n",
       "4           0848ef14a8dc6892\n",
       "                  ...       \n",
       "11341037    c09b94eebfdf50a6\n",
       "11341038    6ad8ab25003ef1b0\n",
       "11341039    71904dca23b982c6\n",
       "11341040    2267b18f069e875a\n",
       "11341041    f31950f549d7c242\n",
       "Name: game_session, Length: 11341042, dtype: object"
      ]
     },
     "execution_count": 11,
     "metadata": {},
     "output_type": "execute_result"
    }
   ],
   "source": [
    "game_sessions = train_data[\"game_session\"]\n",
    "game_sessions"
   ]
  },
  {
   "cell_type": "code",
   "execution_count": 12,
   "metadata": {},
   "outputs": [
    {
     "data": {
      "text/plain": [
       "6e6e697f2e593de1    3368\n",
       "bb1f09ec062b6660    3182\n",
       "33495c8f126e2ef9    2505\n",
       "34c82b23355e378c    2456\n",
       "8fe0ab3c3e448a04    2398\n",
       "                    ... \n",
       "a55356c6d350d816       1\n",
       "720250bcbfbd6f9a       1\n",
       "144ac319323a0d0b       1\n",
       "8632c6b10bb55c05       1\n",
       "7e39f57e80b8cdc9       1\n",
       "Name: game_session, Length: 303319, dtype: int64"
      ]
     },
     "execution_count": 12,
     "metadata": {},
     "output_type": "execute_result"
    }
   ],
   "source": [
    "game_session_count = pd.value_counts(game_sessions)\n",
    "game_session_count"
   ]
  },
  {
   "cell_type": "code",
   "execution_count": 31,
   "metadata": {},
   "outputs": [
    {
     "data": {
      "image/png": "[encoded data removed]",
      "text/plain": [
       "<Figure size 432x288 with 1 Axes>"
      ]
     },
     "metadata": {
      "needs_background": "light"
     },
     "output_type": "display_data"
    }
   ],
   "source": [
    "utils.plot_distribution(game_session_count, \"game_session\")"
   ]
  },
  {
   "cell_type": "markdown",
   "metadata": {},
   "source": [
    "## 3. timestamp\n",
    "\n",
    "客户生成的日期时间"
   ]
  },
  {
   "cell_type": "code",
   "execution_count": 14,
   "metadata": {},
   "outputs": [
    {
     "data": {
      "text/plain": [
       "0           2019-09-06T17:53:46.937Z\n",
       "1           2019-09-06T17:54:17.519Z\n",
       "2           2019-09-06T17:54:56.302Z\n",
       "3           2019-09-06T17:54:56.387Z\n",
       "4           2019-09-06T17:55:03.253Z\n",
       "                      ...           \n",
       "11341037    2019-10-10T15:11:15.584Z\n",
       "11341038    2019-10-10T15:12:17.364Z\n",
       "11341039    2019-10-10T15:13:04.713Z\n",
       "11341040    2019-10-10T15:13:54.545Z\n",
       "11341041    2019-10-10T15:15:12.483Z\n",
       "Name: timestamp, Length: 11341042, dtype: object"
      ]
     },
     "execution_count": 14,
     "metadata": {},
     "output_type": "execute_result"
    }
   ],
   "source": [
    "game_sessions = train_data[\"timestamp\"]\n",
    "game_sessions"
   ]
  },
  {
   "cell_type": "markdown",
   "metadata": {},
   "source": [
    "## 4. event_data\n",
    "\n",
    "包含事件参数的半结构化JSON格式的字符串。默认字段是：event_count，event_code，和game_time; 否则，字段由事件类型确定"
   ]
  },
  {
   "cell_type": "code",
   "execution_count": 15,
   "metadata": {},
   "outputs": [
    {
     "data": {
      "text/plain": [
       "0                      {\"event_code\": 2000, \"event_count\": 1}\n",
       "1                      {\"event_code\": 2000, \"event_count\": 1}\n",
       "2           {\"version\":\"1.0\",\"event_count\":1,\"game_time\":0...\n",
       "3           {\"description\":\"Let's build a sandcastle! Firs...\n",
       "4           {\"description\":\"Let's build a sandcastle! Firs...\n",
       "                                  ...                        \n",
       "11341037    {\"description\":\"Tap another dinosaur.\",\"identi...\n",
       "11341038               {\"event_code\": 2000, \"event_count\": 1}\n",
       "11341039               {\"event_code\": 2000, \"event_count\": 1}\n",
       "11341040               {\"event_code\": 2000, \"event_count\": 1}\n",
       "11341041               {\"event_code\": 2000, \"event_count\": 1}\n",
       "Name: event_data, Length: 11341042, dtype: object"
      ]
     },
     "execution_count": 15,
     "metadata": {},
     "output_type": "execute_result"
    }
   ],
   "source": [
    "event_datas = train_data[\"event_data\"]\n",
    "event_datas"
   ]
  },
  {
   "cell_type": "markdown",
   "metadata": {},
   "source": [
    "## 5. installation_id\n",
    "\n",
    "在单个安装的应用程序实例中随机生成的唯一标识符将游戏会话分组。"
   ]
  },
  {
   "cell_type": "code",
   "execution_count": 16,
   "metadata": {},
   "outputs": [
    {
     "data": {
      "text/plain": [
       "0           0001e90f\n",
       "1           0001e90f\n",
       "2           0001e90f\n",
       "3           0001e90f\n",
       "4           0001e90f\n",
       "              ...   \n",
       "11341037    fffc0583\n",
       "11341038    fffc0583\n",
       "11341039    fffc0583\n",
       "11341040    fffc0583\n",
       "11341041    fffc0583\n",
       "Name: installation_id, Length: 11341042, dtype: object"
      ]
     },
     "execution_count": 16,
     "metadata": {},
     "output_type": "execute_result"
    }
   ],
   "source": [
    "installation_ids = train_data[\"installation_id\"]\n",
    "installation_ids"
   ]
  },
  {
   "cell_type": "code",
   "execution_count": 28,
   "metadata": {},
   "outputs": [
    {
     "data": {
      "text/plain": [
       "f1c21eda    58988\n",
       "4d7d3d97    32749\n",
       "d25338cb    31826\n",
       "cff5a334    30918\n",
       "c9ea32e9    30402\n",
       "            ...  \n",
       "8c0bdc6d        1\n",
       "939bf552        1\n",
       "32e42f76        1\n",
       "43724b05        1\n",
       "2ef7a7fa        1\n",
       "Name: installation_id, Length: 17000, dtype: int64"
      ]
     },
     "execution_count": 28,
     "metadata": {},
     "output_type": "execute_result"
    }
   ],
   "source": [
    "installation_id_count = pd.value_counts(installation_ids)\n",
    "installation_id_count"
   ]
  },
  {
   "cell_type": "code",
   "execution_count": 30,
   "metadata": {},
   "outputs": [
    {
     "data": {
      "image/png": "[encoded data removed]",
      "text/plain": [
       "<Figure size 432x288 with 1 Axes>"
      ]
     },
     "metadata": {
      "needs_background": "light"
     },
     "output_type": "display_data"
    }
   ],
   "source": [
    "utils.plot_distribution(installation_id_count, \"installation_id\")"
   ]
  },
  {
   "cell_type": "markdown",
   "metadata": {},
   "source": [
    "## 6. event_count\n",
    "\n",
    "游戏会话内事件的增量计数器（偏移为1）。提取自event_data。"
   ]
  },
  {
   "cell_type": "code",
   "execution_count": 18,
   "metadata": {},
   "outputs": [
    {
     "data": {
      "text/plain": [
       "0            1\n",
       "1            1\n",
       "2            1\n",
       "3            2\n",
       "4            3\n",
       "            ..\n",
       "11341037    66\n",
       "11341038     1\n",
       "11341039     1\n",
       "11341040     1\n",
       "11341041     1\n",
       "Name: event_count, Length: 11341042, dtype: int64"
      ]
     },
     "execution_count": 18,
     "metadata": {},
     "output_type": "execute_result"
    }
   ],
   "source": [
    "event_counts = train_data[\"event_count\"]\n",
    "event_counts"
   ]
  },
  {
   "cell_type": "code",
   "execution_count": 19,
   "metadata": {},
   "outputs": [
    {
     "data": {
      "text/plain": [
       "1       303319\n",
       "2       117340\n",
       "3       116006\n",
       "4       113633\n",
       "5       112482\n",
       "         ...  \n",
       "3244         1\n",
       "3247         1\n",
       "3246         1\n",
       "3249         1\n",
       "3368         1\n",
       "Name: event_count, Length: 3368, dtype: int64"
      ]
     },
     "execution_count": 19,
     "metadata": {},
     "output_type": "execute_result"
    }
   ],
   "source": [
    "event_count_count = pd.value_counts(event_counts)\n",
    "event_count_count"
   ]
  },
  {
   "cell_type": "code",
   "execution_count": 32,
   "metadata": {},
   "outputs": [
    {
     "data": {
      "image/png": "[encoded data removed]",
      "text/plain": [
       "<Figure size 432x288 with 1 Axes>"
      ]
     },
     "metadata": {
      "needs_background": "light"
     },
     "output_type": "display_data"
    }
   ],
   "source": [
    "utils.plot_distribution(event_count_count, name='event_count')"
   ]
  },
  {
   "cell_type": "markdown",
   "metadata": {},
   "source": [
    "## 7. event_code\n",
    "\n",
    "事件“类别”的标识符。每个游戏唯一，但可以在多个游戏中重复。例如，事件代码“ 2000”始终标识所有游戏的“开始游戏”事件。提取自event_data。"
   ]
  },
  {
   "cell_type": "code",
   "execution_count": 21,
   "metadata": {},
   "outputs": [
    {
     "data": {
      "text/plain": [
       "0           2000\n",
       "1           2000\n",
       "2           2000\n",
       "3           3010\n",
       "4           3110\n",
       "            ... \n",
       "11341037    3110\n",
       "11341038    2000\n",
       "11341039    2000\n",
       "11341040    2000\n",
       "11341041    2000\n",
       "Name: event_code, Length: 11341042, dtype: int64"
      ]
     },
     "execution_count": 21,
     "metadata": {},
     "output_type": "execute_result"
    }
   ],
   "source": [
    "event_codes = train_data[\"event_code\"]\n",
    "event_codes"
   ]
  },
  {
   "cell_type": "code",
   "execution_count": 35,
   "metadata": {},
   "outputs": [
    {
     "data": {
      "text/plain": [
       "4070    2349642\n",
       "4030    1544814\n",
       "3010    1368695\n",
       "3110    1345452\n",
       "4020    1237789\n",
       "         ...   \n",
       "2081       8403\n",
       "2070       7654\n",
       "2075       6925\n",
       "4050       1989\n",
       "4080        966\n",
       "Name: event_code, Length: 42, dtype: int64"
      ]
     },
     "execution_count": 35,
     "metadata": {},
     "output_type": "execute_result"
    }
   ],
   "source": [
    "event_code_count = pd.value_counts(event_codes)\n",
    "event_code_count"
   ]
  },
  {
   "cell_type": "code",
   "execution_count": 36,
   "metadata": {},
   "outputs": [
    {
     "data": {
      "image/png": "[encoded data removed]",
      "text/plain": [
       "<Figure size 432x288 with 1 Axes>"
      ]
     },
     "metadata": {
      "needs_background": "light"
     },
     "output_type": "display_data"
    }
   ],
   "source": [
    "utils.plot_distribution(event_code_count, name='event_code')"
   ]
  },
  {
   "cell_type": "markdown",
   "metadata": {},
   "source": [
    "## 8. game_time\n",
    "\n",
    "自游戏会话开始以来的时间（以毫秒为单位）。提取自event_data。"
   ]
  },
  {
   "cell_type": "code",
   "execution_count": 37,
   "metadata": {},
   "outputs": [
    {
     "data": {
      "text/plain": [
       "0                0\n",
       "1                0\n",
       "2                0\n",
       "3               53\n",
       "4             6972\n",
       "             ...  \n",
       "11341037    118615\n",
       "11341038         0\n",
       "11341039         0\n",
       "11341040         0\n",
       "11341041         0\n",
       "Name: game_time, Length: 11341042, dtype: int64"
      ]
     },
     "execution_count": 37,
     "metadata": {},
     "output_type": "execute_result"
    }
   ],
   "source": [
    "game_times = train_data[\"game_time\"]\n",
    "game_times"
   ]
  },
  {
   "cell_type": "code",
   "execution_count": 38,
   "metadata": {},
   "outputs": [
    {
     "data": {
      "text/plain": [
       "0          323152\n",
       "388           804\n",
       "391           801\n",
       "395           799\n",
       "390           763\n",
       "            ...  \n",
       "1666280         1\n",
       "1518880         1\n",
       "1322304         1\n",
       "1355088         1\n",
       "585450          1\n",
       "Name: game_time, Length: 834048, dtype: int64"
      ]
     },
     "execution_count": 38,
     "metadata": {},
     "output_type": "execute_result"
    }
   ],
   "source": [
    "game_time_count = pd.value_counts(game_times)\n",
    "game_time_count"
   ]
  },
  {
   "cell_type": "code",
   "execution_count": 39,
   "metadata": {},
   "outputs": [
    {
     "data": {
      "image/png": "[encoded data removed]",
      "text/plain": [
       "<Figure size 432x288 with 1 Axes>"
      ]
     },
     "metadata": {
      "needs_background": "light"
     },
     "output_type": "display_data"
    }
   ],
   "source": [
    "utils.plot_distribution(game_time_count, name='game_time')"
   ]
  },
  {
   "cell_type": "markdown",
   "metadata": {},
   "source": [
    "## 9. title\n",
    "\n",
    "游戏或视频的标题。\n"
   ]
  },
  {
   "cell_type": "code",
   "execution_count": 40,
   "metadata": {},
   "outputs": [
    {
     "data": {
      "text/plain": [
       "0                 Welcome to Lost Lagoon!\n",
       "1                    Magma Peak - Level 1\n",
       "2           Sandcastle Builder (Activity)\n",
       "3           Sandcastle Builder (Activity)\n",
       "4           Sandcastle Builder (Activity)\n",
       "                        ...              \n",
       "11341037                        Dino Dive\n",
       "11341038          Crystal Caves - Level 2\n",
       "11341039          Crystal Caves - Level 3\n",
       "11341040          Crystal Caves - Level 3\n",
       "11341041          Tree Top City - Level 2\n",
       "Name: title, Length: 11341042, dtype: object"
      ]
     },
     "execution_count": 40,
     "metadata": {},
     "output_type": "execute_result"
    }
   ],
   "source": [
    "titles = train_data[\"title\"]\n",
    "titles"
   ]
  },
  {
   "cell_type": "code",
   "execution_count": 41,
   "metadata": {},
   "outputs": [
    {
     "data": {
      "text/plain": [
       "Chow Time                        1150974\n",
       "Sandcastle Builder (Activity)    1034332\n",
       "Scrub-A-Dub                      1016837\n",
       "Bottle Filler (Activity)         1004068\n",
       "Fireworks (Activity)              535030\n",
       "                                  ...   \n",
       "12 Monkeys                          4124\n",
       "Honey Cake                          3882\n",
       "Rulers                              3372\n",
       "Heavy, Heavier, Heaviest            3351\n",
       "Treasure Map                        2852\n",
       "Name: title, Length: 44, dtype: int64"
      ]
     },
     "execution_count": 41,
     "metadata": {},
     "output_type": "execute_result"
    }
   ],
   "source": [
    "title_count = pd.value_counts(titles)\n",
    "title_count"
   ]
  },
  {
   "cell_type": "code",
   "execution_count": 42,
   "metadata": {},
   "outputs": [
    {
     "data": {
      "image/png": "[encoded data removed]",
      "text/plain": [
       "<Figure size 432x288 with 1 Axes>"
      ]
     },
     "metadata": {
      "needs_background": "light"
     },
     "output_type": "display_data"
    }
   ],
   "source": [
    "utils.plot_distribution(title_count, name='title')"
   ]
  },
  {
   "cell_type": "markdown",
   "metadata": {},
   "source": [
    "## 10. type\n",
    "\n",
    "游戏或视频的媒体类型。可能的值为：“游戏”，“评估”，“活动”，“剪辑”。"
   ]
  },
  {
   "cell_type": "code",
   "execution_count": 43,
   "metadata": {},
   "outputs": [
    {
     "data": {
      "text/plain": [
       "0               Clip\n",
       "1               Clip\n",
       "2           Activity\n",
       "3           Activity\n",
       "4           Activity\n",
       "              ...   \n",
       "11341037        Game\n",
       "11341038        Clip\n",
       "11341039        Clip\n",
       "11341040        Clip\n",
       "11341041        Clip\n",
       "Name: type, Length: 11341042, dtype: object"
      ]
     },
     "execution_count": 43,
     "metadata": {},
     "output_type": "execute_result"
    }
   ],
   "source": [
    "types = train_data[\"type\"]\n",
    "types"
   ]
  },
  {
   "cell_type": "code",
   "execution_count": 44,
   "metadata": {},
   "outputs": [
    {
     "data": {
      "text/plain": [
       "Game          5795293\n",
       "Activity      4436728\n",
       "Assessment     925345\n",
       "Clip           183676\n",
       "Name: type, dtype: int64"
      ]
     },
     "execution_count": 44,
     "metadata": {},
     "output_type": "execute_result"
    }
   ],
   "source": [
    "type_count = pd.value_counts(types)\n",
    "type_count"
   ]
  },
  {
   "cell_type": "code",
   "execution_count": 49,
   "metadata": {},
   "outputs": [
    {
     "ename": "NameError",
     "evalue": "name 'index' is not defined",
     "output_type": "error",
     "traceback": [
      "\u001b[1;31m---------------------------------------------------------------------------\u001b[0m",
      "\u001b[1;31mNameError\u001b[0m                                 Traceback (most recent call last)",
      "\u001b[1;32m<ipython-input-49-c47507006371>\u001b[0m in \u001b[0;36m<module>\u001b[1;34m\u001b[0m\n\u001b[1;32m----> 1\u001b[1;33m \u001b[0mtype_count\u001b[0m\u001b[1;33m[\u001b[0m\u001b[0mindex\u001b[0m\u001b[1;33m]\u001b[0m\u001b[1;33m\u001b[0m\u001b[0m\n\u001b[0m",
      "\u001b[1;31mNameError\u001b[0m: name 'index' is not defined"
     ]
    }
   ],
   "source": []
  },
  {
   "cell_type": "code",
   "execution_count": 45,
   "metadata": {},
   "outputs": [
    {
     "data": {
      "image/png": "[encoded data removed]",
      "text/plain": [
       "<Figure size 432x288 with 1 Axes>"
      ]
     },
     "metadata": {
      "needs_background": "light"
     },
     "output_type": "display_data"
    }
   ],
   "source": [
    "utils.plot_distribution(type_count, name='type')"
   ]
  },
  {
   "cell_type": "code",
   "execution_count": null,
   "metadata": {},
   "outputs": [],
   "source": []
  },
  {
   "cell_type": "markdown",
   "metadata": {},
   "source": [
    "## 11. world\n",
    "\n",
    "游戏或视频所属的应用程序部分。有助于确定媒体的教育课程目标。可能的值包括：“ NONE”（在应用程序的开始屏幕上），“ REEPOTPCITY”（长度/高度），“ MAGMAPEAK”（容量/排量），“ CRYSTALCAVES”（重量）。"
   ]
  },
  {
   "cell_type": "code",
   "execution_count": 46,
   "metadata": {},
   "outputs": [
    {
     "data": {
      "text/plain": [
       "0                   NONE\n",
       "1              MAGMAPEAK\n",
       "2              MAGMAPEAK\n",
       "3              MAGMAPEAK\n",
       "4              MAGMAPEAK\n",
       "                ...     \n",
       "11341037       MAGMAPEAK\n",
       "11341038    CRYSTALCAVES\n",
       "11341039    CRYSTALCAVES\n",
       "11341040    CRYSTALCAVES\n",
       "11341041     TREETOPCITY\n",
       "Name: world, Length: 11341042, dtype: object"
      ]
     },
     "execution_count": 46,
     "metadata": {},
     "output_type": "execute_result"
    }
   ],
   "source": [
    "worlds = train_data[\"world\"]\n",
    "worlds"
   ]
  },
  {
   "cell_type": "code",
   "execution_count": 47,
   "metadata": {},
   "outputs": [
    {
     "data": {
      "text/plain": [
       "MAGMAPEAK       5023687\n",
       "CRYSTALCAVES    3232546\n",
       "TREETOPCITY     3061231\n",
       "NONE              23578\n",
       "Name: world, dtype: int64"
      ]
     },
     "execution_count": 47,
     "metadata": {},
     "output_type": "execute_result"
    }
   ],
   "source": [
    "world_count = pd.value_counts(worlds)\n",
    "world_count"
   ]
  },
  {
   "cell_type": "code",
   "execution_count": 48,
   "metadata": {},
   "outputs": [
    {
     "data": {
      "image/png": "[encoded data removed]",
      "text/plain": [
       "<Figure size 432x288 with 1 Axes>"
      ]
     },
     "metadata": {
      "needs_background": "light"
     },
     "output_type": "display_data"
    }
   ],
   "source": [
    "utils.plot_distribution(world_count, name='world')"
   ]
  },
  {
   "cell_type": "code",
   "execution_count": null,
   "metadata": {},
   "outputs": [],
   "source": []
  },
  {
   "cell_type": "code",
   "execution_count": null,
   "metadata": {},
   "outputs": [],
   "source": []
  },
  {
   "cell_type": "code",
   "execution_count": null,
   "metadata": {},
   "outputs": [],
   "source": []
  },
  {
   "cell_type": "code",
   "execution_count": 24,
   "metadata": {},
   "outputs": [
    {
     "data": {
      "text/html": [
       "<div>\n",
       "<style scoped>\n",
       "    .dataframe tbody tr th:only-of-type {\n",
       "        vertical-align: middle;\n",
       "    }\n",
       "\n",
       "    .dataframe tbody tr th {\n",
       "        vertical-align: top;\n",
       "    }\n",
       "\n",
       "    .dataframe thead th {\n",
       "        text-align: right;\n",
       "    }\n",
       "</style>\n",
       "<table border=\"1\" class=\"dataframe\">\n",
       "  <thead>\n",
       "    <tr style=\"text-align: right;\">\n",
       "      <th></th>\n",
       "      <th>event_id</th>\n",
       "      <th>game_session</th>\n",
       "      <th>timestamp</th>\n",
       "      <th>event_data</th>\n",
       "      <th>installation_id</th>\n",
       "      <th>event_count</th>\n",
       "      <th>event_code</th>\n",
       "      <th>game_time</th>\n",
       "      <th>title</th>\n",
       "      <th>type</th>\n",
       "      <th>world</th>\n",
       "    </tr>\n",
       "  </thead>\n",
       "  <tbody>\n",
       "    <tr>\n",
       "      <th>0</th>\n",
       "      <td>27253bdc</td>\n",
       "      <td>0ea9ecc81a565215</td>\n",
       "      <td>2019-09-10T16:50:24.910Z</td>\n",
       "      <td>{\"event_code\": 2000, \"event_count\": 1}</td>\n",
       "      <td>00abaee7</td>\n",
       "      <td>1</td>\n",
       "      <td>2000</td>\n",
       "      <td>0</td>\n",
       "      <td>Welcome to Lost Lagoon!</td>\n",
       "      <td>Clip</td>\n",
       "      <td>NONE</td>\n",
       "    </tr>\n",
       "    <tr>\n",
       "      <th>1</th>\n",
       "      <td>27253bdc</td>\n",
       "      <td>c1ea43d8b8261d27</td>\n",
       "      <td>2019-09-10T16:50:55.503Z</td>\n",
       "      <td>{\"event_code\": 2000, \"event_count\": 1}</td>\n",
       "      <td>00abaee7</td>\n",
       "      <td>1</td>\n",
       "      <td>2000</td>\n",
       "      <td>0</td>\n",
       "      <td>Magma Peak - Level 1</td>\n",
       "      <td>Clip</td>\n",
       "      <td>MAGMAPEAK</td>\n",
       "    </tr>\n",
       "    <tr>\n",
       "      <th>2</th>\n",
       "      <td>27253bdc</td>\n",
       "      <td>7ed86c6b72e725e2</td>\n",
       "      <td>2019-09-10T16:51:51.805Z</td>\n",
       "      <td>{\"event_code\": 2000, \"event_count\": 1}</td>\n",
       "      <td>00abaee7</td>\n",
       "      <td>1</td>\n",
       "      <td>2000</td>\n",
       "      <td>0</td>\n",
       "      <td>Magma Peak - Level 2</td>\n",
       "      <td>Clip</td>\n",
       "      <td>MAGMAPEAK</td>\n",
       "    </tr>\n",
       "    <tr>\n",
       "      <th>3</th>\n",
       "      <td>27253bdc</td>\n",
       "      <td>7e516ace50e7fe67</td>\n",
       "      <td>2019-09-10T16:53:12.825Z</td>\n",
       "      <td>{\"event_code\": 2000, \"event_count\": 1}</td>\n",
       "      <td>00abaee7</td>\n",
       "      <td>1</td>\n",
       "      <td>2000</td>\n",
       "      <td>0</td>\n",
       "      <td>Crystal Caves - Level 1</td>\n",
       "      <td>Clip</td>\n",
       "      <td>CRYSTALCAVES</td>\n",
       "    </tr>\n",
       "    <tr>\n",
       "      <th>4</th>\n",
       "      <td>7d093bf9</td>\n",
       "      <td>a022c3f60ba547e7</td>\n",
       "      <td>2019-09-10T16:54:12.115Z</td>\n",
       "      <td>{\"version\":\"1.0\",\"round\":0,\"event_count\":1,\"ga...</td>\n",
       "      <td>00abaee7</td>\n",
       "      <td>1</td>\n",
       "      <td>2000</td>\n",
       "      <td>0</td>\n",
       "      <td>Chow Time</td>\n",
       "      <td>Game</td>\n",
       "      <td>CRYSTALCAVES</td>\n",
       "    </tr>\n",
       "    <tr>\n",
       "      <th>...</th>\n",
       "      <td>...</td>\n",
       "      <td>...</td>\n",
       "      <td>...</td>\n",
       "      <td>...</td>\n",
       "      <td>...</td>\n",
       "      <td>...</td>\n",
       "      <td>...</td>\n",
       "      <td>...</td>\n",
       "      <td>...</td>\n",
       "      <td>...</td>\n",
       "      <td>...</td>\n",
       "    </tr>\n",
       "    <tr>\n",
       "      <th>1156409</th>\n",
       "      <td>c74f40cd</td>\n",
       "      <td>46ff9d3ad2be09f2</td>\n",
       "      <td>2019-09-28T21:20:40.918Z</td>\n",
       "      <td>{\"description\":\"Alright! This one is the littl...</td>\n",
       "      <td>ffe774cc</td>\n",
       "      <td>39</td>\n",
       "      <td>3121</td>\n",
       "      <td>32030</td>\n",
       "      <td>Mushroom Sorter (Assessment)</td>\n",
       "      <td>Assessment</td>\n",
       "      <td>TREETOPCITY</td>\n",
       "    </tr>\n",
       "    <tr>\n",
       "      <th>1156410</th>\n",
       "      <td>6c930e6e</td>\n",
       "      <td>46ff9d3ad2be09f2</td>\n",
       "      <td>2019-09-28T21:20:41.493Z</td>\n",
       "      <td>{\"duration\":20008,\"misses\":0,\"event_count\":40,...</td>\n",
       "      <td>ffe774cc</td>\n",
       "      <td>40</td>\n",
       "      <td>2030</td>\n",
       "      <td>32584</td>\n",
       "      <td>Mushroom Sorter (Assessment)</td>\n",
       "      <td>Assessment</td>\n",
       "      <td>TREETOPCITY</td>\n",
       "    </tr>\n",
       "    <tr>\n",
       "      <th>1156411</th>\n",
       "      <td>a5be6304</td>\n",
       "      <td>46ff9d3ad2be09f2</td>\n",
       "      <td>2019-09-28T21:20:45.499Z</td>\n",
       "      <td>{\"session_duration\":36607,\"exit_type\":\"game_co...</td>\n",
       "      <td>ffe774cc</td>\n",
       "      <td>41</td>\n",
       "      <td>2010</td>\n",
       "      <td>36607</td>\n",
       "      <td>Mushroom Sorter (Assessment)</td>\n",
       "      <td>Assessment</td>\n",
       "      <td>TREETOPCITY</td>\n",
       "    </tr>\n",
       "    <tr>\n",
       "      <th>1156412</th>\n",
       "      <td>27253bdc</td>\n",
       "      <td>96d7dc31e822cedc</td>\n",
       "      <td>2019-09-28T21:21:05.670Z</td>\n",
       "      <td>{\"event_code\": 2000, \"event_count\": 1}</td>\n",
       "      <td>ffe774cc</td>\n",
       "      <td>1</td>\n",
       "      <td>2000</td>\n",
       "      <td>0</td>\n",
       "      <td>Tree Top City - Level 3</td>\n",
       "      <td>Clip</td>\n",
       "      <td>TREETOPCITY</td>\n",
       "    </tr>\n",
       "    <tr>\n",
       "      <th>1156413</th>\n",
       "      <td>f56e0afc</td>\n",
       "      <td>6897df1e7b5ccdf7</td>\n",
       "      <td>2019-09-28T21:21:56.105Z</td>\n",
       "      <td>{\"version\":\"1.0\",\"event_count\":1,\"game_time\":0...</td>\n",
       "      <td>ffe774cc</td>\n",
       "      <td>1</td>\n",
       "      <td>2000</td>\n",
       "      <td>0</td>\n",
       "      <td>Bird Measurer (Assessment)</td>\n",
       "      <td>Assessment</td>\n",
       "      <td>TREETOPCITY</td>\n",
       "    </tr>\n",
       "  </tbody>\n",
       "</table>\n",
       "<p>1156414 rows × 11 columns</p>\n",
       "</div>"
      ],
      "text/plain": [
       "         event_id      game_session                 timestamp  \\\n",
       "0        27253bdc  0ea9ecc81a565215  2019-09-10T16:50:24.910Z   \n",
       "1        27253bdc  c1ea43d8b8261d27  2019-09-10T16:50:55.503Z   \n",
       "2        27253bdc  7ed86c6b72e725e2  2019-09-10T16:51:51.805Z   \n",
       "3        27253bdc  7e516ace50e7fe67  2019-09-10T16:53:12.825Z   \n",
       "4        7d093bf9  a022c3f60ba547e7  2019-09-10T16:54:12.115Z   \n",
       "...           ...               ...                       ...   \n",
       "1156409  c74f40cd  46ff9d3ad2be09f2  2019-09-28T21:20:40.918Z   \n",
       "1156410  6c930e6e  46ff9d3ad2be09f2  2019-09-28T21:20:41.493Z   \n",
       "1156411  a5be6304  46ff9d3ad2be09f2  2019-09-28T21:20:45.499Z   \n",
       "1156412  27253bdc  96d7dc31e822cedc  2019-09-28T21:21:05.670Z   \n",
       "1156413  f56e0afc  6897df1e7b5ccdf7  2019-09-28T21:21:56.105Z   \n",
       "\n",
       "                                                event_data installation_id  \\\n",
       "0                   {\"event_code\": 2000, \"event_count\": 1}        00abaee7   \n",
       "1                   {\"event_code\": 2000, \"event_count\": 1}        00abaee7   \n",
       "2                   {\"event_code\": 2000, \"event_count\": 1}        00abaee7   \n",
       "3                   {\"event_code\": 2000, \"event_count\": 1}        00abaee7   \n",
       "4        {\"version\":\"1.0\",\"round\":0,\"event_count\":1,\"ga...        00abaee7   \n",
       "...                                                    ...             ...   \n",
       "1156409  {\"description\":\"Alright! This one is the littl...        ffe774cc   \n",
       "1156410  {\"duration\":20008,\"misses\":0,\"event_count\":40,...        ffe774cc   \n",
       "1156411  {\"session_duration\":36607,\"exit_type\":\"game_co...        ffe774cc   \n",
       "1156412             {\"event_code\": 2000, \"event_count\": 1}        ffe774cc   \n",
       "1156413  {\"version\":\"1.0\",\"event_count\":1,\"game_time\":0...        ffe774cc   \n",
       "\n",
       "         event_count  event_code  game_time                         title  \\\n",
       "0                  1        2000          0       Welcome to Lost Lagoon!   \n",
       "1                  1        2000          0          Magma Peak - Level 1   \n",
       "2                  1        2000          0          Magma Peak - Level 2   \n",
       "3                  1        2000          0       Crystal Caves - Level 1   \n",
       "4                  1        2000          0                     Chow Time   \n",
       "...              ...         ...        ...                           ...   \n",
       "1156409           39        3121      32030  Mushroom Sorter (Assessment)   \n",
       "1156410           40        2030      32584  Mushroom Sorter (Assessment)   \n",
       "1156411           41        2010      36607  Mushroom Sorter (Assessment)   \n",
       "1156412            1        2000          0       Tree Top City - Level 3   \n",
       "1156413            1        2000          0    Bird Measurer (Assessment)   \n",
       "\n",
       "               type         world  \n",
       "0              Clip          NONE  \n",
       "1              Clip     MAGMAPEAK  \n",
       "2              Clip     MAGMAPEAK  \n",
       "3              Clip  CRYSTALCAVES  \n",
       "4              Game  CRYSTALCAVES  \n",
       "...             ...           ...  \n",
       "1156409  Assessment   TREETOPCITY  \n",
       "1156410  Assessment   TREETOPCITY  \n",
       "1156411  Assessment   TREETOPCITY  \n",
       "1156412        Clip   TREETOPCITY  \n",
       "1156413  Assessment   TREETOPCITY  \n",
       "\n",
       "[1156414 rows x 11 columns]"
      ]
     },
     "execution_count": 24,
     "metadata": {},
     "output_type": "execute_result"
    }
   ],
   "source": [
    "test_data = pd.read_csv(test_data_file)\n",
    "test_data"
   ]
  },
  {
   "cell_type": "code",
   "execution_count": null,
   "metadata": {},
   "outputs": [],
   "source": []
  },
  {
   "cell_type": "code",
   "execution_count": null,
   "metadata": {},
   "outputs": [],
   "source": []
  },
  {
   "cell_type": "code",
   "execution_count": null,
   "metadata": {},
   "outputs": [],
   "source": []
  },
  {
   "cell_type": "code",
   "execution_count": null,
   "metadata": {},
   "outputs": [],
   "source": []
  },
  {
   "cell_type": "code",
   "execution_count": null,
   "metadata": {},
   "outputs": [],
   "source": []
  },
  {
   "cell_type": "markdown",
   "metadata": {},
   "source": [
    "# train_labels"
   ]
  },
  {
   "cell_type": "markdown",
   "metadata": {},
   "source": [
    "该文件演示了如何为训练集中的评估计算基本事实。\n",
    "\n"
   ]
  },
  {
   "cell_type": "code",
   "execution_count": 25,
   "metadata": {},
   "outputs": [
    {
     "data": {
      "text/html": [
       "<div>\n",
       "<style scoped>\n",
       "    .dataframe tbody tr th:only-of-type {\n",
       "        vertical-align: middle;\n",
       "    }\n",
       "\n",
       "    .dataframe tbody tr th {\n",
       "        vertical-align: top;\n",
       "    }\n",
       "\n",
       "    .dataframe thead th {\n",
       "        text-align: right;\n",
       "    }\n",
       "</style>\n",
       "<table border=\"1\" class=\"dataframe\">\n",
       "  <thead>\n",
       "    <tr style=\"text-align: right;\">\n",
       "      <th></th>\n",
       "      <th>game_session</th>\n",
       "      <th>installation_id</th>\n",
       "      <th>title</th>\n",
       "      <th>num_correct</th>\n",
       "      <th>num_incorrect</th>\n",
       "      <th>accuracy</th>\n",
       "      <th>accuracy_group</th>\n",
       "    </tr>\n",
       "  </thead>\n",
       "  <tbody>\n",
       "    <tr>\n",
       "      <th>0</th>\n",
       "      <td>6bdf9623adc94d89</td>\n",
       "      <td>0006a69f</td>\n",
       "      <td>Mushroom Sorter (Assessment)</td>\n",
       "      <td>1</td>\n",
       "      <td>0</td>\n",
       "      <td>1.000000</td>\n",
       "      <td>3</td>\n",
       "    </tr>\n",
       "    <tr>\n",
       "      <th>1</th>\n",
       "      <td>77b8ee947eb84b4e</td>\n",
       "      <td>0006a69f</td>\n",
       "      <td>Bird Measurer (Assessment)</td>\n",
       "      <td>0</td>\n",
       "      <td>11</td>\n",
       "      <td>0.000000</td>\n",
       "      <td>0</td>\n",
       "    </tr>\n",
       "    <tr>\n",
       "      <th>2</th>\n",
       "      <td>901acc108f55a5a1</td>\n",
       "      <td>0006a69f</td>\n",
       "      <td>Mushroom Sorter (Assessment)</td>\n",
       "      <td>1</td>\n",
       "      <td>0</td>\n",
       "      <td>1.000000</td>\n",
       "      <td>3</td>\n",
       "    </tr>\n",
       "    <tr>\n",
       "      <th>3</th>\n",
       "      <td>9501794defd84e4d</td>\n",
       "      <td>0006a69f</td>\n",
       "      <td>Mushroom Sorter (Assessment)</td>\n",
       "      <td>1</td>\n",
       "      <td>1</td>\n",
       "      <td>0.500000</td>\n",
       "      <td>2</td>\n",
       "    </tr>\n",
       "    <tr>\n",
       "      <th>4</th>\n",
       "      <td>a9ef3ecb3d1acc6a</td>\n",
       "      <td>0006a69f</td>\n",
       "      <td>Bird Measurer (Assessment)</td>\n",
       "      <td>1</td>\n",
       "      <td>0</td>\n",
       "      <td>1.000000</td>\n",
       "      <td>3</td>\n",
       "    </tr>\n",
       "    <tr>\n",
       "      <th>...</th>\n",
       "      <td>...</td>\n",
       "      <td>...</td>\n",
       "      <td>...</td>\n",
       "      <td>...</td>\n",
       "      <td>...</td>\n",
       "      <td>...</td>\n",
       "      <td>...</td>\n",
       "    </tr>\n",
       "    <tr>\n",
       "      <th>17685</th>\n",
       "      <td>c996482b11d149dd</td>\n",
       "      <td>ffc90c32</td>\n",
       "      <td>Bird Measurer (Assessment)</td>\n",
       "      <td>1</td>\n",
       "      <td>0</td>\n",
       "      <td>1.000000</td>\n",
       "      <td>3</td>\n",
       "    </tr>\n",
       "    <tr>\n",
       "      <th>17686</th>\n",
       "      <td>b05a02b52d5c1f4c</td>\n",
       "      <td>ffd2871d</td>\n",
       "      <td>Cauldron Filler (Assessment)</td>\n",
       "      <td>1</td>\n",
       "      <td>0</td>\n",
       "      <td>1.000000</td>\n",
       "      <td>3</td>\n",
       "    </tr>\n",
       "    <tr>\n",
       "      <th>17687</th>\n",
       "      <td>5448d652309a6324</td>\n",
       "      <td>ffeb0b1b</td>\n",
       "      <td>Cauldron Filler (Assessment)</td>\n",
       "      <td>1</td>\n",
       "      <td>2</td>\n",
       "      <td>0.333333</td>\n",
       "      <td>1</td>\n",
       "    </tr>\n",
       "    <tr>\n",
       "      <th>17688</th>\n",
       "      <td>a6885ab824fbc32c</td>\n",
       "      <td>ffeb0b1b</td>\n",
       "      <td>Mushroom Sorter (Assessment)</td>\n",
       "      <td>0</td>\n",
       "      <td>1</td>\n",
       "      <td>0.000000</td>\n",
       "      <td>0</td>\n",
       "    </tr>\n",
       "    <tr>\n",
       "      <th>17689</th>\n",
       "      <td>dadd1a4d8ac68ab0</td>\n",
       "      <td>ffeb0b1b</td>\n",
       "      <td>Cauldron Filler (Assessment)</td>\n",
       "      <td>1</td>\n",
       "      <td>2</td>\n",
       "      <td>0.333333</td>\n",
       "      <td>1</td>\n",
       "    </tr>\n",
       "  </tbody>\n",
       "</table>\n",
       "<p>17690 rows × 7 columns</p>\n",
       "</div>"
      ],
      "text/plain": [
       "           game_session installation_id                         title  \\\n",
       "0      6bdf9623adc94d89        0006a69f  Mushroom Sorter (Assessment)   \n",
       "1      77b8ee947eb84b4e        0006a69f    Bird Measurer (Assessment)   \n",
       "2      901acc108f55a5a1        0006a69f  Mushroom Sorter (Assessment)   \n",
       "3      9501794defd84e4d        0006a69f  Mushroom Sorter (Assessment)   \n",
       "4      a9ef3ecb3d1acc6a        0006a69f    Bird Measurer (Assessment)   \n",
       "...                 ...             ...                           ...   \n",
       "17685  c996482b11d149dd        ffc90c32    Bird Measurer (Assessment)   \n",
       "17686  b05a02b52d5c1f4c        ffd2871d  Cauldron Filler (Assessment)   \n",
       "17687  5448d652309a6324        ffeb0b1b  Cauldron Filler (Assessment)   \n",
       "17688  a6885ab824fbc32c        ffeb0b1b  Mushroom Sorter (Assessment)   \n",
       "17689  dadd1a4d8ac68ab0        ffeb0b1b  Cauldron Filler (Assessment)   \n",
       "\n",
       "       num_correct  num_incorrect  accuracy  accuracy_group  \n",
       "0                1              0  1.000000               3  \n",
       "1                0             11  0.000000               0  \n",
       "2                1              0  1.000000               3  \n",
       "3                1              1  0.500000               2  \n",
       "4                1              0  1.000000               3  \n",
       "...            ...            ...       ...             ...  \n",
       "17685            1              0  1.000000               3  \n",
       "17686            1              0  1.000000               3  \n",
       "17687            1              2  0.333333               1  \n",
       "17688            0              1  0.000000               0  \n",
       "17689            1              2  0.333333               1  \n",
       "\n",
       "[17690 rows x 7 columns]"
      ]
     },
     "execution_count": 25,
     "metadata": {},
     "output_type": "execute_result"
    }
   ],
   "source": [
    "train_labels_data = pd.read_csv(train_labels_file)\n",
    "train_labels_data"
   ]
  },
  {
   "cell_type": "code",
   "execution_count": null,
   "metadata": {},
   "outputs": [],
   "source": []
  },
  {
   "cell_type": "code",
   "execution_count": null,
   "metadata": {},
   "outputs": [],
   "source": []
  },
  {
   "cell_type": "code",
   "execution_count": null,
   "metadata": {},
   "outputs": [],
   "source": []
  },
  {
   "cell_type": "code",
   "execution_count": null,
   "metadata": {},
   "outputs": [],
   "source": []
  },
  {
   "cell_type": "code",
   "execution_count": null,
   "metadata": {},
   "outputs": [],
   "source": []
  },
  {
   "cell_type": "code",
   "execution_count": null,
   "metadata": {},
   "outputs": [],
   "source": []
  },
  {
   "cell_type": "code",
   "execution_count": null,
   "metadata": {},
   "outputs": [],
   "source": []
  },
  {
   "cell_type": "markdown",
   "metadata": {},
   "source": [
    "# specs"
   ]
  },
  {
   "cell_type": "markdown",
   "metadata": {},
   "source": [
    "该文件提供了各种事件类型的规范。\n",
    "\n",
    "- `event_id` - 事件类型的全局唯一标识符。加入`event_id`事件表中的列。\n",
    "\n",
    "- `info` -事件说明。\n",
    "\n",
    "- `args` - 事件参数的JSON格式字符串。每个参数包含：\n",
    "\n",
    "- `name` -参数名称。\n",
    "\n",
    "- `type` - 参数的类型（`string`，`int`，`number`，`object`，`array`）。\n",
    "\n",
    "- `info` -参数的说明。"
   ]
  },
  {
   "cell_type": "code",
   "execution_count": 26,
   "metadata": {},
   "outputs": [
    {
     "data": {
      "text/html": [
       "<div>\n",
       "<style scoped>\n",
       "    .dataframe tbody tr th:only-of-type {\n",
       "        vertical-align: middle;\n",
       "    }\n",
       "\n",
       "    .dataframe tbody tr th {\n",
       "        vertical-align: top;\n",
       "    }\n",
       "\n",
       "    .dataframe thead th {\n",
       "        text-align: right;\n",
       "    }\n",
       "</style>\n",
       "<table border=\"1\" class=\"dataframe\">\n",
       "  <thead>\n",
       "    <tr style=\"text-align: right;\">\n",
       "      <th></th>\n",
       "      <th>event_id</th>\n",
       "      <th>info</th>\n",
       "      <th>args</th>\n",
       "    </tr>\n",
       "  </thead>\n",
       "  <tbody>\n",
       "    <tr>\n",
       "      <th>0</th>\n",
       "      <td>2b9272f4</td>\n",
       "      <td>The end of system-initiated feedback (Correct)...</td>\n",
       "      <td>[{\"name\":\"game_time\",\"type\":\"int\",\"info\":\"mill...</td>\n",
       "    </tr>\n",
       "    <tr>\n",
       "      <th>1</th>\n",
       "      <td>df4fe8b6</td>\n",
       "      <td>The end of system-initiated feedback (Incorrec...</td>\n",
       "      <td>[{\"name\":\"game_time\",\"type\":\"int\",\"info\":\"mill...</td>\n",
       "    </tr>\n",
       "    <tr>\n",
       "      <th>2</th>\n",
       "      <td>3babcb9b</td>\n",
       "      <td>The end of system-initiated instruction event ...</td>\n",
       "      <td>[{\"name\":\"game_time\",\"type\":\"int\",\"info\":\"mill...</td>\n",
       "    </tr>\n",
       "    <tr>\n",
       "      <th>3</th>\n",
       "      <td>7f0836bf</td>\n",
       "      <td>The end of system-initiated instruction event ...</td>\n",
       "      <td>[{\"name\":\"game_time\",\"type\":\"int\",\"info\":\"mill...</td>\n",
       "    </tr>\n",
       "    <tr>\n",
       "      <th>4</th>\n",
       "      <td>ab3136ba</td>\n",
       "      <td>The end of system-initiated instruction event ...</td>\n",
       "      <td>[{\"name\":\"game_time\",\"type\":\"int\",\"info\":\"mill...</td>\n",
       "    </tr>\n",
       "    <tr>\n",
       "      <th>...</th>\n",
       "      <td>...</td>\n",
       "      <td>...</td>\n",
       "      <td>...</td>\n",
       "    </tr>\n",
       "    <tr>\n",
       "      <th>381</th>\n",
       "      <td>29f54413</td>\n",
       "      <td>The start round event is triggered at the star...</td>\n",
       "      <td>[{\"name\":\"game_time\",\"type\":\"int\",\"info\":\"mill...</td>\n",
       "    </tr>\n",
       "    <tr>\n",
       "      <th>382</th>\n",
       "      <td>06372577</td>\n",
       "      <td>The start tutorial event is triggered at the s...</td>\n",
       "      <td>[{\"name\":\"game_time\",\"type\":\"int\",\"info\":\"mill...</td>\n",
       "    </tr>\n",
       "    <tr>\n",
       "      <th>383</th>\n",
       "      <td>2a444e03</td>\n",
       "      <td>This event occurs when the player picks up a w...</td>\n",
       "      <td>[{\"name\":\"game_time\",\"type\":\"int\",\"info\":\"mill...</td>\n",
       "    </tr>\n",
       "    <tr>\n",
       "      <th>384</th>\n",
       "      <td>9e6b7fb5</td>\n",
       "      <td>This event occurs when the player clicks on th...</td>\n",
       "      <td>[{\"name\":\"game_time\",\"type\":\"int\",\"info\":\"mill...</td>\n",
       "    </tr>\n",
       "    <tr>\n",
       "      <th>385</th>\n",
       "      <td>d3640339</td>\n",
       "      <td>This event occurs when the player clicks on th...</td>\n",
       "      <td>[{\"name\":\"game_time\",\"type\":\"int\",\"info\":\"mill...</td>\n",
       "    </tr>\n",
       "  </tbody>\n",
       "</table>\n",
       "<p>386 rows × 3 columns</p>\n",
       "</div>"
      ],
      "text/plain": [
       "     event_id                                               info  \\\n",
       "0    2b9272f4  The end of system-initiated feedback (Correct)...   \n",
       "1    df4fe8b6  The end of system-initiated feedback (Incorrec...   \n",
       "2    3babcb9b  The end of system-initiated instruction event ...   \n",
       "3    7f0836bf  The end of system-initiated instruction event ...   \n",
       "4    ab3136ba  The end of system-initiated instruction event ...   \n",
       "..        ...                                                ...   \n",
       "381  29f54413  The start round event is triggered at the star...   \n",
       "382  06372577  The start tutorial event is triggered at the s...   \n",
       "383  2a444e03  This event occurs when the player picks up a w...   \n",
       "384  9e6b7fb5  This event occurs when the player clicks on th...   \n",
       "385  d3640339  This event occurs when the player clicks on th...   \n",
       "\n",
       "                                                  args  \n",
       "0    [{\"name\":\"game_time\",\"type\":\"int\",\"info\":\"mill...  \n",
       "1    [{\"name\":\"game_time\",\"type\":\"int\",\"info\":\"mill...  \n",
       "2    [{\"name\":\"game_time\",\"type\":\"int\",\"info\":\"mill...  \n",
       "3    [{\"name\":\"game_time\",\"type\":\"int\",\"info\":\"mill...  \n",
       "4    [{\"name\":\"game_time\",\"type\":\"int\",\"info\":\"mill...  \n",
       "..                                                 ...  \n",
       "381  [{\"name\":\"game_time\",\"type\":\"int\",\"info\":\"mill...  \n",
       "382  [{\"name\":\"game_time\",\"type\":\"int\",\"info\":\"mill...  \n",
       "383  [{\"name\":\"game_time\",\"type\":\"int\",\"info\":\"mill...  \n",
       "384  [{\"name\":\"game_time\",\"type\":\"int\",\"info\":\"mill...  \n",
       "385  [{\"name\":\"game_time\",\"type\":\"int\",\"info\":\"mill...  \n",
       "\n",
       "[386 rows x 3 columns]"
      ]
     },
     "execution_count": 26,
     "metadata": {},
     "output_type": "execute_result"
    }
   ],
   "source": [
    "event_specs_data = pd.read_csv(event_specs_file)\n",
    "event_specs_data"
   ]
  },
  {
   "cell_type": "code",
   "execution_count": null,
   "metadata": {},
   "outputs": [],
   "source": []
  },
  {
   "cell_type": "code",
   "execution_count": null,
   "metadata": {},
   "outputs": [],
   "source": []
  },
  {
   "cell_type": "code",
   "execution_count": null,
   "metadata": {},
   "outputs": [],
   "source": []
  },
  {
   "cell_type": "code",
   "execution_count": null,
   "metadata": {},
   "outputs": [],
   "source": []
  },
  {
   "cell_type": "markdown",
   "metadata": {},
   "source": [
    "# sample_submission"
   ]
  },
  {
   "cell_type": "code",
   "execution_count": null,
   "metadata": {},
   "outputs": [],
   "source": []
  }
 ],
 "metadata": {
  "kernelspec": {
   "display_name": "Python 3",
   "language": "python",
   "name": "python3"
  },
  "language_info": {
   "codemirror_mode": {
    "name": "ipython",
    "version": 3
   },
   "file_extension": ".py",
   "mimetype": "text/x-python",
   "name": "python",
   "nbconvert_exporter": "python",
   "pygments_lexer": "ipython3",
   "version": "3.6.0"
  }
 },
 "nbformat": 4,
 "nbformat_minor": 2
}
