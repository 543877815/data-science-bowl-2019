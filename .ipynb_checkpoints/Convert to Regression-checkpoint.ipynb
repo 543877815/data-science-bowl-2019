{
 "cells": [
  {
   "cell_type": "code",
   "execution_count": 69,
   "metadata": {
    "_cell_guid": "b1076dfc-b9ad-4769-8c92-a6c4dae69d19",
    "_uuid": "8f2839f25d086af736a60e9eeb907d3b93b6e0e5"
   },
   "outputs": [
    {
     "name": "stdout",
     "output_type": "stream",
     "text": [
      "data/sample_submission.csv\n",
      "data/reduce_test.csv\n",
      "data/train_labels.csv\n",
      "data/test.csv\n",
      "data/reduce_train.csv\n",
      "data/train.csv\n",
      "data/specs.csv\n"
     ]
    }
   ],
   "source": [
    "# This Python 3 environment comes with many helpful analytics libraries installed\n",
    "# It is defined by the kaggle/python docker image: https://github.com/kaggle/docker-python\n",
    "# For example, here's several helpful packages to load in \n",
    "\n",
    "import numpy as np # linear algebra\n",
    "import pandas as pd # data processing, CSV file I/O (e.g. pd.read_csv)\n",
    "import matplotlib.pyplot as plt\n",
    "import xgboost as xgb\n",
    "from xgboost import XGBClassifier, XGBRegressor\n",
    "from xgboost import plot_importance\n",
    "from catboost import CatBoostRegressor\n",
    "from matplotlib import pyplot\n",
    "import shap\n",
    "\n",
    "base_dir = 'data/'\n",
    "\n",
    "import os\n",
    "for dirname, _, filenames in os.walk(base_dir):\n",
    "    for filename in filenames:\n",
    "        print(os.path.join(dirname, filename))\n",
    "\n",
    "# Any results you write to the current directory are saved as output.\n",
    "from time import time\n",
    "from tqdm import tqdm_notebook as tqdm\n",
    "from collections import Counter\n",
    "from scipy import stats\n",
    "import lightgbm as lgb\n",
    "from sklearn.metrics import cohen_kappa_score, mean_squared_error\n",
    "from sklearn.model_selection import KFold, StratifiedKFold\n",
    "from sklearn.linear_model import LinearRegression\n",
    "from bayes_opt import BayesianOptimization\n",
    "from sklearn.metrics import mean_squared_error\n",
    "from datetime import datetime\n",
    "import gc\n",
    "import json\n",
    "import warnings\n",
    "warnings.simplefilter(action='ignore', category=FutureWarning)\n",
    "\n",
    "pd.set_option('display.max_columns', 1000)"
   ]
  },
  {
   "cell_type": "markdown",
   "metadata": {
    "_cell_guid": "79c7e3d0-c299-4dcb-8224-4455121ee9b0",
    "_uuid": "d629ff2d2480ee46fbb7e2d37f6b5fab8052498a",
    "collapsed": true
   },
   "source": [
    "# Objective\n",
    "\n",
    "* In the last notebook we create our baseline model including a feature selection part. \n",
    "* Cohen cappa score of 0.456 (lb) with a local cv score of 0.529\n",
    "* In this notebook we are going to add more features and remove others that i think they overfitt the train set and then check if our local cv score improve.\n",
    "* Next, we will check if this improvement aligns with the lb."
   ]
  },
  {
   "cell_type": "markdown",
   "metadata": {},
   "source": [
    "# Notes\n",
    "* Check the distribution of the target variable of the out of folds score and the prediction distribution. A good model should more or less have the same distribution."
   ]
  },
  {
   "cell_type": "code",
   "execution_count": 64,
   "metadata": {},
   "outputs": [],
   "source": [
    "def eval_qwk_lgb_regr(y_true, y_pred):\n",
    "    \"\"\"\n",
    "    Fast cappa eval function for lgb.\n",
    "    \"\"\"\n",
    "    dist = Counter(reduce_train['accuracy_group'])\n",
    "    for k in dist:\n",
    "        dist[k] /= len(reduce_train)\n",
    "    reduce_train['accuracy_group'].hist()\n",
    "    \n",
    "    acum = 0\n",
    "    bound = {}\n",
    "    for i in range(3):\n",
    "        acum += dist[i]\n",
    "        bound[i] = np.percentile(y_pred, acum * 100)\n",
    "\n",
    "    def classify(x):\n",
    "        if x <= bound[0]:\n",
    "            return 0\n",
    "        elif x <= bound[1]:\n",
    "            return 1\n",
    "        elif x <= bound[2]:\n",
    "            return 2\n",
    "        else:\n",
    "            return 3\n",
    "\n",
    "    y_pred = np.array(list(map(classify, y_pred))).reshape(y_true.shape)\n",
    "\n",
    "    return 'cappa', cohen_kappa_score(y_true, y_pred, weights='quadratic'), True\n",
    "\n",
    "def cohenkappa(ypred, y):\n",
    "    y = y.get_label().astype(\"int\")\n",
    "    ypred = ypred.reshape((4, -1)).argmax(axis = 0)\n",
    "    loss = cohenkappascore(y, y_pred, weights = 'quadratic')\n",
    "    return \"cappa\", loss, True\n",
    "\n",
    "def timer(start_time=None):\n",
    "    if not start_time:\n",
    "        start_time = datetime.now()\n",
    "        return start_time\n",
    "    elif start_time:\n",
    "        thour, temp_sec = divmod(\n",
    "            (datetime.now() - start_time).total_seconds(), 3600)\n",
    "        tmin, tsec = divmod(temp_sec, 60)\n",
    "        print('\\n Time taken: %i hours %i minutes and %s seconds.' % (thour, tmin, round(tsec, 2)))"
   ]
  },
  {
   "cell_type": "code",
   "execution_count": 3,
   "metadata": {},
   "outputs": [],
   "source": [
    "def read_data():\n",
    "    print('Reading train.csv file....')\n",
    "    train = pd.read_csv(base_dir + 'train.csv')\n",
    "    print('Training.csv file have {} rows and {} columns'.format(train.shape[0], train.shape[1]))\n",
    "\n",
    "    print('Reading test.csv file....')\n",
    "    test = pd.read_csv(base_dir + 'test.csv')\n",
    "    print('Test.csv file have {} rows and {} columns'.format(test.shape[0], test.shape[1]))\n",
    "\n",
    "    print('Reading train_labels.csv file....')\n",
    "    train_labels = pd.read_csv(base_dir + 'train_labels.csv')\n",
    "    print('Train_labels.csv file have {} rows and {} columns'.format(train_labels.shape[0], train_labels.shape[1]))\n",
    "\n",
    "    print('Reading specs.csv file....')\n",
    "    specs = pd.read_csv(base_dir + 'specs.csv')\n",
    "    print('Specs.csv file have {} rows and {} columns'.format(specs.shape[0], specs.shape[1]))\n",
    "\n",
    "    print('Reading sample_submission.csv file....')\n",
    "    sample_submission = pd.read_csv(base_dir + 'sample_submission.csv')\n",
    "    print('Sample_submission.csv file have {} rows and {} columns'.format(sample_submission.shape[0], sample_submission.shape[1]))\n",
    "    return train, test, train_labels, specs, sample_submission"
   ]
  },
  {
   "cell_type": "code",
   "execution_count": 4,
   "metadata": {},
   "outputs": [],
   "source": [
    "def encode_title(train, test, train_labels):\n",
    "    # encode title\n",
    "    train['title_event_code'] = list(map(lambda x, y: str(x) + '_' + str(y), train['title'], train['event_code']))\n",
    "    test['title_event_code'] = list(map(lambda x, y: str(x) + '_' + str(y), test['title'], test['event_code']))\n",
    "    all_title_event_code = list(set(train[\"title_event_code\"].unique()).union(test[\"title_event_code\"].unique()))\n",
    "    # make a list with all the unique 'titles' from the train and test set\n",
    "    list_of_user_activities = list(set(train['title'].unique()).union(set(test['title'].unique())))\n",
    "    # make a list with all the unique 'event_code' from the train and test set\n",
    "    list_of_event_code = list(set(train['event_code'].unique()).union(set(test['event_code'].unique())))\n",
    "    list_of_event_id = list(set(train['event_id'].unique()).union(set(test['event_id'].unique())))\n",
    "    # make a list with all the unique worlds from the train and test set\n",
    "    list_of_worlds = list(set(train['world'].unique()).union(set(test['world'].unique())))\n",
    "    # create a dictionary numerating the titles\n",
    "    activities_map = dict(zip(list_of_user_activities, np.arange(len(list_of_user_activities))))\n",
    "    activities_labels = dict(zip(np.arange(len(list_of_user_activities)), list_of_user_activities))\n",
    "    activities_world = dict(zip(list_of_worlds, np.arange(len(list_of_worlds))))\n",
    "    assess_titles = list(set(train[train['type'] == 'Assessment']['title'].value_counts().index).union(set(test[test['type'] == 'Assessment']['title'].value_counts().index)))\n",
    "    # replace the text titles with the number titles from the dict\n",
    "    train['title'] = train['title'].map(activities_map)\n",
    "    test['title'] = test['title'].map(activities_map)\n",
    "    train['world'] = train['world'].map(activities_world)\n",
    "    test['world'] = test['world'].map(activities_world)\n",
    "    train_labels['title'] = train_labels['title'].map(activities_map)\n",
    "    win_code = dict(zip(activities_map.values(), (4100*np.ones(len(activities_map))).astype('int')))\n",
    "    # then, it set one element, the 'Bird Measurer (Assessment)' as 4110, 10 more than the rest\n",
    "    win_code[activities_map['Bird Measurer (Assessment)']] = 4110\n",
    "    # convert text into datetime\n",
    "    train['timestamp'] = pd.to_datetime(train['timestamp'])\n",
    "    test['timestamp'] = pd.to_datetime(test['timestamp'])\n",
    "    \n",
    "    \n",
    "    return train, test, train_labels, win_code, list_of_user_activities, list_of_event_code, activities_labels, assess_titles, list_of_event_id, all_title_event_code\n",
    "\n",
    "media_sequence = {'Welcome to Lost Lagoon!': 19, 'Tree Top City - Level 1':17, 'Ordering Spheres':61, 'Costume Box':61,'12 Monkeys':109, 'Tree Top City - Level 2':25, \"Pirate's Tale\":80, \n",
    "                  'Treasure Map':156, 'Tree Top City - Level 3':26, 'Rulers':126, 'Magma Peak - Level 1':20, 'Slop Problem':60, 'Magma Peak - Level 2':22, 'Crystal Caves - Level 1':18, \n",
    "                  'Balancing Act':72,'Lifting Heavy Things':118, 'Crystal Caves - Level 2':24, 'Honey Cake':142, 'Crystal Caves - Level 3':19, 'Heavy, Heavier, Heaviest':61}"
   ]
  },
  {
   "cell_type": "code",
   "execution_count": 5,
   "metadata": {},
   "outputs": [],
   "source": [
    "# this is the function that convert the raw data into processed features\n",
    "def get_data(user_sample, test_set=False):\n",
    "    '''\n",
    "    The user_sample is a DataFrame from train or test where the only one \n",
    "    installation_id is filtered\n",
    "    And the test_set parameter is related with the labels processing, that is only requered\n",
    "    if test_set=False\n",
    "    '''\n",
    "    # Constants and parameters declaration\n",
    "    last_activity = 0\n",
    "    \n",
    "    user_activities_count = {'Clip':0, 'Activity': 0, 'Assessment': 0, 'Game':0}\n",
    "    user_clip_time = []\n",
    "    user_activity_time = []\n",
    "    user_game_time = []\n",
    "    \n",
    "    # new features: time spent in each activity\n",
    "    last_session_time_sec = 0\n",
    "    accuracy_groups = {0:0, 1:0, 2:0, 3:0}\n",
    "    all_assessments = []\n",
    "    accumulated_accuracy_group = 0\n",
    "    accumulated_accuracy = 0\n",
    "    accumulated_correct_attempts = 0 \n",
    "    accumulated_uncorrect_attempts = 0\n",
    "    accumulated_actions = 0\n",
    "    counter = 0\n",
    "    time_first_activity = float(user_sample['timestamp'].values[0])\n",
    "    durations = []\n",
    "    last_accuracy_title = {'acc_' + title: -1 for title in assess_titles}\n",
    "    event_code_count: Dict[str, int] = {ev: 0 for ev in list_of_event_code}\n",
    "    event_id_count: Dict[str, int] = {eve: 0 for eve in list_of_event_id}\n",
    "    title_count: Dict[str, int] = {eve: 0 for eve in activities_labels.values()} \n",
    "    title_event_code_count: Dict[str, int] = {t_eve: 0 for t_eve in all_title_event_code}\n",
    "    time_spent_each_act = {t+\"_time\": 0 for t in list_of_user_activities}\n",
    "        \n",
    "    # last features\n",
    "    sessions_count = 0\n",
    "    \n",
    "    # itarates through each session of one instalation_id\n",
    "    for i, session in user_sample.groupby('game_session', sort=False):\n",
    "        # i = game_session_id\n",
    "        # session is a DataFrame that contain only one game_session\n",
    "        \n",
    "        # get some sessions information\n",
    "        session_type = session['type'].iloc[0]\n",
    "        session_title = session['title'].iloc[0]\n",
    "        session_title_text = activities_labels[session_title]\n",
    "        \n",
    "        if(session_type=='Clip'):\n",
    "            time_spent = media_sequence[session_title_text]\n",
    "            user_clip_time.append(time_spent)\n",
    "            time_spent_each_act[activities_labels[session_title] + \"_time\"] += time_spent\n",
    "            \n",
    "        elif(session_type=='Activity'):\n",
    "            time_spent = (session.iloc[-1, 2] - session.iloc[0, 2]).seconds\n",
    "            user_activity_time.append(time_spent)\n",
    "            time_spent_each_act[activities_labels[session_title] + \"_time\"] += time_spent\n",
    "        \n",
    "        elif (session_type == 'Game'):\n",
    "            time_spent = (session.iloc[-1, 2] - session.iloc[0, 2]).seconds\n",
    "            user_game_time.append(time_spent)\n",
    "            time_spent_each_act[activities_labels[session_title] + \"_time\"] += time_spent\n",
    "                    \n",
    "            \n",
    "        # for each assessment, and only this kind off session, the features below are processed\n",
    "        # and a register are generated\n",
    "        if (session_type == 'Assessment') & (test_set or len(session)>1):\n",
    "            # search for event_code 4100, that represents the assessments trial\n",
    "            all_attempts = session.query(f'event_code == {win_code[session_title]}')\n",
    "            # then, check the numbers of wins and the number of losses\n",
    "            true_attempts = all_attempts['event_data'].str.contains('true').sum()\n",
    "            false_attempts = all_attempts['event_data'].str.contains('false').sum()\n",
    "            # copy a dict to use as feature template, it's initialized with some itens: \n",
    "            # {'Clip':0, 'Activity': 0, 'Assessment': 0, 'Game':0}\n",
    "            features = user_activities_count.copy()\n",
    "            features.update(last_accuracy_title.copy())\n",
    "            features.update(event_code_count.copy())\n",
    "            features.update(event_id_count.copy())\n",
    "            features.update(title_count.copy())\n",
    "            features.update(title_event_code_count.copy())\n",
    "            features.update(last_accuracy_title.copy())\n",
    "            features.update(time_spent_each_act.copy())\n",
    "            features['installation_session_count'] = sessions_count\n",
    "            \n",
    "            variety_features = [('var_event_code', event_code_count),\n",
    "                              ('var_event_id', event_id_count),\n",
    "                               ('var_title', title_count),\n",
    "                               ('var_title_event_code', title_event_code_count)]\n",
    "            \n",
    "            for name, dict_counts in variety_features:\n",
    "                arr = np.array(list(dict_counts.values()))\n",
    "                features[name] = np.count_nonzero(arr)\n",
    "                 \n",
    "            # get installation_id for aggregated features\n",
    "            features['installation_id'] = session['installation_id'].iloc[-1]\n",
    "            # add title as feature, remembering that title represents the name of the game\n",
    "            features['session_title'] = session['title'].iloc[0]\n",
    "            # the 4 lines below add the feature of the history of the trials of this player\n",
    "            # this is based on the all time attempts so far, at the moment of this assessment\n",
    "            features['accumulated_correct_attempts'] = accumulated_correct_attempts\n",
    "            features['accumulated_uncorrect_attempts'] = accumulated_uncorrect_attempts\n",
    "            accumulated_correct_attempts += true_attempts \n",
    "            accumulated_uncorrect_attempts += false_attempts\n",
    "            # the time spent in the app so far\n",
    "            if durations == []:\n",
    "                features['duration_mean'] = 0\n",
    "                features['duration_std'] = 0\n",
    "            else:\n",
    "                features['duration_mean'] = np.mean(durations)\n",
    "                features['duration_std'] = np.std(durations)   \n",
    "                \n",
    "            if user_clip_time == []:\n",
    "                features['clip_time_mean'] = 0\n",
    "            else:\n",
    "                features['clip_time_mean'] = np.mean(user_clip_time)\n",
    "            if user_activity_time == []:\n",
    "                features['activity_time_mean'] = 0\n",
    "            else:\n",
    "                features['activity_time_mean'] = np.mean(user_activity_time)\n",
    "            if user_game_time == []:\n",
    "                features['game_time_mean'] = 0\n",
    "            else:\n",
    "                features['game_time_mean'] = np.mean(user_game_time)\n",
    "                \n",
    "            time_spent = (session.iloc[-1, 2] - session.iloc[0, 2]).seconds\n",
    "            time_spent_each_act[activities_labels[session_title] + \"_time\"] += time_spent\n",
    "            durations.append(time_spent)\n",
    "            # the accurace is the all time wins divided by the all time attempts\n",
    "            features['accumulated_accuracy'] = accumulated_accuracy/counter if counter > 0 else 0\n",
    "            accuracy = true_attempts/(true_attempts+false_attempts) if (true_attempts+false_attempts) != 0 else 0\n",
    "            accumulated_accuracy += accuracy\n",
    "            last_accuracy_title['acc_' + session_title_text] = accuracy\n",
    "            # a feature of the current accuracy categorized\n",
    "            # it is a counter of how many times this player was in each accuracy group\n",
    "            if accuracy == 0:\n",
    "                features['accuracy_group'] = 0\n",
    "            elif accuracy == 1:\n",
    "                features['accuracy_group'] = 3\n",
    "            elif accuracy == 0.5:\n",
    "                features['accuracy_group'] = 2\n",
    "            else:\n",
    "                features['accuracy_group'] = 1\n",
    "            features.update(accuracy_groups)\n",
    "            accuracy_groups[features['accuracy_group']] += 1\n",
    "            # mean of the all accuracy groups of this player\n",
    "            features['accumulated_accuracy_group'] = accumulated_accuracy_group/counter if counter > 0 else 0\n",
    "            accumulated_accuracy_group += features['accuracy_group']\n",
    "            # how many actions the player has done so far, it is initialized as 0 and updated some lines below\n",
    "            features['accumulated_actions'] = accumulated_actions\n",
    "            \n",
    "            # there are some conditions to allow this features to be inserted in the datasets\n",
    "            # if it's a test set, all sessions belong to the final dataset\n",
    "            # it it's a train, needs to be passed throught this clausule: session.query(f'event_code == {win_code[session_title]}')\n",
    "            # that means, must exist an event_code 4100 or 4110\n",
    "            if test_set:\n",
    "                all_assessments.append(features)\n",
    "            elif true_attempts+false_attempts > 0:\n",
    "                all_assessments.append(features)\n",
    "                \n",
    "            counter += 1\n",
    "        \n",
    "        sessions_count += 1\n",
    "        # this piece counts how many actions was made in each event_code so far\n",
    "        def update_counters(counter: dict, col: str):\n",
    "                num_of_session_count = Counter(session[col])\n",
    "                for k in num_of_session_count.keys():\n",
    "                    x = k\n",
    "                    if col == 'title':\n",
    "                        x = activities_labels[k]\n",
    "                    counter[x] += num_of_session_count[k]\n",
    "                return counter\n",
    "            \n",
    "        event_code_count = update_counters(event_code_count, \"event_code\")\n",
    "        event_id_count = update_counters(event_id_count, \"event_id\")\n",
    "        title_count = update_counters(title_count, 'title')\n",
    "        title_event_code_count = update_counters(title_event_code_count, 'title_event_code')\n",
    "\n",
    "        # counts how many actions the player has done so far, used in the feature of the same name\n",
    "        accumulated_actions += len(session)\n",
    "        if last_activity != session_type:\n",
    "            user_activities_count[session_type] += 1\n",
    "            last_activitiy = session_type \n",
    "                        \n",
    "    # if it't the test_set, only the last assessment must be predicted, the previous are scraped\n",
    "    if test_set:\n",
    "        return all_assessments[-1]\n",
    "    # in the train_set, all assessments goes to the dataset\n",
    "    return all_assessments"
   ]
  },
  {
   "cell_type": "code",
   "execution_count": 6,
   "metadata": {},
   "outputs": [],
   "source": [
    "def get_train_and_test(train, test):\n",
    "    compiled_train = []\n",
    "    compiled_test = []\n",
    "    for i, (ins_id, user_sample) in tqdm(enumerate(train.groupby('installation_id', sort = False)), total = 17000):\n",
    "        compiled_train += get_data(user_sample)\n",
    "    for ins_id, user_sample in tqdm(test.groupby('installation_id', sort = False), total = 1000):\n",
    "        test_data = get_data(user_sample, test_set = True)\n",
    "        compiled_test.append(test_data)\n",
    "    reduce_train = pd.DataFrame(compiled_train)\n",
    "    reduce_test = pd.DataFrame(compiled_test)\n",
    "    categoricals = ['session_title']\n",
    "    return reduce_train, reduce_test, categoricals"
   ]
  },
  {
   "cell_type": "code",
   "execution_count": 7,
   "metadata": {},
   "outputs": [],
   "source": [
    "def preprocess(reduce_train, reduce_test):\n",
    "    for df in [reduce_train, reduce_test]:\n",
    "        df['installation_session_count'] = df.groupby(['installation_id'])['Clip'].transform('count')\n",
    "        df['installation_duration_mean'] = df.groupby(['installation_id'])['duration_mean'].transform('mean')\n",
    "        #df['installation_duration_std'] = df.groupby(['installation_id'])['duration_mean'].transform('std')\n",
    "        df['installation_title_nunique'] = df.groupby(['installation_id'])['session_title'].transform('nunique')\n",
    "        \n",
    "        df['sum_event_code_count'] = df[[2050, 4100, 4230, 5000, 4235, 2060, 4110, 5010, 2070, 2075, 2080, 2081, 2083, 3110, 4010, 3120, 3121, 4020, 4021, \n",
    "                                        4022, 4025, 4030, 4031, 3010, 4035, 4040, 3020, 3021, 4045, 2000, 4050, 2010, 2020, 4070, 2025, 2030, 4080, 2035, \n",
    "                                        2040, 4090, 4220, 4095]].sum(axis = 1)\n",
    "        \n",
    "        df['installation_event_code_count_mean'] = df.groupby(['installation_id'])['sum_event_code_count'].transform('mean')\n",
    "        #df['installation_event_code_count_std'] = df.groupby(['installation_id'])['sum_event_code_count'].transform('std')\n",
    "        \n",
    "    features = reduce_train.loc[(reduce_train.sum(axis=1) != 0), (reduce_train.sum(axis=0) != 0)].columns # delete useless columns\n",
    "    features = [x for x in features if x not in ['accuracy_group', 'installation_id']] + ['acc_' + title for title in assess_titles]\n",
    "   \n",
    "    return reduce_train, reduce_test, features"
   ]
  },
  {
   "cell_type": "code",
   "execution_count": 70,
   "metadata": {},
   "outputs": [
    {
     "name": "stdout",
     "output_type": "stream",
     "text": [
      "------------------------------------------------------------------------------------------------------------------------------\n",
      "|   iter    |  target   | baggin... | featur... | lambda_l1 | max_depth | min_da... | num_le... |\n",
      "-------------------------------------------------------------------------------------------------\n"
     ]
    },
    {
     "ename": "NameError",
     "evalue": "name 'target' is not defined",
     "output_type": "error",
     "traceback": [
      "\u001b[0;31m---------------------------------------------------------------------------\u001b[0m",
      "\u001b[0;31mKeyError\u001b[0m                                  Traceback (most recent call last)",
      "\u001b[0;32m/usr/local/lib/python3.6/dist-packages/bayes_opt/target_space.py\u001b[0m in \u001b[0;36mprobe\u001b[0;34m(self, params)\u001b[0m\n\u001b[1;32m    190\u001b[0m         \u001b[0;32mtry\u001b[0m\u001b[0;34m:\u001b[0m\u001b[0;34m\u001b[0m\u001b[0;34m\u001b[0m\u001b[0m\n\u001b[0;32m--> 191\u001b[0;31m             \u001b[0mtarget\u001b[0m \u001b[0;34m=\u001b[0m \u001b[0mself\u001b[0m\u001b[0;34m.\u001b[0m\u001b[0m_cache\u001b[0m\u001b[0;34m[\u001b[0m\u001b[0m_hashable\u001b[0m\u001b[0;34m(\u001b[0m\u001b[0mx\u001b[0m\u001b[0;34m)\u001b[0m\u001b[0;34m]\u001b[0m\u001b[0;34m\u001b[0m\u001b[0;34m\u001b[0m\u001b[0m\n\u001b[0m\u001b[1;32m    192\u001b[0m         \u001b[0;32mexcept\u001b[0m \u001b[0mKeyError\u001b[0m\u001b[0;34m:\u001b[0m\u001b[0;34m\u001b[0m\u001b[0;34m\u001b[0m\u001b[0m\n",
      "\u001b[0;31mKeyError\u001b[0m: (0.9600907422760716, 0.916947361200573, 5.752425228149001, 7.486959000651489, 63.14343632369223, 51.36619524747807)",
      "\nDuring handling of the above exception, another exception occurred:\n",
      "\u001b[0;31mNameError\u001b[0m                                 Traceback (most recent call last)",
      "\u001b[0;32m<ipython-input-70-f8eef49395ce>\u001b[0m in \u001b[0;36m<module>\u001b[0;34m\u001b[0m\n\u001b[1;32m     65\u001b[0m \u001b[0;32mwith\u001b[0m \u001b[0mwarnings\u001b[0m\u001b[0;34m.\u001b[0m\u001b[0mcatch_warnings\u001b[0m\u001b[0;34m(\u001b[0m\u001b[0;34m)\u001b[0m\u001b[0;34m:\u001b[0m\u001b[0;34m\u001b[0m\u001b[0;34m\u001b[0m\u001b[0m\n\u001b[1;32m     66\u001b[0m     \u001b[0mwarnings\u001b[0m\u001b[0;34m.\u001b[0m\u001b[0mfilterwarnings\u001b[0m\u001b[0;34m(\u001b[0m\u001b[0;34m'ignore'\u001b[0m\u001b[0;34m)\u001b[0m\u001b[0;34m\u001b[0m\u001b[0;34m\u001b[0m\u001b[0m\n\u001b[0;32m---> 67\u001b[0;31m     \u001b[0mLGB_BO\u001b[0m\u001b[0;34m.\u001b[0m\u001b[0mmaximize\u001b[0m\u001b[0;34m(\u001b[0m\u001b[0minit_points\u001b[0m\u001b[0;34m=\u001b[0m\u001b[0;36m2\u001b[0m\u001b[0;34m,\u001b[0m \u001b[0mn_iter\u001b[0m\u001b[0;34m=\u001b[0m\u001b[0;36m20\u001b[0m\u001b[0;34m,\u001b[0m \u001b[0macq\u001b[0m\u001b[0;34m=\u001b[0m\u001b[0;34m'ei'\u001b[0m\u001b[0;34m,\u001b[0m \u001b[0mxi\u001b[0m\u001b[0;34m=\u001b[0m\u001b[0;36m0.0\u001b[0m\u001b[0;34m)\u001b[0m\u001b[0;34m\u001b[0m\u001b[0;34m\u001b[0m\u001b[0m\n\u001b[0m\u001b[1;32m     68\u001b[0m \u001b[0mtimer\u001b[0m\u001b[0;34m(\u001b[0m\u001b[0mstart_time\u001b[0m\u001b[0;34m)\u001b[0m\u001b[0;34m\u001b[0m\u001b[0;34m\u001b[0m\u001b[0m\n",
      "\u001b[0;32m/usr/local/lib/python3.6/dist-packages/bayes_opt/bayesian_optimization.py\u001b[0m in \u001b[0;36mmaximize\u001b[0;34m(self, init_points, n_iter, acq, kappa, xi, **gp_params)\u001b[0m\n\u001b[1;32m    172\u001b[0m                 \u001b[0miteration\u001b[0m \u001b[0;34m+=\u001b[0m \u001b[0;36m1\u001b[0m\u001b[0;34m\u001b[0m\u001b[0;34m\u001b[0m\u001b[0m\n\u001b[1;32m    173\u001b[0m \u001b[0;34m\u001b[0m\u001b[0m\n\u001b[0;32m--> 174\u001b[0;31m             \u001b[0mself\u001b[0m\u001b[0;34m.\u001b[0m\u001b[0mprobe\u001b[0m\u001b[0;34m(\u001b[0m\u001b[0mx_probe\u001b[0m\u001b[0;34m,\u001b[0m \u001b[0mlazy\u001b[0m\u001b[0;34m=\u001b[0m\u001b[0;32mFalse\u001b[0m\u001b[0;34m)\u001b[0m\u001b[0;34m\u001b[0m\u001b[0;34m\u001b[0m\u001b[0m\n\u001b[0m\u001b[1;32m    175\u001b[0m \u001b[0;34m\u001b[0m\u001b[0m\n\u001b[1;32m    176\u001b[0m         \u001b[0mself\u001b[0m\u001b[0;34m.\u001b[0m\u001b[0mdispatch\u001b[0m\u001b[0;34m(\u001b[0m\u001b[0mEvents\u001b[0m\u001b[0;34m.\u001b[0m\u001b[0mOPTMIZATION_END\u001b[0m\u001b[0;34m)\u001b[0m\u001b[0;34m\u001b[0m\u001b[0;34m\u001b[0m\u001b[0m\n",
      "\u001b[0;32m/usr/local/lib/python3.6/dist-packages/bayes_opt/bayesian_optimization.py\u001b[0m in \u001b[0;36mprobe\u001b[0;34m(self, params, lazy)\u001b[0m\n\u001b[1;32m    110\u001b[0m             \u001b[0mself\u001b[0m\u001b[0;34m.\u001b[0m\u001b[0m_queue\u001b[0m\u001b[0;34m.\u001b[0m\u001b[0madd\u001b[0m\u001b[0;34m(\u001b[0m\u001b[0mparams\u001b[0m\u001b[0;34m)\u001b[0m\u001b[0;34m\u001b[0m\u001b[0;34m\u001b[0m\u001b[0m\n\u001b[1;32m    111\u001b[0m         \u001b[0;32melse\u001b[0m\u001b[0;34m:\u001b[0m\u001b[0;34m\u001b[0m\u001b[0;34m\u001b[0m\u001b[0m\n\u001b[0;32m--> 112\u001b[0;31m             \u001b[0mself\u001b[0m\u001b[0;34m.\u001b[0m\u001b[0m_space\u001b[0m\u001b[0;34m.\u001b[0m\u001b[0mprobe\u001b[0m\u001b[0;34m(\u001b[0m\u001b[0mparams\u001b[0m\u001b[0;34m)\u001b[0m\u001b[0;34m\u001b[0m\u001b[0;34m\u001b[0m\u001b[0m\n\u001b[0m\u001b[1;32m    113\u001b[0m             \u001b[0mself\u001b[0m\u001b[0;34m.\u001b[0m\u001b[0mdispatch\u001b[0m\u001b[0;34m(\u001b[0m\u001b[0mEvents\u001b[0m\u001b[0;34m.\u001b[0m\u001b[0mOPTMIZATION_STEP\u001b[0m\u001b[0;34m)\u001b[0m\u001b[0;34m\u001b[0m\u001b[0;34m\u001b[0m\u001b[0m\n\u001b[1;32m    114\u001b[0m \u001b[0;34m\u001b[0m\u001b[0m\n",
      "\u001b[0;32m/usr/local/lib/python3.6/dist-packages/bayes_opt/target_space.py\u001b[0m in \u001b[0;36mprobe\u001b[0;34m(self, params)\u001b[0m\n\u001b[1;32m    192\u001b[0m         \u001b[0;32mexcept\u001b[0m \u001b[0mKeyError\u001b[0m\u001b[0;34m:\u001b[0m\u001b[0;34m\u001b[0m\u001b[0;34m\u001b[0m\u001b[0m\n\u001b[1;32m    193\u001b[0m             \u001b[0mparams\u001b[0m \u001b[0;34m=\u001b[0m \u001b[0mdict\u001b[0m\u001b[0;34m(\u001b[0m\u001b[0mzip\u001b[0m\u001b[0;34m(\u001b[0m\u001b[0mself\u001b[0m\u001b[0;34m.\u001b[0m\u001b[0m_keys\u001b[0m\u001b[0;34m,\u001b[0m \u001b[0mx\u001b[0m\u001b[0;34m)\u001b[0m\u001b[0;34m)\u001b[0m\u001b[0;34m\u001b[0m\u001b[0;34m\u001b[0m\u001b[0m\n\u001b[0;32m--> 194\u001b[0;31m             \u001b[0mtarget\u001b[0m \u001b[0;34m=\u001b[0m \u001b[0mself\u001b[0m\u001b[0;34m.\u001b[0m\u001b[0mtarget_func\u001b[0m\u001b[0;34m(\u001b[0m\u001b[0;34m**\u001b[0m\u001b[0mparams\u001b[0m\u001b[0;34m)\u001b[0m\u001b[0;34m\u001b[0m\u001b[0;34m\u001b[0m\u001b[0m\n\u001b[0m\u001b[1;32m    195\u001b[0m             \u001b[0mself\u001b[0m\u001b[0;34m.\u001b[0m\u001b[0mregister\u001b[0m\u001b[0;34m(\u001b[0m\u001b[0mx\u001b[0m\u001b[0;34m,\u001b[0m \u001b[0mtarget\u001b[0m\u001b[0;34m)\u001b[0m\u001b[0;34m\u001b[0m\u001b[0;34m\u001b[0m\u001b[0m\n\u001b[1;32m    196\u001b[0m         \u001b[0;32mreturn\u001b[0m \u001b[0mtarget\u001b[0m\u001b[0;34m\u001b[0m\u001b[0;34m\u001b[0m\u001b[0m\n",
      "\u001b[0;32m<ipython-input-70-f8eef49395ce>\u001b[0m in \u001b[0;36mLGB_CV\u001b[0;34m(max_depth, num_leaves, min_data_in_leaf, feature_fraction, bagging_fraction, lambda_l1)\u001b[0m\n\u001b[1;32m     11\u001b[0m     \u001b[0moof\u001b[0m \u001b[0;34m=\u001b[0m \u001b[0mnp\u001b[0m\u001b[0;34m.\u001b[0m\u001b[0mzeros\u001b[0m\u001b[0;34m(\u001b[0m\u001b[0mtrain\u001b[0m\u001b[0;34m.\u001b[0m\u001b[0mshape\u001b[0m\u001b[0;34m[\u001b[0m\u001b[0;36m0\u001b[0m\u001b[0;34m]\u001b[0m\u001b[0;34m)\u001b[0m\u001b[0;34m\u001b[0m\u001b[0;34m\u001b[0m\u001b[0m\n\u001b[1;32m     12\u001b[0m \u001b[0;34m\u001b[0m\u001b[0m\n\u001b[0;32m---> 13\u001b[0;31m     \u001b[0;32mfor\u001b[0m \u001b[0mfold_\u001b[0m\u001b[0;34m,\u001b[0m \u001b[0;34m(\u001b[0m\u001b[0mtrn_idx\u001b[0m\u001b[0;34m,\u001b[0m \u001b[0mval_idx\u001b[0m\u001b[0;34m)\u001b[0m \u001b[0;32min\u001b[0m \u001b[0menumerate\u001b[0m\u001b[0;34m(\u001b[0m\u001b[0mfolds\u001b[0m\u001b[0;34m.\u001b[0m\u001b[0msplit\u001b[0m\u001b[0;34m(\u001b[0m\u001b[0mtrain\u001b[0m\u001b[0;34m.\u001b[0m\u001b[0mvalues\u001b[0m\u001b[0;34m,\u001b[0m \u001b[0mtarget\u001b[0m\u001b[0;34m.\u001b[0m\u001b[0mvalues\u001b[0m\u001b[0;34m)\u001b[0m\u001b[0;34m)\u001b[0m\u001b[0;34m:\u001b[0m\u001b[0;34m\u001b[0m\u001b[0;34m\u001b[0m\u001b[0m\n\u001b[0m\u001b[1;32m     14\u001b[0m         \u001b[0mprint\u001b[0m\u001b[0;34m(\u001b[0m\u001b[0;34m\"fold n°{}\"\u001b[0m\u001b[0;34m.\u001b[0m\u001b[0mformat\u001b[0m\u001b[0;34m(\u001b[0m\u001b[0mfold_\u001b[0m\u001b[0;34m)\u001b[0m\u001b[0;34m)\u001b[0m\u001b[0;34m\u001b[0m\u001b[0;34m\u001b[0m\u001b[0m\n\u001b[1;32m     15\u001b[0m         trn_data = lgb.Dataset(train.iloc[trn_idx][features],\n",
      "\u001b[0;31mNameError\u001b[0m: name 'target' is not defined"
     ]
    }
   ],
   "source": [
    "def LGB_CV(\n",
    "          max_depth,\n",
    "          num_leaves,\n",
    "          min_data_in_leaf,\n",
    "          feature_fraction,\n",
    "          bagging_fraction,\n",
    "          lambda_l1\n",
    "         ):\n",
    "    \n",
    "    target = 'accuracy_group'\n",
    "    folds = StratifiedKFold(n_splits=5, shuffle=True, random_state=15)\n",
    "    cv = folds.split(train_reduce, train_reduce[target])\n",
    "    oof = np.zeros(train.shape[0])\n",
    "\n",
    "    for fold_, (train_idx, val_idx) in enumerate(cv):\n",
    "        print(\"fold n°{}\".format(fold_))\n",
    "        trn_data = lgb.Dataset(train.iloc[train_idx][features],\n",
    "                               label=target.iloc[train_idx],\n",
    "                               categorical_feature=categorical_feats)\n",
    "        val_data = lgb.Dataset(train.iloc[val_idx][features],\n",
    "                               label=target.iloc[val_idx],\n",
    "                               categorical_feature=categorical_feats)\n",
    "    \n",
    "        param = {\n",
    "            'num_leaves': int(num_leaves),\n",
    "            'min_data_in_leaf': int(min_data_in_leaf), \n",
    "            'objective':'regression',\n",
    "            'max_depth': int(max_depth),\n",
    "            'learning_rate': 0.01,\n",
    "            \"boosting\": \"gbdt\",\n",
    "            \"feature_fraction\": feature_fraction,\n",
    "            \"bagging_freq\": 1,\n",
    "            \"bagging_fraction\": bagging_fraction ,\n",
    "            \"bagging_seed\": 11,\n",
    "            \"metric\": 'rmse',\n",
    "            \"lambda_l1\": lambda_l1,\n",
    "            \"verbosity\": -1\n",
    "        }\n",
    "    \n",
    "        clf = lgb.train(param,\n",
    "                        trn_data,\n",
    "                        10000,\n",
    "                        valid_sets = [trn_data, val_data],\n",
    "                        verbose_eval=500,\n",
    "                        early_stopping_rounds = 200)\n",
    "        \n",
    "        oof[val_idx] = clf.predict(train.iloc[val_idx][features],\n",
    "                                   num_iteration=clf.best_iteration)\n",
    "        \n",
    "        del clf, train_idx, val_idx\n",
    "        gc.collect()\n",
    "        \n",
    "    return -mean_squared_error(oof, target)**0.5\n",
    "\n",
    "LGB_BO = BayesianOptimization(LGB_CV, {\n",
    "    'max_depth': (4, 15),\n",
    "    'num_leaves': (5, 130),\n",
    "    'min_data_in_leaf': (10, 150),\n",
    "    'feature_fraction': (0.7, 1.0),\n",
    "    'bagging_fraction': (0.7, 1.0),\n",
    "    'lambda_l1': (0, 6)\n",
    "    })\n",
    "\n",
    "print('-'*126)\n",
    "\n",
    "start_time = timer(None)\n",
    "with warnings.catch_warnings():\n",
    "    warnings.filterwarnings('ignore')\n",
    "    LGB_BO.maximize(init_points=2, n_iter=20, acq='ei', xi=0.0)\n",
    "timer(start_time)"
   ]
  },
  {
   "cell_type": "code",
   "execution_count": 8,
   "metadata": {},
   "outputs": [],
   "source": [
    "class Base_Model(object):\n",
    "    def __init__(self, train_df, test_df, features, categoricals=[], n_splits=5, verbose=True):\n",
    "        self.train_df = train_df\n",
    "        self.test_df = test_df\n",
    "        self.features = features\n",
    "        self.n_splits = n_splits\n",
    "        self.categoricals = categoricals\n",
    "        self.target = 'accuracy_group'\n",
    "        self.cv = self.get_cv()\n",
    "        self.verbose = verbose\n",
    "        self.params = self.get_params()\n",
    "        self.y_pred, self.oof_pred, self.score, self.model = self.fit()\n",
    "        \n",
    "    def train_model(self, train_set, val_set):\n",
    "        raise NotImplementedError\n",
    "        \n",
    "    def get_cv(self):\n",
    "        cv = StratifiedKFold(n_splits=self.n_splits, shuffle=True, random_state=42)\n",
    "        return cv.split(self.train_df, self.train_df[self.target])\n",
    "    \n",
    "    def get_params(self):\n",
    "        raise NotImplementedError\n",
    "        \n",
    "    def convert_dataset(self, x_train, y_train, x_val, y_val):\n",
    "        raise NotImplementedError\n",
    "        \n",
    "    def convert_x(self, x):\n",
    "        return x\n",
    "        \n",
    "    def fit(self):\n",
    "        oof_pred = np.zeros((len(reduce_train), ))\n",
    "        y_pred = np.zeros((len(reduce_test), ))\n",
    "        for fold, (train_idx, val_idx) in enumerate(self.cv):\n",
    "            # 相当于降维\n",
    "            x_train, x_val = self.train_df[self.features].iloc[train_idx], self.train_df[self.features].iloc[val_idx]   \n",
    "            y_train, y_val = self.train_df[self.target][train_idx], self.train_df[self.target][val_idx]\n",
    "            # 针对不同模型处理数据\n",
    "            train_set, val_set = self.convert_dataset(x_train, y_train, x_val, y_val)\n",
    "            # 针对不同模型训练数据\n",
    "            model = self.train_model(train_set, val_set) \n",
    "            # 得到验证数据的预测值\n",
    "            conv_x_val = self.convert_x(x_val)\n",
    "            oof_pred[val_idx] = model.predict(conv_x_val).reshape(oof_pred[val_idx].shape)\n",
    "            # 得到测试数据的预测值\n",
    "            x_test = self.convert_x(self.test_df[self.features])\n",
    "            y_pred += model.predict(x_test).reshape(y_pred.shape) / self.n_splits\n",
    "            print('Partial score of fold {} is: {}'.format(fold, eval_qwk_lgb_regr(y_val, oof_pred[val_idx])[1]))\n",
    "        _, loss_score, _ = eval_qwk_lgb_regr(self.train_df[self.target], oof_pred)\n",
    "        if self.verbose:\n",
    "            print('Our oof cohen kappa score is: ', loss_score)\n",
    "        return y_pred, oof_pred, loss_score, model"
   ]
  },
  {
   "cell_type": "code",
   "execution_count": 67,
   "metadata": {},
   "outputs": [],
   "source": [
    "class Lgb_Model(Base_Model):\n",
    "    def train_model(self, train_set, val_set):\n",
    "        verbosity = 100 if self.verbose else 0\n",
    "        return lgb.train(self.params, train_set, valid_sets=[train_set, val_set], verbose_eval=verbosity)\n",
    "        \n",
    "    def convert_dataset(self, x_train, y_train, x_val, y_val):\n",
    "        train_set = lgb.Dataset(x_train, y_train, categorical_feature=self.categoricals)\n",
    "        val_set = lgb.Dataset(x_val, y_val, categorical_feature=self.categoricals)\n",
    "        return train_set, val_set\n",
    "        \n",
    "    def get_params(self):\n",
    "        params = {'n_estimators':2000,\n",
    "                  'boosting_type': 'gbdt',\n",
    "                  'objective': 'regression',\n",
    "                  'metric': 'rmse',\n",
    "                  'subsample': 0.75,\n",
    "                  'subsample_freq': 1,\n",
    "                  'learning_rate': 0.01,\n",
    "                  'feature_fraction': 0.9,\n",
    "                  'max_depth': 15,\n",
    "                  'lambda_l1': 1,  \n",
    "                  'lambda_l2': 1,\n",
    "                  'early_stopping_rounds': 100}\n",
    "        return params"
   ]
  },
  {
   "cell_type": "code",
   "execution_count": 10,
   "metadata": {},
   "outputs": [],
   "source": [
    "class Xgb_Model(Base_Model):\n",
    "    \n",
    "    def train_model(self, train_set, val_set):\n",
    "        verbosity = 100 if self.verbose else 0\n",
    "        return xgb.train(self.params, \n",
    "                         train_set, \n",
    "                         num_boost_round=5000, \n",
    "                         evals=[(train_set, 'train'), \n",
    "                                (val_set, 'val')], \n",
    "                         verbose_eval=verbosity,\n",
    "                         early_stopping_rounds=100)\n",
    "        \n",
    "    def convert_dataset(self, x_train, y_train, x_val, y_val):\n",
    "        train_set = xgb.DMatrix(x_train, y_train)\n",
    "        val_set = xgb.DMatrix(x_val, y_val)\n",
    "        return train_set, val_set\n",
    "    \n",
    "    def convert_x(self, x):\n",
    "        return xgb.DMatrix(x)\n",
    "        \n",
    "    def get_params(self):\n",
    "        params = {'colsample_bytree': 0.8,                 \n",
    "                  'learning_rate': 0.01,\n",
    "                  'max_depth': 10,\n",
    "                  'subsample': 1,\n",
    "                  'objective':'reg:squarederror',\n",
    "                  #'eval_metric':'rmse',\n",
    "                  'min_child_weight':3,\n",
    "                  'gamma':0.25,\n",
    "                  'n_estimators':2000}\n",
    "        return params"
   ]
  },
  {
   "cell_type": "code",
   "execution_count": 11,
   "metadata": {},
   "outputs": [],
   "source": [
    "class Catb_Model(Base_Model):\n",
    "    def train_model(self, train_set, val_set):\n",
    "        verbosity = 100 if self.verbose else 0\n",
    "        clf = CatBoostRegressor(**self.params)\n",
    "        clf.fit(train_set['X'], \n",
    "                train_set['y'], \n",
    "                eval_set=(val_set['X'], val_set['y']),\n",
    "                verbose=verbosity, \n",
    "                cat_features=self.categoricals)\n",
    "        return clf\n",
    "        \n",
    "    def convert_dataset(self, x_train, y_train, x_val, y_val):\n",
    "        train_set = {'X': x_train, 'y': y_train}\n",
    "        val_set = {'X': x_val, 'y': y_val}\n",
    "        return train_set, val_set\n",
    "        \n",
    "    def get_params(self):\n",
    "        params = {'loss_function': 'RMSE',\n",
    "                   'task_type': \"CPU\",\n",
    "                   'iterations': 2000,\n",
    "                   'od_type': \"Iter\",\n",
    "                   'depth': 10,\n",
    "                   'colsample_bylevel': 0.5, \n",
    "                   'early_stopping_rounds': 300,\n",
    "                   'l2_leaf_reg': 18,\n",
    "                   'random_seed': 42,\n",
    "                   'use_best_model': True}\n",
    "        return params"
   ]
  },
  {
   "cell_type": "code",
   "execution_count": 12,
   "metadata": {},
   "outputs": [],
   "source": [
    "import tensorflow as tf\n",
    "from sklearn.preprocessing import StandardScaler, MinMaxScaler, OneHotEncoder\n",
    "\n",
    "class Nn_Model(Base_Model):\n",
    "    def __init__(self, train_df, test_df, features, categoricals=[], n_splits=5, verbose=True):\n",
    "        features = features.copy()\n",
    "        if len(categoricals) > 0:\n",
    "            for cat in categoricals:\n",
    "                enc = OneHotEncoder()\n",
    "                train_cats = enc.fit_transform(train_df[[cat]])\n",
    "                test_cats = enc.transform(test_df[[cat]])\n",
    "                cat_cols = ['{}_{}'.format(cat, str(col)) for col in enc.active_features_]\n",
    "                features += cat_cols\n",
    "                train_cats = pd.DataFrame(train_cats.toarray(), columns=cat_cols)\n",
    "                test_cats = pd.DataFrame(test_cats.toarray(), columns=cat_cols)\n",
    "                train_df = pd.concat([train_df, train_cats], axis=1)\n",
    "                test_df = pd.concat([test_df, test_cats], axis=1)\n",
    "        scalar = MinMaxScaler()\n",
    "        train_df[features] = scalar.fit_transform(train_df[features])\n",
    "        test_df[features] = scalar.transform(test_df[features])\n",
    "        print(train_df[features].shape)\n",
    "        super().__init__(train_df, test_df, features, categoricals, n_splits, verbose)\n",
    "        \n",
    "    def train_model(self, train_set, val_set):\n",
    "        verbosity = 100 if self.verbose else 0\n",
    "        model = tf.keras.models.Sequential([\n",
    "            tf.keras.layers.Input(shape=(train_set['X'].shape[1],)),\n",
    "            tf.keras.layers.Dense(200, activation='relu'),\n",
    "            tf.keras.layers.LayerNormalization(),\n",
    "            tf.keras.layers.Dropout(0.3),\n",
    "            tf.keras.layers.Dense(100, activation='relu'),\n",
    "            tf.keras.layers.LayerNormalization(),\n",
    "            tf.keras.layers.Dropout(0.3),\n",
    "            tf.keras.layers.Dense(50, activation='relu'),\n",
    "            tf.keras.layers.LayerNormalization(),\n",
    "            tf.keras.layers.Dropout(0.3),\n",
    "            tf.keras.layers.Dense(25, activation='relu'),\n",
    "            tf.keras.layers.LayerNormalization(),\n",
    "            tf.keras.layers.Dropout(0.3),\n",
    "            tf.keras.layers.Dense(1, activation='relu')\n",
    "        ])\n",
    "        model.compile(optimizer=tf.keras.optimizers.Adam(learning_rate=4e-4), loss='mse')\n",
    "        print(model.summary())\n",
    "        save_best = tf.keras.callbacks.ModelCheckpoint('nn_model.w8', save_weights_only=True, save_best_only=True, verbose=1)\n",
    "        early_stop = tf.keras.callbacks.EarlyStopping(patience=20)\n",
    "        model.fit(train_set['X'], \n",
    "                train_set['y'], \n",
    "                validation_data=(val_set['X'], val_set['y']),\n",
    "                epochs=100,\n",
    "                 callbacks=[save_best, early_stop])\n",
    "        model.load_weights('nn_model.w8')\n",
    "        return model\n",
    "        \n",
    "    def convert_dataset(self, x_train, y_train, x_val, y_val):\n",
    "        train_set = {'X': x_train, 'y': y_train}\n",
    "        val_set = {'X': x_val, 'y': y_val}\n",
    "        return train_set, val_set\n",
    "        \n",
    "    def get_params(self):\n",
    "        return None"
   ]
  },
  {
   "cell_type": "code",
   "execution_count": 13,
   "metadata": {},
   "outputs": [],
   "source": [
    "from random import choice\n",
    "\n",
    "class Cnn_Model(Base_Model):\n",
    "    \n",
    "    def __init__(self, train_df, test_df, features, categoricals=[], n_splits=5, verbose=True):\n",
    "        features = features.copy()\n",
    "        if len(categoricals) > 0:\n",
    "            for cat in categoricals:\n",
    "                enc = OneHotEncoder()\n",
    "                train_cats = enc.fit_transform(train_df[[cat]])\n",
    "                test_cats = enc.transform(test_df[[cat]])\n",
    "                cat_cols = ['{}_{}'.format(cat, str(col)) for col in enc.active_features_]\n",
    "                features += cat_cols\n",
    "                train_cats = pd.DataFrame(train_cats.toarray(), columns=cat_cols)\n",
    "                test_cats = pd.DataFrame(test_cats.toarray(), columns=cat_cols)\n",
    "                train_df = pd.concat([train_df, train_cats], axis=1)\n",
    "                test_df = pd.concat([test_df, test_cats], axis=1)\n",
    "        scalar = MinMaxScaler()\n",
    "        train_df[features] = scalar.fit_transform(train_df[features])\n",
    "        test_df[features] = scalar.transform(test_df[features])\n",
    "        self.create_feat_2d(features)\n",
    "        super().__init__(train_df, test_df, features, categoricals, n_splits, verbose)\n",
    "        \n",
    "    def create_feat_2d(self, features, n_feats_repeat=50):\n",
    "        self.n_feats = len(features)\n",
    "        self.n_feats_repeat = n_feats_repeat\n",
    "        self.mask = np.zeros((self.n_feats_repeat, self.n_feats), dtype=np.int32)\n",
    "        for i in range(self.n_feats_repeat):\n",
    "            l = list(range(self.n_feats))\n",
    "            for j in range(self.n_feats):\n",
    "                c = l.pop(choice(range(len(l))))\n",
    "                self.mask[i, j] = c\n",
    "        self.mask = tf.convert_to_tensor(self.mask)\n",
    "        print(self.mask.shape)\n",
    "       \n",
    "    def train_model(self, train_set, val_set):\n",
    "        verbosity = 100 if self.verbose else 0\n",
    "\n",
    "        inp = tf.keras.layers.Input(shape=(self.n_feats))\n",
    "        x = tf.keras.layers.Lambda(lambda x: tf.gather(x, self.mask, axis=1))(inp)\n",
    "        x = tf.keras.layers.Reshape((self.n_feats_repeat, self.n_feats, 1))(x)\n",
    "        x = tf.keras.layers.Conv2D(18, (50, 50), strides=50, activation='relu')(x)\n",
    "        x = tf.keras.layers.Flatten()(x)\n",
    "        #x = tf.keras.layers.Dense(200, activation='relu')(x)\n",
    "        #x = tf.keras.layers.LayerNormalization()(x)\n",
    "        #x = tf.keras.layers.Dropout(0.3)(x)\n",
    "        x = tf.keras.layers.Dense(100, activation='relu')(x)\n",
    "        x = tf.keras.layers.LayerNormalization()(x)\n",
    "        x = tf.keras.layers.Dropout(0.3)(x)\n",
    "        x = tf.keras.layers.Dense(50, activation='relu')(x)\n",
    "        x = tf.keras.layers.LayerNormalization()(x)\n",
    "        x = tf.keras.layers.Dropout(0.3)(x)\n",
    "        out = tf.keras.layers.Dense(1)(x)\n",
    "        \n",
    "        model = tf.keras.Model(inp, out)\n",
    "    \n",
    "        model.compile(optimizer=tf.keras.optimizers.Adam(learning_rate=1e-4), loss='mse')\n",
    "        print(model.summary())\n",
    "        save_best = tf.keras.callbacks.ModelCheckpoint('nn_model.w8', save_weights_only=True, save_best_only=True, verbose=1)\n",
    "        early_stop = tf.keras.callbacks.EarlyStopping(patience=20)\n",
    "        model.fit(train_set['X'], \n",
    "                train_set['y'], \n",
    "                validation_data=(val_set['X'], val_set['y']),\n",
    "                epochs=100,\n",
    "                 callbacks=[save_best, early_stop])\n",
    "        model.load_weights('nn_model.w8')\n",
    "        return model\n",
    "        \n",
    "    def convert_dataset(self, x_train, y_train, x_val, y_val):\n",
    "        train_set = {'X': x_train, 'y': y_train}\n",
    "        val_set = {'X': x_val, 'y': y_val}\n",
    "        return train_set, val_set\n",
    "        \n",
    "    def get_params(self):\n",
    "        return None"
   ]
  },
  {
   "cell_type": "code",
   "execution_count": 14,
   "metadata": {},
   "outputs": [
    {
     "name": "stdout",
     "output_type": "stream",
     "text": [
      "Reading train.csv file....\n",
      "Training.csv file have 11341042 rows and 11 columns\n",
      "Reading test.csv file....\n",
      "Test.csv file have 1156414 rows and 11 columns\n",
      "Reading train_labels.csv file....\n",
      "Train_labels.csv file have 17690 rows and 7 columns\n",
      "Reading specs.csv file....\n",
      "Specs.csv file have 386 rows and 3 columns\n",
      "Reading sample_submission.csv file....\n",
      "Sample_submission.csv file have 1000 rows and 2 columns\n"
     ]
    },
    {
     "name": "stderr",
     "output_type": "stream",
     "text": [
      "This function will be removed in tqdm==5.0.0\n",
      "Please use `tqdm.notebook.tqdm` instead of `tqdm.tqdm_notebook`\n"
     ]
    },
    {
     "data": {
      "application/vnd.jupyter.widget-view+json": {
       "model_id": "e86317d8120a4e36b3eb3f8175ed1874",
       "version_major": 2,
       "version_minor": 0
      },
      "text/plain": [
       "HBox(children=(FloatProgress(value=0.0, max=17000.0), HTML(value='')))"
      ]
     },
     "metadata": {},
     "output_type": "display_data"
    },
    {
     "name": "stdout",
     "output_type": "stream",
     "text": [
      "\n"
     ]
    },
    {
     "name": "stderr",
     "output_type": "stream",
     "text": [
      "This function will be removed in tqdm==5.0.0\n",
      "Please use `tqdm.notebook.tqdm` instead of `tqdm.tqdm_notebook`\n"
     ]
    },
    {
     "data": {
      "application/vnd.jupyter.widget-view+json": {
       "model_id": "0a906bea1b9a4906bd6343c4f22e4ca0",
       "version_major": 2,
       "version_minor": 0
      },
      "text/plain": [
       "HBox(children=(FloatProgress(value=0.0, max=1000.0), HTML(value='')))"
      ]
     },
     "metadata": {},
     "output_type": "display_data"
    },
    {
     "name": "stdout",
     "output_type": "stream",
     "text": [
      "\n"
     ]
    },
    {
     "data": {
      "text/plain": [
       "((17690, 948), (1000, 948), ['session_title'])"
      ]
     },
     "execution_count": 14,
     "metadata": {},
     "output_type": "execute_result"
    }
   ],
   "source": [
    "# read data\n",
    "train, test, train_labels, specs, sample_submission = read_data()\n",
    "# get usefull dict with maping encode\n",
    "train, test, train_labels, win_code, list_of_user_activities, \\\n",
    "list_of_event_code, activities_labels, assess_titles, list_of_event_id,\\\n",
    "all_title_event_code = encode_title(train, test, train_labels)\n",
    "# tranform function to get the train and test set\n",
    "if not os.path.exists(base_dir + 'reduce_train.csv'):\n",
    "    reduce_train, reduce_test, categoricals = get_train_and_test(train, test)\n",
    "    reduce_train.to_csv(base_dir + 'reduce_train.csv')\n",
    "    reduce_test.to_csv(base_dir + 'reduce_test.csv')\n",
    "    print(reduce_train.shape, reduce_test.shape, categoricals)\n",
    "else:\n",
    "    reduce_train = pd.read_csv(base_dir + 'reduce_train.csv')\n",
    "    reduce_test = pd.read_csv(base_dir + 'reduce_test.csv')\n",
    "    categoricals = 'session_title'"
   ]
  },
  {
   "cell_type": "code",
   "execution_count": 15,
   "metadata": {},
   "outputs": [
    {
     "name": "stdout",
     "output_type": "stream",
     "text": [
      "0.028296339811674016\n"
     ]
    },
    {
     "data": {
      "image/png": "[encoded data removed]",
      "text/plain": [
       "<Figure size 432x288 with 1 Axes>"
      ]
     },
     "metadata": {
      "needs_background": "light"
     },
     "output_type": "display_data"
    },
    {
     "data": {
      "text/plain": [
       "0.028296339811674016"
      ]
     },
     "execution_count": 15,
     "metadata": {},
     "output_type": "execute_result"
    }
   ],
   "source": [
    "def stract_hists(feature, train=reduce_train, test=reduce_test, adjust=False, plot=False):\n",
    "    n_bins = 10\n",
    "    train_data = train[feature]\n",
    "    test_data = test[feature]\n",
    "    if adjust:\n",
    "        test_data *= train_data.mean() / test_data.mean()\n",
    "    perc_90 = np.percentile(train_data, 95)\n",
    "    train_data = np.clip(train_data, 0, perc_90)\n",
    "    test_data = np.clip(test_data, 0, perc_90)\n",
    "    train_hist = np.histogram(train_data, bins=n_bins)[0] / len(train_data)\n",
    "    test_hist = np.histogram(test_data, bins=n_bins)[0] / len(test_data)\n",
    "    msre = mean_squared_error(train_hist, test_hist)\n",
    "    if plot:\n",
    "        print(msre)\n",
    "        plt.bar(range(n_bins), train_hist, color='blue', alpha=0.5)\n",
    "        plt.bar(range(n_bins), test_hist, color='red', alpha=0.5)\n",
    "        plt.show()\n",
    "    return msre\n",
    "stract_hists('Magma Peak - Level 1_2000', adjust=True, plot=True)"
   ]
  },
  {
   "cell_type": "code",
   "execution_count": 16,
   "metadata": {},
   "outputs": [],
   "source": [
    "# call feature engineering function\n",
    "# reduce_train, reduce_test, features = preprocess(reduce_train, reduce_test)"
   ]
  },
  {
   "cell_type": "code",
   "execution_count": 17,
   "metadata": {},
   "outputs": [
    {
     "data": {
      "text/plain": [
       "((17690, 952), (1000, 952), 943)"
      ]
     },
     "execution_count": 17,
     "metadata": {},
     "output_type": "execute_result"
    }
   ],
   "source": [
    "reduce_train.shape, reduce_test.shape, len(features)"
   ]
  },
  {
   "cell_type": "code",
   "execution_count": 18,
   "metadata": {},
   "outputs": [],
   "source": [
    "# call feature engineering function\n",
    "features = reduce_train.loc[(reduce_train.sum(axis=1) != 0), (reduce_train.sum(axis=0) != 0)].columns # delete useless columns\n",
    "features = [x for x in features if x not in ['accuracy_group', 'installation_id']]"
   ]
  },
  {
   "cell_type": "code",
   "execution_count": 19,
   "metadata": {
    "scrolled": true
   },
   "outputs": [
    {
     "name": "stdout",
     "output_type": "stream",
     "text": [
      "1: FEAT_A: Clip FEAT_B: 27253bdc - Correlation: 0.9999999999999999\n",
      "2: FEAT_A: 2050 FEAT_B: 2040 - Correlation: 0.9965259434878118\n",
      "3: FEAT_A: 2050 FEAT_B: 08fd73f3 - Correlation: 0.9966123918733654\n",
      "4: FEAT_A: 2050 FEAT_B: 26fd2d99 - Correlation: 0.9965084543995759\n",
      "5: FEAT_A: 2050 FEAT_B: 2b9272f4 - Correlation: 0.9999839030068793\n",
      "6: FEAT_A: 2050 FEAT_B: 73757a5e - Correlation: 0.9998050146713992\n",
      "7: FEAT_A: 2050 FEAT_B: dcaede90 - Correlation: 0.9965259434878118\n",
      "8: FEAT_A: 2050 FEAT_B: 37c53127 - Correlation: 1.0\n",
      "9: FEAT_A: 2050 FEAT_B: Scrub-A-Dub_3021 - Correlation: 0.9998050146713992\n",
      "10: FEAT_A: 2050 FEAT_B: Scrub-A-Dub_2040 - Correlation: 0.9965259434878118\n",
      "11: FEAT_A: 2050 FEAT_B: Scrub-A-Dub_2030 - Correlation: 0.9966123918733654\n",
      "12: FEAT_A: 2050 FEAT_B: Scrub-A-Dub_2020 - Correlation: 0.9965084543995759\n",
      "13: FEAT_A: 2050 FEAT_B: Scrub-A-Dub_3121 - Correlation: 0.9999839030068793\n",
      "14: FEAT_A: 2050 FEAT_B: Scrub-A-Dub_2050 - Correlation: 1.0\n",
      "15: FEAT_A: 4230 FEAT_B: 4235 - Correlation: 0.9999995197498746\n",
      "16: FEAT_A: 4230 FEAT_B: ad148f58 - Correlation: 0.9999999999999998\n",
      "17: FEAT_A: 4230 FEAT_B: 85de926c - Correlation: 0.9999995197498746\n",
      "18: FEAT_A: 4230 FEAT_B: Bubble Bath_4235 - Correlation: 0.9999995197498746\n",
      "19: FEAT_A: 4230 FEAT_B: Bubble Bath_4230 - Correlation: 0.9999999999999998\n",
      "20: FEAT_A: 5000 FEAT_B: 5010 - Correlation: 0.9991849213605333\n",
      "21: FEAT_A: 5000 FEAT_B: 71e712d8 - Correlation: 0.9991849213605333\n",
      "22: FEAT_A: 5000 FEAT_B: a6d66e51 - Correlation: 1.0\n",
      "23: FEAT_A: 5000 FEAT_B: Watering Hole (Activity)_5010 - Correlation: 0.9991849213605333\n",
      "24: FEAT_A: 5000 FEAT_B: Watering Hole (Activity)_5000 - Correlation: 1.0\n",
      "25: FEAT_A: 3110 FEAT_B: 3010 - Correlation: 0.9999293402893735\n",
      "26: FEAT_A: 3120 FEAT_B: 3020 - Correlation: 0.9998761417908972\n",
      "27: FEAT_A: 3121 FEAT_B: 3021 - Correlation: 0.9999098200487934\n",
      "28: FEAT_A: 4031 FEAT_B: 1996c610 - Correlation: 1.0\n",
      "29: FEAT_A: 4031 FEAT_B: Dino Drink_4031 - Correlation: 1.0\n",
      "30: FEAT_A: 4050 FEAT_B: a1192f43 - Correlation: 0.9999999999999999\n",
      "31: FEAT_A: 4050 FEAT_B: Crystals Rule_4050 - Correlation: 0.9999999999999999\n",
      "32: FEAT_A: 2020 FEAT_B: 2030 - Correlation: 0.9959933262816534\n",
      "33: FEAT_A: 4220 FEAT_B: 1340b8d7 - Correlation: 1.0\n",
      "34: FEAT_A: 4220 FEAT_B: Bubble Bath_4220 - Correlation: 1.0\n",
      "35: FEAT_A: 2fb91ec1 FEAT_B: d2e9262e - Correlation: 0.9991434495208743\n",
      "36: FEAT_A: 2fb91ec1 FEAT_B: Watering Hole (Activity)_4025 - Correlation: 1.0\n",
      "37: FEAT_A: 2fb91ec1 FEAT_B: Watering Hole (Activity)_4020 - Correlation: 0.9991434495208743\n",
      "38: FEAT_A: c51d8688 FEAT_B: 907a054b - Correlation: 0.9999667370361688\n",
      "39: FEAT_A: c51d8688 FEAT_B: Pan Balance_3020 - Correlation: 0.9999667370361688\n",
      "40: FEAT_A: c51d8688 FEAT_B: Pan Balance_3120 - Correlation: 1.0\n",
      "41: FEAT_A: 5d042115 FEAT_B: Flower Waterer (Activity)_4030 - Correlation: 1.0\n",
      "42: FEAT_A: a1bbe385 FEAT_B: f28c589a - Correlation: 0.999953679734225\n",
      "43: FEAT_A: a1bbe385 FEAT_B: Air Show_3110 - Correlation: 1.0\n",
      "44: FEAT_A: a1bbe385 FEAT_B: Air Show_3010 - Correlation: 0.999953679734225\n",
      "45: FEAT_A: bc8f2793 FEAT_B: Pan Balance_4035 - Correlation: 0.9999999999999999\n",
      "46: FEAT_A: 5e812b27 FEAT_B: Sandcastle Builder (Activity)_4030 - Correlation: 1.0\n",
      "47: FEAT_A: 795e4a37 FEAT_B: Cart Balancer (Assessment)_3010 - Correlation: 1.0\n",
      "48: FEAT_A: 022b4259 FEAT_B: Bug Measurer (Activity)_4025 - Correlation: 0.9999999999999998\n",
      "49: FEAT_A: 37ee8496 FEAT_B: 30614231 - Correlation: 0.9967763987631819\n",
      "50: FEAT_A: 37ee8496 FEAT_B: Cauldron Filler (Assessment)_4030 - Correlation: 1.0\n",
      "51: FEAT_A: 37ee8496 FEAT_B: Cauldron Filler (Assessment)_4020 - Correlation: 0.9967763987631819\n",
      "52: FEAT_A: a29c5338 FEAT_B: 7f0836bf - Correlation: 0.9986531654717626\n",
      "53: FEAT_A: a29c5338 FEAT_B: Dino Drink_3110 - Correlation: 0.9986531654717626\n",
      "54: FEAT_A: a29c5338 FEAT_B: Dino Drink_3010 - Correlation: 0.9999999999999999\n",
      "55: FEAT_A: 16667cc5 FEAT_B: Chicken Balancer (Activity)_4080 - Correlation: 0.9999999999999999\n",
      "56: FEAT_A: 0d18d96c FEAT_B: Mushroom Sorter (Assessment)_4035 - Correlation: 1.0\n",
      "57: FEAT_A: 9d29771f FEAT_B: c74f40cd - Correlation: 0.9999553655332928\n",
      "58: FEAT_A: 9d29771f FEAT_B: 28ed704e - Correlation: 0.9954918958447296\n",
      "59: FEAT_A: 9d29771f FEAT_B: 83c6c409 - Correlation: 0.9963745894369908\n",
      "60: FEAT_A: 9d29771f FEAT_B: 3dfd4aa4 - Correlation: 0.9963727918475914\n",
      "61: FEAT_A: 9d29771f FEAT_B: Mushroom Sorter (Assessment)_2035 - Correlation: 0.9963745894369908\n",
      "62: FEAT_A: 9d29771f FEAT_B: Mushroom Sorter (Assessment)_3121 - Correlation: 0.9999553655332928\n",
      "63: FEAT_A: 9d29771f FEAT_B: Mushroom Sorter (Assessment)_2020 - Correlation: 0.9963727918475914\n",
      "64: FEAT_A: 9d29771f FEAT_B: Mushroom Sorter (Assessment)_4025 - Correlation: 0.9954918958447296\n",
      "65: FEAT_A: 9d29771f FEAT_B: Mushroom Sorter (Assessment)_3021 - Correlation: 0.9999999999999999\n",
      "66: FEAT_A: a8876db3 FEAT_B: Cart Balancer (Assessment)_3021 - Correlation: 1.0\n",
      "67: FEAT_A: 77c76bc5 FEAT_B: Cauldron Filler (Assessment)_4090 - Correlation: 1.0\n",
      "68: FEAT_A: d3f1e122 FEAT_B: Bottle Filler (Activity)_4035 - Correlation: 1.0\n",
      "69: FEAT_A: 3ddc79c3 FEAT_B: 3323d7e9 - Correlation: 0.9998606654761331\n",
      "70: FEAT_A: 3ddc79c3 FEAT_B: 7cf1bc53 - Correlation: 0.99823323877902\n",
      "71: FEAT_A: 3ddc79c3 FEAT_B: e720d930 - Correlation: 0.9998920962508026\n",
      "72: FEAT_A: 3ddc79c3 FEAT_B: Crystals Rule_3121 - Correlation: 0.9998920962508026\n",
      "73: FEAT_A: 3ddc79c3 FEAT_B: Crystals Rule_3021 - Correlation: 0.9999999999999998\n",
      "74: FEAT_A: 3ddc79c3 FEAT_B: Crystals Rule_2030 - Correlation: 0.9998606654761331\n",
      "75: FEAT_A: 3ddc79c3 FEAT_B: Crystals Rule_2020 - Correlation: 0.99823323877902\n",
      "76: FEAT_A: 9ce586dd FEAT_B: Chest Sorter (Assessment)_4035 - Correlation: 1.0\n",
      "77: FEAT_A: 56817e2b FEAT_B: cb6010f8 - Correlation: 0.9990475739429782\n",
      "78: FEAT_A: 56817e2b FEAT_B: 47026d5f - Correlation: 0.9993683693704368\n",
      "79: FEAT_A: 56817e2b FEAT_B: Chow Time_2030 - Correlation: 1.0\n",
      "80: FEAT_A: 56817e2b FEAT_B: Chow Time_3021 - Correlation: 0.9993683693704368\n",
      "81: FEAT_A: 56817e2b FEAT_B: Chow Time_3121 - Correlation: 0.9990475739429782\n",
      "82: FEAT_A: e9c52111 FEAT_B: b7530680 - Correlation: 0.998817689964623\n",
      "83: FEAT_A: e9c52111 FEAT_B: Bottle Filler (Activity)_2020 - Correlation: 0.998817689964623\n",
      "84: FEAT_A: e9c52111 FEAT_B: Bottle Filler (Activity)_2030 - Correlation: 1.0\n",
      "85: FEAT_A: 832735e1 FEAT_B: ab3136ba - Correlation: 0.9998637945770242\n",
      "86: FEAT_A: 832735e1 FEAT_B: Dino Dive_3110 - Correlation: 0.9998637945770242\n",
      "87: FEAT_A: 832735e1 FEAT_B: Dino Dive_3010 - Correlation: 1.0\n",
      "88: FEAT_A: 5c3d2b2f FEAT_B: Scrub-A-Dub_4020 - Correlation: 1.0\n",
      "89: FEAT_A: e04fb33d FEAT_B: 7423acbc - Correlation: 0.999628997408126\n",
      "90: FEAT_A: e04fb33d FEAT_B: Air Show_3020 - Correlation: 0.999628997408126\n",
      "91: FEAT_A: e04fb33d FEAT_B: Air Show_3120 - Correlation: 1.0\n",
      "92: FEAT_A: 90d848e0 FEAT_B: Cauldron Filler (Assessment)_2000 - Correlation: 1.0\n",
      "93: FEAT_A: 6c517a88 FEAT_B: Dino Drink_4070 - Correlation: 1.0\n",
      "94: FEAT_A: 86ba578b FEAT_B: Leaf Leader_2070 - Correlation: 1.0\n",
      "95: FEAT_A: 4c2ec19f FEAT_B: Egg Dropper (Activity)_4025 - Correlation: 1.0\n",
      "96: FEAT_A: 562cec5f FEAT_B: Chest Sorter (Assessment)_4025 - Correlation: 1.0\n",
      "97: FEAT_A: 532a2afb FEAT_B: Cauldron Filler (Assessment)_2020 - Correlation: 1.0\n",
      "98: FEAT_A: 250513af FEAT_B: 1c178d24 - Correlation: 0.9999803429610506\n",
      "99: FEAT_A: 250513af FEAT_B: a592d54e - Correlation: 0.9973020736885158\n",
      "100: FEAT_A: 250513af FEAT_B: cf7638f3 - Correlation: 0.999630364081927\n",
      "101: FEAT_A: 250513af FEAT_B: Pan Balance_2020 - Correlation: 0.9973020736885158\n",
      "102: FEAT_A: 250513af FEAT_B: Pan Balance_3021 - Correlation: 1.0\n",
      "103: FEAT_A: 250513af FEAT_B: Pan Balance_3121 - Correlation: 0.999630364081927\n",
      "104: FEAT_A: 250513af FEAT_B: Pan Balance_2030 - Correlation: 0.9999803429610506\n",
      "105: FEAT_A: 25fa8af4 FEAT_B: Mushroom Sorter (Assessment)_4100 - Correlation: 1.0\n",
      "106: FEAT_A: 9ee1c98c FEAT_B: Sandcastle Builder (Activity)_4021 - Correlation: 0.9999999999999999\n",
      "107: FEAT_A: 884228c8 FEAT_B: Fireworks (Activity)_4070 - Correlation: 1.0\n",
      "108: FEAT_A: f56e0afc FEAT_B: Bird Measurer (Assessment)_2000 - Correlation: 1.0\n",
      "109: FEAT_A: 99abe2bb FEAT_B: Bubble Bath_2080 - Correlation: 1.0\n",
      "110: FEAT_A: 0330ab6a FEAT_B: 2230fab4 - Correlation: 0.9998673365188063\n",
      "111: FEAT_A: 0330ab6a FEAT_B: Chow Time_3020 - Correlation: 1.0\n"
     ]
    },
    {
     "name": "stdout",
     "output_type": "stream",
     "text": [
      "112: FEAT_A: 0330ab6a FEAT_B: Chow Time_3120 - Correlation: 0.9998673365188063\n",
      "113: FEAT_A: 1375ccb7 FEAT_B: bdf49a58 - Correlation: 0.9993801763820348\n",
      "114: FEAT_A: 1375ccb7 FEAT_B: Bird Measurer (Assessment)_3010 - Correlation: 1.0\n",
      "115: FEAT_A: 1375ccb7 FEAT_B: Bird Measurer (Assessment)_3110 - Correlation: 0.9993801763820348\n",
      "116: FEAT_A: 1cc7cfca FEAT_B: All Star Sorting_4030 - Correlation: 1.0\n",
      "117: FEAT_A: 731c0cbe FEAT_B: Bird Measurer (Assessment)_4090 - Correlation: 1.0\n",
      "118: FEAT_A: 84538528 FEAT_B: Sandcastle Builder (Activity)_4020 - Correlation: 1.0\n",
      "119: FEAT_A: a52b92d5 FEAT_B: a1e4395d - Correlation: 0.9991003891313369\n",
      "120: FEAT_A: a52b92d5 FEAT_B: Mushroom Sorter (Assessment)_3110 - Correlation: 0.9999999999999998\n",
      "121: FEAT_A: a52b92d5 FEAT_B: Mushroom Sorter (Assessment)_3010 - Correlation: 0.9991003891313369\n",
      "122: FEAT_A: 3dcdda7f FEAT_B: 3ccd3f02 - Correlation: 0.9977337946782758\n",
      "123: FEAT_A: 3dcdda7f FEAT_B: Chest Sorter (Assessment)_3110 - Correlation: 0.9977337946782758\n",
      "124: FEAT_A: 3dcdda7f FEAT_B: Chest Sorter (Assessment)_3010 - Correlation: 1.0\n",
      "125: FEAT_A: a5be6304 FEAT_B: 6c930e6e - Correlation: 0.996276061682167\n",
      "126: FEAT_A: a5be6304 FEAT_B: Mushroom Sorter (Assessment)_2030 - Correlation: 0.996276061682167\n",
      "127: FEAT_A: a5be6304 FEAT_B: Mushroom Sorter (Assessment)_2010 - Correlation: 1.0\n",
      "128: FEAT_A: 0a08139c FEAT_B: 71fe8f75 - Correlation: 0.9999850342981554\n",
      "129: FEAT_A: 0a08139c FEAT_B: Bug Measurer (Activity)_3010 - Correlation: 1.0\n",
      "130: FEAT_A: 0a08139c FEAT_B: Bug Measurer (Activity)_3110 - Correlation: 0.9999850342981554\n",
      "131: FEAT_A: 0d1da71f FEAT_B: Chow Time_3110 - Correlation: 1.0\n",
      "132: FEAT_A: 5e109ec3 FEAT_B: Cart Balancer (Assessment)_4030 - Correlation: 1.0\n",
      "133: FEAT_A: 7525289a FEAT_B: 45d01abe - Correlation: 0.9981555049446889\n",
      "134: FEAT_A: 7525289a FEAT_B: Bird Measurer (Assessment)_3121 - Correlation: 1.0\n",
      "135: FEAT_A: 7525289a FEAT_B: Bird Measurer (Assessment)_3021 - Correlation: 0.9981555049446889\n",
      "136: FEAT_A: 8b757ab8 FEAT_B: 44cb4907 - Correlation: 0.999835058794711\n",
      "137: FEAT_A: 8b757ab8 FEAT_B: Crystals Rule_3020 - Correlation: 0.999835058794711\n",
      "138: FEAT_A: 8b757ab8 FEAT_B: Crystals Rule_3120 - Correlation: 1.0\n",
      "139: FEAT_A: 51102b85 FEAT_B: Bird Measurer (Assessment)_4030 - Correlation: 1.0\n",
      "140: FEAT_A: 5f0eb72c FEAT_B: Mushroom Sorter (Assessment)_4020 - Correlation: 0.9999999999999998\n",
      "141: FEAT_A: a16a373e FEAT_B: Bird Measurer (Assessment)_4070 - Correlation: 1.0\n",
      "142: FEAT_A: 0ce40006 FEAT_B: Happy Camel_4080 - Correlation: 1.0\n",
      "143: FEAT_A: fd20ea40 FEAT_B: Leaf Leader_4010 - Correlation: 0.9999999999999998\n",
      "144: FEAT_A: 47f43a44 FEAT_B: Flower Waterer (Activity)_4090 - Correlation: 1.0\n",
      "145: FEAT_A: 38074c54 FEAT_B: e4f1efe6 - Correlation: 0.9984044689083383\n",
      "146: FEAT_A: 38074c54 FEAT_B: 222660ff - Correlation: 0.9999999999999998\n",
      "147: FEAT_A: 38074c54 FEAT_B: Chest Sorter (Assessment)_2010 - Correlation: 0.9999999999999998\n",
      "148: FEAT_A: 38074c54 FEAT_B: Chest Sorter (Assessment)_2030 - Correlation: 0.9999999999999998\n",
      "149: FEAT_A: 38074c54 FEAT_B: Chest Sorter (Assessment)_3121 - Correlation: 0.9984044689083383\n",
      "150: FEAT_A: e64e2cfd FEAT_B: Watering Hole (Activity)_2000 - Correlation: 0.9999999999999998\n",
      "151: FEAT_A: df4940d3 FEAT_B: 67439901 - Correlation: 0.999935162643595\n",
      "152: FEAT_A: df4940d3 FEAT_B: Bottle Filler (Activity)_3110 - Correlation: 0.9999999999999999\n",
      "153: FEAT_A: df4940d3 FEAT_B: Bottle Filler (Activity)_3010 - Correlation: 0.999935162643595\n",
      "154: FEAT_A: e37a2b78 FEAT_B: 17113b36 - Correlation: 0.9982548122198927\n",
      "155: FEAT_A: e37a2b78 FEAT_B: ad2fc29c - Correlation: 0.9992191329664104\n",
      "156: FEAT_A: e37a2b78 FEAT_B: Bird Measurer (Assessment)_4110 - Correlation: 0.9982548122198927\n",
      "157: FEAT_A: e37a2b78 FEAT_B: Bird Measurer (Assessment)_3120 - Correlation: 1.0\n",
      "158: FEAT_A: e37a2b78 FEAT_B: Bird Measurer (Assessment)_3020 - Correlation: 0.9992191329664104\n",
      "159: FEAT_A: 67aa2ada FEAT_B: Leaf Leader_4090 - Correlation: 1.0\n",
      "160: FEAT_A: 1b54d27f FEAT_B: Watering Hole (Activity)_2010 - Correlation: 1.0\n",
      "161: FEAT_A: ecc36b7f FEAT_B: Bubble Bath_4095 - Correlation: 1.0\n",
      "162: FEAT_A: 4a09ace1 FEAT_B: Scrub-A-Dub_2083 - Correlation: 1.0\n",
      "163: FEAT_A: c54cf6c5 FEAT_B: 895865f3 - Correlation: 0.9964317167511039\n",
      "164: FEAT_A: c54cf6c5 FEAT_B: 3bb91dda - Correlation: 0.9999701603895903\n",
      "165: FEAT_A: c54cf6c5 FEAT_B: 8f094001 - Correlation: 0.9958447429109037\n",
      "166: FEAT_A: c54cf6c5 FEAT_B: d06f75b5 - Correlation: 0.9972383579301799\n",
      "167: FEAT_A: c54cf6c5 FEAT_B: Bubble Bath_4045 - Correlation: 0.9958447429109037\n",
      "168: FEAT_A: c54cf6c5 FEAT_B: Bubble Bath_2025 - Correlation: 1.0\n",
      "169: FEAT_A: c54cf6c5 FEAT_B: Bubble Bath_2035 - Correlation: 0.9972383579301799\n",
      "170: FEAT_A: c54cf6c5 FEAT_B: Bubble Bath_2030 - Correlation: 0.9964317167511039\n",
      "171: FEAT_A: c54cf6c5 FEAT_B: Bubble Bath_4020 - Correlation: 0.9999701603895903\n",
      "172: FEAT_A: 65a38bf7 FEAT_B: 7ad3efc6 - Correlation: 0.9999786265690429\n",
      "173: FEAT_A: 65a38bf7 FEAT_B: Cart Balancer (Assessment)_2000 - Correlation: 0.9999786265690429\n",
      "174: FEAT_A: 65a38bf7 FEAT_B: Cart Balancer (Assessment)_2020 - Correlation: 1.0\n",
      "175: FEAT_A: d122731b FEAT_B: Cart Balancer (Assessment)_4100 - Correlation: 0.9999999999999998\n",
      "176: FEAT_A: 04df9b66 FEAT_B: 5290eab1 - Correlation: 0.9998190477466209\n",
      "177: FEAT_A: 04df9b66 FEAT_B: Cauldron Filler (Assessment)_3020 - Correlation: 1.0\n",
      "178: FEAT_A: 04df9b66 FEAT_B: Cauldron Filler (Assessment)_3120 - Correlation: 0.9998190477466209\n",
      "179: FEAT_A: ea321fb1 FEAT_B: 84b0e0c8 - Correlation: 0.9993007600205108\n",
      "180: FEAT_A: ea321fb1 FEAT_B: Chicken Balancer (Activity)_3010 - Correlation: 1.0\n",
      "181: FEAT_A: ea321fb1 FEAT_B: Chicken Balancer (Activity)_3110 - Correlation: 0.9993007600205108\n",
      "182: FEAT_A: 5154fc30 FEAT_B: 3babcb9b - Correlation: 0.9999869246409351\n",
      "183: FEAT_A: 5154fc30 FEAT_B: 86c924c4 - Correlation: 0.998893632289517\n",
      "184: FEAT_A: 5154fc30 FEAT_B: Crystals Rule_3010 - Correlation: 1.0\n",
      "185: FEAT_A: 5154fc30 FEAT_B: Crystals Rule_3110 - Correlation: 0.9999869246409351\n",
      "186: FEAT_A: 5154fc30 FEAT_B: Crystals Rule_4020 - Correlation: 0.998893632289517\n",
      "187: FEAT_A: 119b5b02 FEAT_B: Dino Dive_4080 - Correlation: 1.0\n",
      "188: FEAT_A: 6f445b57 FEAT_B: Chow Time_4080 - Correlation: 1.0\n",
      "189: FEAT_A: e57dd7af FEAT_B: 763fc34e - Correlation: 0.9972721980394412\n",
      "190: FEAT_A: e57dd7af FEAT_B: Leaf Leader_3120 - Correlation: 1.0\n",
      "191: FEAT_A: e57dd7af FEAT_B: Leaf Leader_3020 - Correlation: 0.9972721980394412\n",
      "192: FEAT_A: 7372e1a5 FEAT_B: Chow Time_4070 - Correlation: 1.0\n",
      "193: FEAT_A: 5348fd84 FEAT_B: Cauldron Filler (Assessment)_4040 - Correlation: 1.0\n",
      "194: FEAT_A: c952eb01 FEAT_B: Watering Hole (Activity)_4070 - Correlation: 1.0\n",
      "195: FEAT_A: a76029ee FEAT_B: Bird Measurer (Assessment)_4040 - Correlation: 0.9999999999999999\n",
      "196: FEAT_A: 93edfe2e FEAT_B: Crystals Rule_4090 - Correlation: 1.0\n",
      "197: FEAT_A: 3afde5dd FEAT_B: b012cd7f - Correlation: 0.9999689260314981\n",
      "198: FEAT_A: 3afde5dd FEAT_B: e5c9df6f - Correlation: 0.9990910601838011\n",
      "199: FEAT_A: 3afde5dd FEAT_B: Leaf Leader_2030 - Correlation: 0.9999689260314981\n",
      "200: FEAT_A: 3afde5dd FEAT_B: Leaf Leader_3121 - Correlation: 0.9990910601838011\n",
      "201: FEAT_A: 3afde5dd FEAT_B: Leaf Leader_3021 - Correlation: 1.0\n",
      "202: FEAT_A: 05ad839b FEAT_B: Happy Camel_4090 - Correlation: 1.0\n",
      "203: FEAT_A: d2278a3b FEAT_B: Bottle Filler (Activity)_2000 - Correlation: 1.0\n",
      "204: FEAT_A: abc5811c FEAT_B: Happy Camel_4010 - Correlation: 1.0\n",
      "205: FEAT_A: 7d5c30a2 FEAT_B: Dino Dive_2060 - Correlation: 1.0\n",
      "206: FEAT_A: 155f62a4 FEAT_B: 5b49460a - Correlation: 0.9999999999999999\n",
      "207: FEAT_A: 155f62a4 FEAT_B: Chest Sorter (Assessment)_2000 - Correlation: 0.9999999999999999\n",
      "208: FEAT_A: 155f62a4 FEAT_B: Chest Sorter (Assessment)_2020 - Correlation: 0.9999999999999999\n",
      "209: FEAT_A: 69fdac0a FEAT_B: 8d7e386c - Correlation: 0.9996590210382708\n",
      "210: FEAT_A: 69fdac0a FEAT_B: Happy Camel_3010 - Correlation: 0.9996590210382708\n",
      "211: FEAT_A: 69fdac0a FEAT_B: Happy Camel_3110 - Correlation: 0.9999999999999999\n",
      "212: FEAT_A: e79f3763 FEAT_B: Bug Measurer (Activity)_4030 - Correlation: 1.0\n",
      "213: FEAT_A: d2659ab4 FEAT_B: Air Show_2075 - Correlation: 1.0\n",
      "214: FEAT_A: 91561152 FEAT_B: Cauldron Filler (Assessment)_4025 - Correlation: 1.0\n",
      "215: FEAT_A: daac11b0 FEAT_B: 1f19558b - Correlation: 0.9991356096406656\n"
     ]
    },
    {
     "name": "stdout",
     "output_type": "stream",
     "text": [
      "216: FEAT_A: daac11b0 FEAT_B: ca11f653 - Correlation: 0.9995251307611352\n",
      "217: FEAT_A: daac11b0 FEAT_B: All Star Sorting_2030 - Correlation: 0.9995251307611352\n",
      "218: FEAT_A: daac11b0 FEAT_B: All Star Sorting_3121 - Correlation: 0.9991356096406656\n",
      "219: FEAT_A: daac11b0 FEAT_B: All Star Sorting_3021 - Correlation: 1.0\n",
      "220: FEAT_A: 28a4eb9a FEAT_B: 9de5e594 - Correlation: 0.9995923561196808\n",
      "221: FEAT_A: 28a4eb9a FEAT_B: Dino Dive_3120 - Correlation: 0.9999999999999998\n",
      "222: FEAT_A: 28a4eb9a FEAT_B: Dino Dive_3020 - Correlation: 0.9995923561196808\n",
      "223: FEAT_A: 262136f4 FEAT_B: Leaf Leader_4020 - Correlation: 1.0\n",
      "224: FEAT_A: d02b7a8e FEAT_B: All Star Sorting_4035 - Correlation: 1.0\n",
      "225: FEAT_A: 792530f8 FEAT_B: Dino Drink_4030 - Correlation: 1.0\n",
      "226: FEAT_A: 9e6b7fb5 FEAT_B: Chow Time_4095 - Correlation: 0.9999999999999998\n",
      "227: FEAT_A: beb0a7b9 FEAT_B: b88f38da - Correlation: 0.9999125179829754\n",
      "228: FEAT_A: beb0a7b9 FEAT_B: Fireworks (Activity)_3110 - Correlation: 0.9999125179829754\n",
      "229: FEAT_A: beb0a7b9 FEAT_B: Fireworks (Activity)_3010 - Correlation: 1.0\n",
      "230: FEAT_A: 598f4598 FEAT_B: Flower Waterer (Activity)_4025 - Correlation: 0.9999999999999998\n",
      "231: FEAT_A: f71c4741 FEAT_B: f7e47413 - Correlation: 0.9999426890770878\n",
      "232: FEAT_A: f71c4741 FEAT_B: Scrub-A-Dub_3010 - Correlation: 1.0\n",
      "233: FEAT_A: f71c4741 FEAT_B: Scrub-A-Dub_3110 - Correlation: 0.9999426890770878\n",
      "234: FEAT_A: 5a848010 FEAT_B: Scrub-A-Dub_2080 - Correlation: 1.0\n",
      "235: FEAT_A: 6d90d394 FEAT_B: Scrub-A-Dub_2000 - Correlation: 0.9999999999999999\n",
      "236: FEAT_A: 46cd75b4 FEAT_B: Chicken Balancer (Activity)_4022 - Correlation: 0.9999999999999998\n",
      "237: FEAT_A: a44b10dc FEAT_B: Flower Waterer (Activity)_4070 - Correlation: 1.0\n",
      "238: FEAT_A: ecaab346 FEAT_B: b2e5b0f1 - Correlation: 0.999849464604504\n",
      "239: FEAT_A: ecaab346 FEAT_B: b74258a0 - Correlation: 1.0\n",
      "240: FEAT_A: ecaab346 FEAT_B: Cart Balancer (Assessment)_2030 - Correlation: 1.0\n",
      "241: FEAT_A: ecaab346 FEAT_B: Cart Balancer (Assessment)_2010 - Correlation: 0.999849464604504\n",
      "242: FEAT_A: ecaab346 FEAT_B: Cart Balancer (Assessment)_3121 - Correlation: 1.0\n",
      "243: FEAT_A: 53c6e11a FEAT_B: Leaf Leader_2075 - Correlation: 0.9999999999999999\n",
      "244: FEAT_A: c7128948 FEAT_B: Mushroom Sorter (Assessment)_4040 - Correlation: 1.0\n",
      "245: FEAT_A: 923afab1 FEAT_B: 2dcad279 - Correlation: 0.9998567985670082\n",
      "246: FEAT_A: 923afab1 FEAT_B: Cauldron Filler (Assessment)_3110 - Correlation: 0.9998567985670082\n",
      "247: FEAT_A: 923afab1 FEAT_B: Cauldron Filler (Assessment)_3010 - Correlation: 1.0\n",
      "248: FEAT_A: 28520915 FEAT_B: b5053438 - Correlation: 0.999090516610188\n",
      "249: FEAT_A: 28520915 FEAT_B: d3268efa - Correlation: 0.9989055023166136\n",
      "250: FEAT_A: 28520915 FEAT_B: Cauldron Filler (Assessment)_3021 - Correlation: 0.9989055023166136\n",
      "251: FEAT_A: 28520915 FEAT_B: Cauldron Filler (Assessment)_2030 - Correlation: 1.0\n",
      "252: FEAT_A: 28520915 FEAT_B: Cauldron Filler (Assessment)_3121 - Correlation: 0.999090516610188\n",
      "253: FEAT_A: 3d8c61b0 FEAT_B: Happy Camel_4030 - Correlation: 0.9999999999999999\n",
      "254: FEAT_A: d9c005dd FEAT_B: Happy Camel_2000 - Correlation: 1.0\n",
      "255: FEAT_A: ea296733 FEAT_B: df4fe8b6 - Correlation: 0.9972489515829078\n",
      "256: FEAT_A: ea296733 FEAT_B: Chest Sorter (Assessment)_3020 - Correlation: 1.0\n",
      "257: FEAT_A: ea296733 FEAT_B: Chest Sorter (Assessment)_3120 - Correlation: 0.9972489515829078\n",
      "258: FEAT_A: 55115cbd FEAT_B: 6f4adc4b - Correlation: 0.9997831892615398\n",
      "259: FEAT_A: 55115cbd FEAT_B: Bubble Bath_3121 - Correlation: 0.9999999999999999\n",
      "260: FEAT_A: 55115cbd FEAT_B: Bubble Bath_3021 - Correlation: 0.9997831892615398\n",
      "261: FEAT_A: 2a444e03 FEAT_B: Pan Balance_4030 - Correlation: 1.0\n",
      "262: FEAT_A: 49ed92e9 FEAT_B: bd701df8 - Correlation: 0.9993109138888533\n",
      "263: FEAT_A: 49ed92e9 FEAT_B: Watering Hole (Activity)_3010 - Correlation: 1.0\n",
      "264: FEAT_A: 49ed92e9 FEAT_B: Watering Hole (Activity)_3110 - Correlation: 0.9993109138888533\n",
      "265: FEAT_A: f93fc684 FEAT_B: Chow Time_4010 - Correlation: 0.9999999999999999\n",
      "266: FEAT_A: 160654fd FEAT_B: 88d4a5be - Correlation: 0.9989297172615879\n",
      "267: FEAT_A: 160654fd FEAT_B: Mushroom Sorter (Assessment)_3120 - Correlation: 0.9989297172615879\n",
      "268: FEAT_A: 160654fd FEAT_B: Mushroom Sorter (Assessment)_3020 - Correlation: 1.0\n",
      "269: FEAT_A: 3ee399c3 FEAT_B: Cauldron Filler (Assessment)_4070 - Correlation: 1.0\n",
      "270: FEAT_A: 8d84fa81 FEAT_B: Bubble Bath_4010 - Correlation: 1.0\n",
      "271: FEAT_A: 06372577 FEAT_B: Air Show_2060 - Correlation: 1.0\n",
      "272: FEAT_A: 804ee27f FEAT_B: Pan Balance_4020 - Correlation: 1.0\n",
      "273: FEAT_A: 3a4be871 FEAT_B: Flower Waterer (Activity)_4080 - Correlation: 1.0\n",
      "274: FEAT_A: 2c4e6db0 FEAT_B: All Star Sorting_2020 - Correlation: 1.0\n",
      "275: FEAT_A: 37937459 FEAT_B: Sandcastle Builder (Activity)_4090 - Correlation: 0.9999999999999998\n",
      "276: FEAT_A: 7d093bf9 FEAT_B: Chow Time_2000 - Correlation: 0.9999999999999999\n",
      "277: FEAT_A: b80e5e84 FEAT_B: 7ab78247 - Correlation: 0.9998336590281085\n",
      "278: FEAT_A: b80e5e84 FEAT_B: Egg Dropper (Activity)_3110 - Correlation: 1.0\n",
      "279: FEAT_A: b80e5e84 FEAT_B: Egg Dropper (Activity)_3010 - Correlation: 0.9998336590281085\n",
      "280: FEAT_A: 30df3273 FEAT_B: Sandcastle Builder (Activity)_4080 - Correlation: 1.0\n",
      "281: FEAT_A: cf82af56 FEAT_B: Scrub-A-Dub_4070 - Correlation: 1.0\n",
      "282: FEAT_A: c2baf0bd FEAT_B: Happy Camel_2020 - Correlation: 1.0\n",
      "283: FEAT_A: 6aeafed4 FEAT_B: Bubble Bath_4090 - Correlation: 1.0\n",
      "284: FEAT_A: a7640a16 FEAT_B: Happy Camel_4070 - Correlation: 1.0\n",
      "285: FEAT_A: 6043a2b4 FEAT_B: All Star Sorting_4090 - Correlation: 0.9999999999999999\n",
      "286: FEAT_A: e7561dd2 FEAT_B: Pan Balance_4025 - Correlation: 0.9999999999999998\n",
      "287: FEAT_A: 0413e89d FEAT_B: 15eb4a7d - Correlation: 0.9997266832893074\n",
      "288: FEAT_A: 0413e89d FEAT_B: Bubble Bath_3110 - Correlation: 0.9997266832893074\n",
      "289: FEAT_A: 0413e89d FEAT_B: Bubble Bath_3010 - Correlation: 1.0\n",
      "290: FEAT_A: 709b1251 FEAT_B: 7961e599 - Correlation: 0.9950004881933643\n",
      "291: FEAT_A: 709b1251 FEAT_B: e3ff61fb - Correlation: 0.9995444786291265\n",
      "292: FEAT_A: 709b1251 FEAT_B: Dino Dive_3021 - Correlation: 0.9995444786291265\n",
      "293: FEAT_A: 709b1251 FEAT_B: Dino Dive_3121 - Correlation: 1.0\n",
      "294: FEAT_A: 709b1251 FEAT_B: Dino Dive_2020 - Correlation: 0.9950004881933643\n",
      "295: FEAT_A: 2a512369 FEAT_B: 33505eae - Correlation: 0.9994585292841954\n",
      "296: FEAT_A: 2a512369 FEAT_B: Leaf Leader_3110 - Correlation: 1.0\n",
      "297: FEAT_A: 2a512369 FEAT_B: Leaf Leader_3010 - Correlation: 0.9994585292841954\n",
      "298: FEAT_A: c189aaf2 FEAT_B: Happy Camel_2083 - Correlation: 0.9999999999999999\n",
      "299: FEAT_A: 857f21c0 FEAT_B: Bubble Bath_4040 - Correlation: 1.0\n",
      "300: FEAT_A: cfbd47c8 FEAT_B: Chow Time_4030 - Correlation: 1.0\n",
      "301: FEAT_A: 587b5989 FEAT_B: All Star Sorting_4070 - Correlation: 1.0\n",
      "302: FEAT_A: 77261ab5 FEAT_B: Sandcastle Builder (Activity)_2000 - Correlation: 0.9999999999999999\n",
      "303: FEAT_A: f806dc10 FEAT_B: Dino Drink_2020 - Correlation: 1.0\n",
      "304: FEAT_A: 5f5b2617 FEAT_B: Bottle Filler (Activity)_4080 - Correlation: 1.0\n",
      "305: FEAT_A: 15f99afc FEAT_B: 6cf7d25c - Correlation: 0.9994848234397947\n",
      "306: FEAT_A: 15f99afc FEAT_B: Pan Balance_3110 - Correlation: 1.0\n",
      "307: FEAT_A: 15f99afc FEAT_B: Pan Balance_3010 - Correlation: 0.9994848234397947\n",
      "308: FEAT_A: bd612267 FEAT_B: Chest Sorter (Assessment)_4070 - Correlation: 0.9999999999999999\n",
      "309: FEAT_A: 56cd3b43 FEAT_B: bbfe0445 - Correlation: 0.9996926215355526\n",
      "310: FEAT_A: 56cd3b43 FEAT_B: Flower Waterer (Activity)_3110 - Correlation: 0.9996926215355526\n",
      "311: FEAT_A: 56cd3b43 FEAT_B: Flower Waterer (Activity)_3010 - Correlation: 1.0\n",
      "312: FEAT_A: 90ea0bac FEAT_B: 5859dfb6 - Correlation: 0.9981052472610569\n",
      "313: FEAT_A: 90ea0bac FEAT_B: Bubble Bath_3120 - Correlation: 0.9981052472610569\n",
      "314: FEAT_A: 90ea0bac FEAT_B: Bubble Bath_3020 - Correlation: 1.0\n",
      "315: FEAT_A: 37db1c2f FEAT_B: Happy Camel_4045 - Correlation: 1.0\n",
      "316: FEAT_A: cb1178ad FEAT_B: Chest Sorter (Assessment)_4090 - Correlation: 1.0\n",
      "317: FEAT_A: 9ed8f6da FEAT_B: Dino Drink_2075 - Correlation: 0.9999999999999999\n",
      "318: FEAT_A: 1575e76c FEAT_B: Air Show_2020 - Correlation: 1.0\n",
      "319: FEAT_A: c7fe2a55 FEAT_B: a8a78786 - Correlation: 0.9981452039350779\n",
      "320: FEAT_A: c7fe2a55 FEAT_B: 36fa3ebe - Correlation: 0.9998350234117662\n",
      "321: FEAT_A: c7fe2a55 FEAT_B: Happy Camel_2030 - Correlation: 0.9998350234117662\n",
      "322: FEAT_A: c7fe2a55 FEAT_B: Happy Camel_3121 - Correlation: 0.9981452039350779\n",
      "323: FEAT_A: c7fe2a55 FEAT_B: Happy Camel_3021 - Correlation: 1.0\n"
     ]
    },
    {
     "name": "stdout",
     "output_type": "stream",
     "text": [
      "324: FEAT_A: a8efe47b FEAT_B: Chest Sorter (Assessment)_4030 - Correlation: 1.0\n",
      "325: FEAT_A: c0415e5c FEAT_B: Dino Dive_4020 - Correlation: 1.0\n",
      "326: FEAT_A: 00c73085 FEAT_B: Dino Dive_2030 - Correlation: 0.9999999999999999\n",
      "327: FEAT_A: 28f975ea FEAT_B: Air Show_4020 - Correlation: 1.0\n",
      "328: FEAT_A: 4d6737eb FEAT_B: Dino Drink_2070 - Correlation: 1.0\n",
      "329: FEAT_A: acf5c23f FEAT_B: Cart Balancer (Assessment)_4070 - Correlation: 1.0\n",
      "330: FEAT_A: a5e9da97 FEAT_B: Pan Balance_4100 - Correlation: 1.0\n",
      "331: FEAT_A: 89aace00 FEAT_B: e5734469 - Correlation: 0.9998406115110345\n",
      "332: FEAT_A: 89aace00 FEAT_B: Dino Drink_3020 - Correlation: 0.9998406115110345\n",
      "333: FEAT_A: 89aace00 FEAT_B: Dino Drink_3120 - Correlation: 1.0\n",
      "334: FEAT_A: f50fc6c1 FEAT_B: Watering Hole (Activity)_4021 - Correlation: 1.0\n",
      "335: FEAT_A: 29bdd9ba FEAT_B: Dino Dive_2000 - Correlation: 1.0\n",
      "336: FEAT_A: f5b8c21a FEAT_B: 58a0de5c - Correlation: 0.9977888184537717\n",
      "337: FEAT_A: f5b8c21a FEAT_B: 9b4001e4 - Correlation: 0.9976837802056778\n",
      "338: FEAT_A: f5b8c21a FEAT_B: Air Show_3021 - Correlation: 0.9976837802056778\n",
      "339: FEAT_A: f5b8c21a FEAT_B: Air Show_2030 - Correlation: 1.0\n",
      "340: FEAT_A: f5b8c21a FEAT_B: Air Show_3121 - Correlation: 0.9977888184537717\n",
      "341: FEAT_A: 0086365d FEAT_B: Pan Balance_4010 - Correlation: 0.9999999999999999\n",
      "342: FEAT_A: 4ef8cdd3 FEAT_B: Chow Time_4020 - Correlation: 1.0\n",
      "343: FEAT_A: 5be391b5 FEAT_B: Dino Drink_4010 - Correlation: 1.0\n",
      "344: FEAT_A: 15ba1109 FEAT_B: Air Show_2000 - Correlation: 1.0\n",
      "345: FEAT_A: 4d911100 FEAT_B: 16dffff1 - Correlation: 0.9986046680098603\n",
      "346: FEAT_A: 4d911100 FEAT_B: 77ead60d - Correlation: 0.9998475927724766\n",
      "347: FEAT_A: 4d911100 FEAT_B: Dino Drink_2030 - Correlation: 0.9986046680098603\n",
      "348: FEAT_A: 4d911100 FEAT_B: Dino Drink_3021 - Correlation: 0.9998475927724766\n",
      "349: FEAT_A: 4d911100 FEAT_B: Dino Drink_3121 - Correlation: 1.0\n",
      "350: FEAT_A: de26c3a6 FEAT_B: Flower Waterer (Activity)_4020 - Correlation: 0.9999999999999999\n",
      "351: FEAT_A: 2b058fe3 FEAT_B: Cauldron Filler (Assessment)_2010 - Correlation: 1.0\n",
      "352: FEAT_A: 6f4bd64e FEAT_B: Air Show_4090 - Correlation: 0.9999999999999998\n",
      "353: FEAT_A: 56bcd38d FEAT_B: Chicken Balancer (Activity)_4030 - Correlation: 0.9999999999999998\n",
      "354: FEAT_A: 1af8be29 FEAT_B: 3bf1cf26 - Correlation: 0.9998900847287077\n",
      "355: FEAT_A: 1af8be29 FEAT_B: Happy Camel_3120 - Correlation: 0.9998900847287077\n",
      "356: FEAT_A: 1af8be29 FEAT_B: Happy Camel_3020 - Correlation: 0.9999999999999999\n",
      "357: FEAT_A: 499edb7c FEAT_B: Chicken Balancer (Activity)_4020 - Correlation: 1.0\n",
      "358: FEAT_A: 1325467d FEAT_B: Sandcastle Builder (Activity)_4070 - Correlation: 1.0\n",
      "359: FEAT_A: 9d4e7b25 FEAT_B: Cart Balancer (Assessment)_4040 - Correlation: 1.0\n",
      "360: FEAT_A: 99ea62f3 FEAT_B: Bubble Bath_2083 - Correlation: 1.0\n",
      "361: FEAT_A: 363d3849 FEAT_B: 9e4c8c7b - Correlation: 0.9992130941883633\n",
      "362: FEAT_A: 363d3849 FEAT_B: All Star Sorting_3110 - Correlation: 0.9992130941883633\n",
      "363: FEAT_A: 363d3849 FEAT_B: All Star Sorting_3010 - Correlation: 1.0\n",
      "364: FEAT_A: f3cd5473 FEAT_B: Pan Balance_4070 - Correlation: 1.0\n",
      "365: FEAT_A: b120f2ac FEAT_B: c277e121 - Correlation: 0.9999983835744553\n",
      "366: FEAT_A: b120f2ac FEAT_B: d45ed6a1 - Correlation: 0.9979707847816691\n",
      "367: FEAT_A: b120f2ac FEAT_B: All Star Sorting_2025 - Correlation: 1.0\n",
      "368: FEAT_A: b120f2ac FEAT_B: All Star Sorting_3120 - Correlation: 0.9979707847816691\n",
      "369: FEAT_A: b120f2ac FEAT_B: All Star Sorting_3020 - Correlation: 0.9999983835744553\n",
      "370: FEAT_A: 1cf54632 FEAT_B: Bubble Bath_2000 - Correlation: 0.9999999999999999\n",
      "371: FEAT_A: e4d32835 FEAT_B: Pan Balance_4080 - Correlation: 0.9999999999999998\n",
      "372: FEAT_A: 9b23e8ee FEAT_B: 736f9581 - Correlation: 0.9999999999999999\n",
      "373: FEAT_A: 9b23e8ee FEAT_B: Egg Dropper (Activity)_2020 - Correlation: 0.9999999999999999\n",
      "374: FEAT_A: 9b23e8ee FEAT_B: Egg Dropper (Activity)_2000 - Correlation: 0.9999999999999999\n",
      "375: FEAT_A: 6077cc36 FEAT_B: Bird Measurer (Assessment)_4080 - Correlation: 0.9999999999999998\n",
      "376: FEAT_A: 47efca07 FEAT_B: Bottle Filler (Activity)_4090 - Correlation: 1.0\n",
      "377: FEAT_A: 461eace6 FEAT_B: Egg Dropper (Activity)_4020 - Correlation: 1.0\n",
      "378: FEAT_A: 90efca10 FEAT_B: Bottle Filler (Activity)_4020 - Correlation: 1.0\n",
      "379: FEAT_A: 2dc29e21 FEAT_B: All Star Sorting_4020 - Correlation: 1.0\n",
      "380: FEAT_A: 9e34ea74 FEAT_B: Egg Dropper (Activity)_4070 - Correlation: 1.0\n",
      "381: FEAT_A: 76babcde FEAT_B: Dino Dive_4070 - Correlation: 1.0\n",
      "382: FEAT_A: 4b5efe37 FEAT_B: b7dc8128 - Correlation: 0.9980151285383981\n",
      "383: FEAT_A: 4b5efe37 FEAT_B: All Star Sorting_4010 - Correlation: 1.0\n",
      "384: FEAT_A: 4b5efe37 FEAT_B: All Star Sorting_2000 - Correlation: 0.9980151285383981\n",
      "385: FEAT_A: 4a4c3d21 FEAT_B: Bird Measurer (Assessment)_4025 - Correlation: 1.0\n",
      "386: FEAT_A: fcfdffb6 FEAT_B: Flower Waterer (Activity)_4022 - Correlation: 1.0\n",
      "387: FEAT_A: 611485c5 FEAT_B: Fireworks (Activity)_4080 - Correlation: 1.0\n",
      "388: FEAT_A: c58186bf FEAT_B: Sandcastle Builder (Activity)_4035 - Correlation: 1.0\n",
      "389: FEAT_A: 63f13dd7 FEAT_B: Chow Time_2020 - Correlation: 1.0\n",
      "390: FEAT_A: 92687c59 FEAT_B: Scrub-A-Dub_4090 - Correlation: 1.0\n",
      "391: FEAT_A: c1cac9a2 FEAT_B: Scrub-A-Dub_2081 - Correlation: 0.9999999999999998\n",
      "392: FEAT_A: 7dfe6d8a FEAT_B: Leaf Leader_4070 - Correlation: 0.9999999999999998\n",
      "393: FEAT_A: 5de79a6a FEAT_B: 31973d56 - Correlation: 0.9973945339840646\n",
      "394: FEAT_A: 5de79a6a FEAT_B: Cart Balancer (Assessment)_3020 - Correlation: 1.0\n",
      "395: FEAT_A: 5de79a6a FEAT_B: Cart Balancer (Assessment)_3120 - Correlation: 0.9973945339840646\n",
      "396: FEAT_A: bcceccc6 FEAT_B: Air Show_4070 - Correlation: 1.0\n",
      "397: FEAT_A: ecc6157f FEAT_B: Cart Balancer (Assessment)_4080 - Correlation: 0.9999999999999999\n",
      "398: FEAT_A: 3bfd1a65 FEAT_B: db02c830 - Correlation: 0.9999982205265872\n",
      "399: FEAT_A: 3bfd1a65 FEAT_B: Mushroom Sorter (Assessment)_2025 - Correlation: 0.9999982205265872\n",
      "400: FEAT_A: 3bfd1a65 FEAT_B: Mushroom Sorter (Assessment)_2000 - Correlation: 1.0\n",
      "401: FEAT_A: 51311d7a FEAT_B: Dino Drink_2000 - Correlation: 1.0\n",
      "402: FEAT_A: 363c86c9 FEAT_B: Bug Measurer (Activity)_4035 - Correlation: 1.0\n",
      "403: FEAT_A: 6088b756 FEAT_B: Dino Dive_2070 - Correlation: 1.0\n",
      "404: FEAT_A: 13f56524 FEAT_B: Mushroom Sorter (Assessment)_4080 - Correlation: 1.0\n",
      "405: FEAT_A: 5c2f29ca FEAT_B: Cart Balancer (Assessment)_4020 - Correlation: 1.0\n",
      "406: FEAT_A: f6947f54 FEAT_B: Bird Measurer (Assessment)_2030 - Correlation: 1.0\n",
      "407: FEAT_A: 9b01374f FEAT_B: Flower Waterer (Activity)_2000 - Correlation: 1.0\n",
      "408: FEAT_A: 3afb49e6 FEAT_B: Chest Sorter (Assessment)_3021 - Correlation: 1.0\n",
      "409: FEAT_A: bb3e370b FEAT_B: Bottle Filler (Activity) - Correlation: 0.9950043311420306\n",
      "410: FEAT_A: bb3e370b FEAT_B: Bottle Filler (Activity)_4030 - Correlation: 0.9999999999999999\n",
      "411: FEAT_A: 87d743c1 FEAT_B: Dino Dive_4010 - Correlation: 1.0\n",
      "412: FEAT_A: d88e8f25 FEAT_B: ac92046e - Correlation: 0.9999763070332106\n",
      "413: FEAT_A: d88e8f25 FEAT_B: Scrub-A-Dub_3020 - Correlation: 1.0\n",
      "414: FEAT_A: d88e8f25 FEAT_B: Scrub-A-Dub_3120 - Correlation: 0.9999763070332106\n",
      "415: FEAT_A: c6971acf FEAT_B: Dino Drink_2060 - Correlation: 0.9999999999999999\n",
      "416: FEAT_A: ab4ec3a4 FEAT_B: Dino Drink_4080 - Correlation: 1.0\n",
      "417: FEAT_A: 7040c096 FEAT_B: Scrub-A-Dub_4010 - Correlation: 1.0\n",
      "418: FEAT_A: 8ac7cce4 FEAT_B: Leaf Leader_2000 - Correlation: 1.0\n",
      "419: FEAT_A: cdd22e43 FEAT_B: Chicken Balancer (Activity)_4035 - Correlation: 1.0\n",
      "420: FEAT_A: a0faea5d FEAT_B: Bubble Bath_4070 - Correlation: 1.0\n",
      "421: FEAT_A: 3b2048ee FEAT_B: Leaf Leader_4095 - Correlation: 1.0\n",
      "422: FEAT_A: 392e14df FEAT_B: Cauldron Filler (Assessment)_4100 - Correlation: 1.0\n",
      "423: FEAT_A: d88ca108 FEAT_B: Air Show_2070 - Correlation: 1.0\n",
      "424: FEAT_A: e080a381 FEAT_B: Pan Balance_4090 - Correlation: 1.0\n",
      "425: FEAT_A: 7da34a02 FEAT_B: Mushroom Sorter (Assessment)_4070 - Correlation: 0.9999999999999998\n",
      "426: FEAT_A: e7e44842 FEAT_B: Watering Hole (Activity)_4090 - Correlation: 0.9999999999999999\n",
      "427: FEAT_A: 070a5291 FEAT_B: Bird Measurer (Assessment)_4100 - Correlation: 1.0\n",
      "428: FEAT_A: 9c5ef70c FEAT_B: Pan Balance_2000 - Correlation: 1.0\n",
      "429: FEAT_A: dcb55a27 FEAT_B: Air Show_4110 - Correlation: 1.0\n",
      "430: FEAT_A: f54238ee FEAT_B: Fireworks (Activity)_4090 - Correlation: 1.0\n",
      "431: FEAT_A: 6bf9e3e1 FEAT_B: Happy Camel_4040 - Correlation: 0.9999999999999999\n"
     ]
    },
    {
     "name": "stdout",
     "output_type": "stream",
     "text": [
      "432: FEAT_A: 2ec694de FEAT_B: Bug Measurer (Activity)_4080 - Correlation: 0.9999999999999998\n",
      "433: FEAT_A: 14de4c5d FEAT_B: Air Show_4100 - Correlation: 1.0\n",
      "434: FEAT_A: b2dba42b FEAT_B: 1bb5fbdb - Correlation: 0.9999521729413294\n",
      "435: FEAT_A: b2dba42b FEAT_B: Sandcastle Builder (Activity)_3110 - Correlation: 0.9999521729413294\n",
      "436: FEAT_A: b2dba42b FEAT_B: Sandcastle Builder (Activity)_3010 - Correlation: 1.0\n",
      "437: FEAT_A: 8d748b58 FEAT_B: Bug Measurer (Activity)_4090 - Correlation: 0.9999999999999998\n",
      "438: FEAT_A: fbaf3456 FEAT_B: Mushroom Sorter (Assessment)_4030 - Correlation: 0.9999999999999999\n",
      "439: FEAT_A: 02a42007 FEAT_B: Fireworks (Activity)_4030 - Correlation: 1.0\n",
      "440: FEAT_A: 7ec0c298 FEAT_B: Chow Time_3010 - Correlation: 0.9999999999999999\n",
      "441: FEAT_A: eb2c19cd FEAT_B: Mushroom Sorter (Assessment)_4090 - Correlation: 1.0\n",
      "442: FEAT_A: 4bb2f698 FEAT_B: Chicken Balancer (Activity)_4070 - Correlation: 0.9999999999999998\n",
      "443: FEAT_A: 5e3ea25a FEAT_B: Crystals Rule_4070 - Correlation: 1.0\n",
      "444: FEAT_A: bfc77bd6 FEAT_B: Chest Sorter (Assessment)_4080 - Correlation: 0.9999999999999998\n",
      "445: FEAT_A: 4e5fc6f5 FEAT_B: Cart Balancer (Assessment)_4090 - Correlation: 1.0\n",
      "446: FEAT_A: 93b353f2 FEAT_B: Chest Sorter (Assessment)_4100 - Correlation: 0.9999999999999998\n",
      "447: FEAT_A: 0db6d71d FEAT_B: Chest Sorter (Assessment)_4020 - Correlation: 1.0\n",
      "448: FEAT_A: 08ff79ad FEAT_B: Egg Dropper (Activity)_4090 - Correlation: 1.0\n",
      "449: FEAT_A: 7fd1ac25 FEAT_B: Egg Dropper (Activity)_4080 - Correlation: 1.0\n",
      "450: FEAT_A: 3393b68b FEAT_B: Bird Measurer (Assessment)_2010 - Correlation: 1.0\n",
      "451: FEAT_A: d185d3ea FEAT_B: Chow Time_4035 - Correlation: 1.0\n",
      "452: FEAT_A: d38c2fd7 FEAT_B: Bird Measurer (Assessment)_4035 - Correlation: 0.9999999999999999\n",
      "453: FEAT_A: 29a42aea FEAT_B: Bubble Bath_4080 - Correlation: 1.0\n",
      "454: FEAT_A: 01ca3a3c FEAT_B: Leaf Leader_4080 - Correlation: 0.9999999999999999\n",
      "455: FEAT_A: 756e5507 FEAT_B: Chicken Balancer (Activity)_2000 - Correlation: 1.0\n",
      "456: FEAT_A: 3d63345e FEAT_B: Cart Balancer (Assessment)_4035 - Correlation: 1.0\n",
      "457: FEAT_A: 1beb320a FEAT_B: Bubble Bath_2020 - Correlation: 1.0\n",
      "458: FEAT_A: 19967db1 FEAT_B: Chow Time_4090 - Correlation: 1.0\n",
      "459: FEAT_A: d3640339 FEAT_B: Dino Dive_4090 - Correlation: 1.0\n",
      "460: FEAT_A: cc5087a3 FEAT_B: Crystals Rule_4010 - Correlation: 1.0\n",
      "461: FEAT_A: 3edf6747 FEAT_B: Cauldron Filler (Assessment)_4035 - Correlation: 0.9999999999999999\n",
      "462: FEAT_A: 4901243f FEAT_B: Fireworks (Activity)_2000 - Correlation: 1.0\n",
      "463: FEAT_A: a2df0760 FEAT_B: Happy Camel_4035 - Correlation: 0.9999999999999999\n",
      "464: FEAT_A: 15a43e5b FEAT_B: Bottle Filler (Activity)_4070 - Correlation: 1.0\n",
      "465: FEAT_A: 3bb91ced FEAT_B: Happy Camel_2081 - Correlation: 1.0\n",
      "466: FEAT_A: 828e68f9 FEAT_B: Cart Balancer (Assessment)_3110 - Correlation: 1.0\n",
      "467: FEAT_A: 565a3990 FEAT_B: Bug Measurer (Activity)_4070 - Correlation: 1.0\n",
      "468: FEAT_A: 46b50ba8 FEAT_B: Happy Camel_4095 - Correlation: 0.9999999999999998\n",
      "469: FEAT_A: 6f8106d9 FEAT_B: Dino Drink_4090 - Correlation: 1.0\n",
      "470: FEAT_A: 48349b14 FEAT_B: Crystals Rule_2000 - Correlation: 1.0\n",
      "471: FEAT_A: 65abac75 FEAT_B: Air Show_4010 - Correlation: 1.0\n",
      "472: FEAT_A: f32856e4 FEAT_B: Leaf Leader_2020 - Correlation: 1.0\n",
      "473: FEAT_A: 3d0b9317 FEAT_B: Chest Sorter (Assessment)_4040 - Correlation: 1.0\n",
      "474: FEAT_A: 9554a50b FEAT_B: Cauldron Filler (Assessment)_4080 - Correlation: 0.9999999999999999\n",
      "475: FEAT_A: 8fee50e2 FEAT_B: Bird Measurer (Assessment)_4020 - Correlation: 1.0\n",
      "476: FEAT_A: 8af75982 FEAT_B: Happy Camel_4020 - Correlation: 1.0\n",
      "477: FEAT_A: 85d1b0de FEAT_B: Chicken Balancer (Activity)_4090 - Correlation: 1.0\n",
      "478: FEAT_A: c7f7f0e1 FEAT_B: Bug Measurer (Activity)_2000 - Correlation: 1.0\n",
      "479: FEAT_A: d51b1749 FEAT_B: Happy Camel_2080 - Correlation: 1.0\n",
      "480: FEAT_A: 29f54413 FEAT_B: Leaf Leader_2060 - Correlation: 0.9999999999999998\n",
      "481: FEAT_A: e694a35b FEAT_B: Fireworks (Activity)_4020 - Correlation: 1.0\n",
      "482: FEAT_A: ec138c1c FEAT_B: Bird Measurer (Assessment)_2020 - Correlation: 0.9999999999999999\n",
      "483: FEAT_A: 74e5f8a7 FEAT_B: Dino Drink_4020 - Correlation: 1.0\n",
      "484: FEAT_A: 26a5a3dd FEAT_B: All Star Sorting_4080 - Correlation: 1.0\n",
      "485: FEAT_A: b1d5101d FEAT_B: All Star Sorting_4095 - Correlation: 1.0\n",
      "486: FEAT_A: Treasure Map FEAT_B: Treasure Map_2000 - Correlation: 1.0\n",
      "487: FEAT_A: Treasure Map FEAT_B: Treasure Map_time - Correlation: 0.9999999999999994\n",
      "488: FEAT_A: Slop Problem FEAT_B: Slop Problem_2000 - Correlation: 1.0\n",
      "489: FEAT_A: Slop Problem FEAT_B: Slop Problem_time - Correlation: 0.9999999999999962\n",
      "490: FEAT_A: Ordering Spheres FEAT_B: Ordering Spheres_2000 - Correlation: 1.0\n",
      "491: FEAT_A: Ordering Spheres FEAT_B: Ordering Spheres_time - Correlation: 1.0\n",
      "492: FEAT_A: 12 Monkeys FEAT_B: 12 Monkeys_2000 - Correlation: 1.0\n",
      "493: FEAT_A: 12 Monkeys FEAT_B: 12 Monkeys_time - Correlation: 0.9999999999999998\n",
      "494: FEAT_A: Magma Peak - Level 2 FEAT_B: Magma Peak - Level 2_2000 - Correlation: 1.0\n",
      "495: FEAT_A: Magma Peak - Level 2 FEAT_B: Magma Peak - Level 2_time - Correlation: 0.9999999999999989\n",
      "496: FEAT_A: Tree Top City - Level 3 FEAT_B: Tree Top City - Level 3_2000 - Correlation: 1.0\n",
      "497: FEAT_A: Tree Top City - Level 3 FEAT_B: Tree Top City - Level 3_time - Correlation: 1.0\n",
      "498: FEAT_A: Pirate's Tale FEAT_B: Pirate's Tale_2000 - Correlation: 0.9999999999999999\n",
      "499: FEAT_A: Pirate's Tale FEAT_B: Pirate's Tale_time - Correlation: 0.9999999999999989\n",
      "500: FEAT_A: Crystal Caves - Level 2 FEAT_B: Crystal Caves - Level 2_2000 - Correlation: 1.0\n",
      "501: FEAT_A: Crystal Caves - Level 2 FEAT_B: Crystal Caves - Level 2_time - Correlation: 1.0\n",
      "502: FEAT_A: Honey Cake FEAT_B: Honey Cake_2000 - Correlation: 1.0\n",
      "503: FEAT_A: Honey Cake FEAT_B: Honey Cake_time - Correlation: 0.9999999999999987\n",
      "504: FEAT_A: Lifting Heavy Things FEAT_B: Lifting Heavy Things_2000 - Correlation: 0.9999999999999999\n",
      "505: FEAT_A: Lifting Heavy Things FEAT_B: Lifting Heavy Things_time - Correlation: 1.0\n",
      "506: FEAT_A: Balancing Act FEAT_B: Balancing Act_2000 - Correlation: 1.0\n",
      "507: FEAT_A: Balancing Act FEAT_B: Balancing Act_time - Correlation: 0.9999999999999996\n",
      "508: FEAT_A: Magma Peak - Level 1 FEAT_B: Magma Peak - Level 1_2000 - Correlation: 1.0\n",
      "509: FEAT_A: Magma Peak - Level 1 FEAT_B: Magma Peak - Level 1_time - Correlation: 1.0\n",
      "510: FEAT_A: Welcome to Lost Lagoon! FEAT_B: Welcome to Lost Lagoon!_2000 - Correlation: 1.0\n",
      "511: FEAT_A: Welcome to Lost Lagoon! FEAT_B: Welcome to Lost Lagoon!_time - Correlation: 1.0\n",
      "512: FEAT_A: Costume Box FEAT_B: Costume Box_2000 - Correlation: 1.0\n",
      "513: FEAT_A: Costume Box FEAT_B: Costume Box_time - Correlation: 1.0\n",
      "514: FEAT_A: Crystal Caves - Level 3 FEAT_B: Crystal Caves - Level 3_2000 - Correlation: 1.0\n",
      "515: FEAT_A: Crystal Caves - Level 3 FEAT_B: Crystal Caves - Level 3_time - Correlation: 1.0\n",
      "516: FEAT_A: Rulers FEAT_B: Rulers_2000 - Correlation: 1.0\n",
      "517: FEAT_A: Rulers FEAT_B: Rulers_time - Correlation: 1.0\n",
      "518: FEAT_A: Tree Top City - Level 1 FEAT_B: Tree Top City - Level 1_2000 - Correlation: 0.9999999999999999\n",
      "519: FEAT_A: Tree Top City - Level 1 FEAT_B: Tree Top City - Level 1_time - Correlation: 0.9999999999999996\n",
      "520: FEAT_A: Heavy, Heavier, Heaviest FEAT_B: Heavy, Heavier, Heaviest_2000 - Correlation: 1.0\n",
      "521: FEAT_A: Heavy, Heavier, Heaviest FEAT_B: Heavy, Heavier, Heaviest_time - Correlation: 0.9999999999999998\n",
      "522: FEAT_A: Crystal Caves - Level 1 FEAT_B: Crystal Caves - Level 1_2000 - Correlation: 1.0\n",
      "523: FEAT_A: Crystal Caves - Level 1 FEAT_B: Crystal Caves - Level 1_time - Correlation: 0.9999999999999999\n",
      "524: FEAT_A: Tree Top City - Level 2 FEAT_B: Tree Top City - Level 2_2000 - Correlation: 1.0\n",
      "525: FEAT_A: Tree Top City - Level 2 FEAT_B: Tree Top City - Level 2_time - Correlation: 0.9999999999999994\n",
      "526: FEAT_A: var_event_id FEAT_B: var_title_event_code - Correlation: 0.9995254184300616\n",
      "527: FEAT_A: accumulated_actions FEAT_B: sum_event_code_count - Correlation: 1.0\n"
     ]
    }
   ],
   "source": [
    "counter = 0\n",
    "to_remove = []\n",
    "for feat_a in features:\n",
    "    for feat_b in features:\n",
    "        if feat_a != feat_b and feat_a not in to_remove and feat_b not in to_remove:\n",
    "#             c = np.corrcoef(reduce_train[feat_a], reduce_train[feat_b])[0][1]   \n",
    "            c = np.abs(np.corrcoef(reduce_train[feat_a], reduce_train[feat_b])[0][1])  \n",
    "            if c > 0.995:  # 相关性\n",
    "                counter += 1\n",
    "                to_remove.append(feat_b)\n",
    "                print('{}: FEAT_A: {} FEAT_B: {} - Correlation: {}'.format(counter, feat_a, feat_b, c))"
   ]
  },
  {
   "cell_type": "code",
   "execution_count": 20,
   "metadata": {
    "scrolled": true
   },
   "outputs": [
    {
     "name": "stdout",
     "output_type": "stream",
     "text": [
      "acc_Cart Balancer (Assessment) -0.04020325710970143 -0.47065833333333335 0.006732930476733109\n"
     ]
    },
    {
     "name": "stderr",
     "output_type": "stream",
     "text": [
      "divide by zero encountered in double_scalars\n",
      "divide by zero encountered in double_scalars\n"
     ]
    },
    {
     "name": "stdout",
     "output_type": "stream",
     "text": [
      "0ce40006 0.0008479366873940079 0.0\n",
      "1b54d27f 0.0007348784624081402 0.0\n"
     ]
    },
    {
     "name": "stderr",
     "output_type": "stream",
     "text": [
      "divide by zero encountered in double_scalars\n"
     ]
    },
    {
     "name": "stdout",
     "output_type": "stream",
     "text": [
      "119b5b02 0.0002826455624646693 0.0\n"
     ]
    },
    {
     "name": "stderr",
     "output_type": "stream",
     "text": [
      "invalid value encountered in double_scalars\n"
     ]
    },
    {
     "name": "stdout",
     "output_type": "stream",
     "text": [
      "003cd2ee 0.0 0.0\n"
     ]
    },
    {
     "name": "stderr",
     "output_type": "stream",
     "text": [
      "invalid value encountered in double_scalars\n"
     ]
    },
    {
     "name": "stdout",
     "output_type": "stream",
     "text": [
      "dcb1663e 0.0 0.0\n"
     ]
    },
    {
     "name": "stderr",
     "output_type": "stream",
     "text": [
      "invalid value encountered in double_scalars\n"
     ]
    },
    {
     "name": "stdout",
     "output_type": "stream",
     "text": [
      "4074bac2 0.0 0.0\n",
      "6aeafed4 0.14703222159412097 0.008 0.0\n"
     ]
    },
    {
     "name": "stderr",
     "output_type": "stream",
     "text": [
      "invalid value encountered in double_scalars\n"
     ]
    },
    {
     "name": "stdout",
     "output_type": "stream",
     "text": [
      "5dc079d8 0.0 0.0\n"
     ]
    },
    {
     "name": "stderr",
     "output_type": "stream",
     "text": [
      "divide by zero encountered in double_scalars\n"
     ]
    },
    {
     "name": "stdout",
     "output_type": "stream",
     "text": [
      "e4d32835 0.0013001695873374789 0.0\n"
     ]
    },
    {
     "name": "stderr",
     "output_type": "stream",
     "text": [
      "divide by zero encountered in double_scalars\n",
      "invalid value encountered in double_scalars\n"
     ]
    },
    {
     "name": "stdout",
     "output_type": "stream",
     "text": [
      "611485c5 0.0013566986998304127 0.0\n",
      "17ca3959 0.0 0.0\n"
     ]
    },
    {
     "name": "stderr",
     "output_type": "stream",
     "text": [
      "divide by zero encountered in double_scalars\n",
      "divide by zero encountered in double_scalars\n"
     ]
    },
    {
     "name": "stdout",
     "output_type": "stream",
     "text": [
      "ecc6157f 0.007292255511588468 0.0\n",
      "13f56524 0.04392312040700961 0.0\n"
     ]
    },
    {
     "name": "stderr",
     "output_type": "stream",
     "text": [
      "invalid value encountered in double_scalars\n",
      "divide by zero encountered in double_scalars\n"
     ]
    },
    {
     "name": "stdout",
     "output_type": "stream",
     "text": [
      "a8cc6fec 0.0 0.0\n",
      "ab4ec3a4 0.0009044657998869418 0.0\n"
     ]
    },
    {
     "name": "stderr",
     "output_type": "stream",
     "text": [
      "divide by zero encountered in double_scalars\n"
     ]
    },
    {
     "name": "stdout",
     "output_type": "stream",
     "text": [
      "2ec694de 0.008988128886376484 0.0\n",
      "eb2c19cd 0.17382702091577162 0.008 0.0\n",
      "bfc77bd6 0.012832108535895986 0.0\n"
     ]
    },
    {
     "name": "stderr",
     "output_type": "stream",
     "text": [
      "divide by zero encountered in double_scalars\n",
      "divide by zero encountered in double_scalars\n"
     ]
    },
    {
     "name": "stdout",
     "output_type": "stream",
     "text": [
      "7fd1ac25 0.01978518937252685 0.0\n",
      "29a42aea 0.004070096099491238 0.0\n",
      "01ca3a3c 0.0004522328999434709 0.0\n"
     ]
    },
    {
     "name": "stderr",
     "output_type": "stream",
     "text": [
      "divide by zero encountered in double_scalars\n",
      "invalid value encountered in double_scalars\n"
     ]
    },
    {
     "name": "stdout",
     "output_type": "stream",
     "text": [
      "Crystals Rule_2010 0.0 0.0\n"
     ]
    },
    {
     "name": "stderr",
     "output_type": "stream",
     "text": [
      "divide by zero encountered in double_scalars\n"
     ]
    },
    {
     "name": "stdout",
     "output_type": "stream",
     "text": [
      "Happy Camel_4080 0.0008479366873940079 0.0\n"
     ]
    },
    {
     "name": "stderr",
     "output_type": "stream",
     "text": [
      "invalid value encountered in double_scalars\n",
      "divide by zero encountered in double_scalars\n"
     ]
    },
    {
     "name": "stdout",
     "output_type": "stream",
     "text": [
      "Air Show_4080 0.0 0.0\n",
      "Bubble Bath_4090 0.14703222159412097 0.008 0.0\n",
      "Bug Measurer (Activity)_4080 0.008988128886376484 0.0\n"
     ]
    },
    {
     "name": "stderr",
     "output_type": "stream",
     "text": [
      "divide by zero encountered in double_scalars\n",
      "divide by zero encountered in double_scalars\n"
     ]
    },
    {
     "name": "stdout",
     "output_type": "stream",
     "text": [
      "Bubble Bath_4080 0.004070096099491238 0.0\n",
      "Cart Balancer (Assessment)_4080 0.007292255511588468 0.0\n"
     ]
    },
    {
     "name": "stderr",
     "output_type": "stream",
     "text": [
      "divide by zero encountered in double_scalars\n"
     ]
    },
    {
     "name": "stdout",
     "output_type": "stream",
     "text": [
      "Leaf Leader_4080 0.0004522328999434709 0.0\n"
     ]
    },
    {
     "name": "stderr",
     "output_type": "stream",
     "text": [
      "divide by zero encountered in double_scalars\n"
     ]
    },
    {
     "name": "stdout",
     "output_type": "stream",
     "text": [
      "Egg Dropper (Activity)_4080 0.01978518937252685 0.0\n",
      "Mushroom Sorter (Assessment)_4090 0.17382702091577162 0.008 0.0\n",
      "Chest Sorter (Assessment)_4080 0.012832108535895986 0.0\n"
     ]
    },
    {
     "name": "stderr",
     "output_type": "stream",
     "text": [
      "divide by zero encountered in double_scalars\n",
      "divide by zero encountered in double_scalars\n",
      "invalid value encountered in double_scalars\n"
     ]
    },
    {
     "name": "stdout",
     "output_type": "stream",
     "text": [
      "Dino Drink_4080 0.0009044657998869418 0.0\n",
      "Pan Balance_2010 0.0 0.0\n"
     ]
    },
    {
     "name": "stderr",
     "output_type": "stream",
     "text": [
      "divide by zero encountered in double_scalars\n",
      "divide by zero encountered in double_scalars\n",
      "invalid value encountered in double_scalars\n"
     ]
    },
    {
     "name": "stdout",
     "output_type": "stream",
     "text": [
      "Fireworks (Activity)_4080 0.0013566986998304127 0.0\n",
      "Mushroom Sorter (Assessment)_4080 0.04392312040700961 0.0\n",
      "Scrub-A-Dub_4080 0.0 0.0\n",
      "Sandcastle Builder (Activity)_2010 0.0 0.0\n"
     ]
    },
    {
     "name": "stderr",
     "output_type": "stream",
     "text": [
      "invalid value encountered in double_scalars\n",
      "divide by zero encountered in double_scalars\n",
      "invalid value encountered in double_scalars\n"
     ]
    },
    {
     "name": "stdout",
     "output_type": "stream",
     "text": [
      "Pan Balance_4080 0.0013001695873374789 0.0\n",
      "Bottle Filler (Activity)_2010 0.0 0.0\n"
     ]
    },
    {
     "name": "stderr",
     "output_type": "stream",
     "text": [
      "divide by zero encountered in double_scalars\n",
      "divide by zero encountered in double_scalars\n"
     ]
    },
    {
     "name": "stdout",
     "output_type": "stream",
     "text": [
      "Dino Dive_4080 0.0002826455624646693 0.0\n",
      "Watering Hole (Activity)_2010 0.0007348784624081402 0.0\n",
      "Chest Sorter (Assessment)_time 452.7551158846806 36.574 0.007628145048781528\n",
      "installation_session_count 14.58383267382702 1.0 0.1127006932086135\n"
     ]
    }
   ],
   "source": [
    "to_exclude = [] \n",
    "ajusted_test = reduce_test.copy()\n",
    "for feature in ajusted_test.columns:\n",
    "    if feature not in ['accuracy_group', 'installation_id', 'session_title']:\n",
    "        data = reduce_train[feature]\n",
    "        train_mean = data.mean()\n",
    "        data = ajusted_test[feature] \n",
    "        test_mean = data.mean()\n",
    "        try:\n",
    "            error = stract_hists(feature, adjust=True)\n",
    "            ajust_factor = train_mean / test_mean\n",
    "            if ajust_factor > 10 or ajust_factor < 0.1:# or error > 0.01:\n",
    "                to_exclude.append(feature)\n",
    "                print(feature, train_mean, test_mean, error)\n",
    "            else:\n",
    "                ajusted_test[feature] *= ajust_factor\n",
    "        except:\n",
    "            to_exclude.append(feature)\n",
    "            print(feature, train_mean, test_mean)"
   ]
  },
  {
   "cell_type": "code",
   "execution_count": 22,
   "metadata": {},
   "outputs": [
    {
     "data": {
      "text/plain": [
       "((17690, 393), (1000, 952), 393, ['session_title'])"
      ]
     },
     "execution_count": 22,
     "metadata": {},
     "output_type": "execute_result"
    }
   ],
   "source": [
    "features = [x for x in features if x not in (to_exclude + to_remove)]\n",
    "reduce_train[features].shape, ajusted_test.shape, len(features), categoricals"
   ]
  },
  {
   "cell_type": "code",
   "execution_count": 23,
   "metadata": {
    "scrolled": true
   },
   "outputs": [
    {
     "name": "stdout",
     "output_type": "stream",
     "text": [
      "0:\tlearn: 1.2473118\ttest: 1.2478775\tbest: 1.2478775 (0)\ttotal: 2.27s\tremaining: 1h 15m 28s\n",
      "100:\tlearn: 0.9907757\ttest: 1.0304158\tbest: 1.0304158 (100)\ttotal: 31.6s\tremaining: 9m 53s\n",
      "200:\tlearn: 0.9414181\ttest: 1.0097588\tbest: 1.0097588 (200)\ttotal: 52.3s\tremaining: 7m 48s\n",
      "300:\tlearn: 0.9086435\ttest: 1.0025655\tbest: 1.0025655 (300)\ttotal: 1m 16s\tremaining: 7m 14s\n",
      "400:\tlearn: 0.8721896\ttest: 0.9973666\tbest: 0.9973666 (400)\ttotal: 1m 43s\tremaining: 6m 51s\n",
      "500:\tlearn: 0.8458273\ttest: 0.9951154\tbest: 0.9951090 (498)\ttotal: 2m 8s\tremaining: 6m 23s\n",
      "600:\tlearn: 0.8235988\ttest: 0.9935908\tbest: 0.9935908 (600)\ttotal: 2m 29s\tremaining: 5m 48s\n",
      "700:\tlearn: 0.8065238\ttest: 0.9933210\tbest: 0.9932864 (695)\ttotal: 2m 46s\tremaining: 5m 9s\n",
      "800:\tlearn: 0.7902526\ttest: 0.9927438\tbest: 0.9927438 (800)\ttotal: 3m 8s\tremaining: 4m 41s\n",
      "900:\tlearn: 0.7758287\ttest: 0.9925924\tbest: 0.9925376 (898)\ttotal: 3m 33s\tremaining: 4m 20s\n",
      "1000:\tlearn: 0.7606254\ttest: 0.9928594\tbest: 0.9925298 (915)\ttotal: 3m 58s\tremaining: 3m 57s\n",
      "1100:\tlearn: 0.7452393\ttest: 0.9924005\tbest: 0.9924005 (1100)\ttotal: 4m 20s\tremaining: 3m 32s\n",
      "1200:\tlearn: 0.7312287\ttest: 0.9923223\tbest: 0.9923108 (1188)\ttotal: 4m 44s\tremaining: 3m 9s\n",
      "1300:\tlearn: 0.7154446\ttest: 0.9928771\tbest: 0.9923052 (1205)\ttotal: 5m 9s\tremaining: 2m 46s\n",
      "1400:\tlearn: 0.7031160\ttest: 0.9930273\tbest: 0.9923052 (1205)\ttotal: 5m 26s\tremaining: 2m 19s\n",
      "1500:\tlearn: 0.6896663\ttest: 0.9939051\tbest: 0.9923052 (1205)\ttotal: 5m 43s\tremaining: 1m 54s\n",
      "Stopped by overfitting detector  (300 iterations wait)\n",
      "\n",
      "bestTest = 0.9923051743\n",
      "bestIteration = 1205\n",
      "\n",
      "Shrink model to first 1206 iterations.\n",
      "Partial score of fold 0 is: 0.5818302140764962\n",
      "0:\tlearn: 1.2477565\ttest: 1.2480153\tbest: 1.2480153 (0)\ttotal: 809ms\tremaining: 26m 56s\n",
      "100:\tlearn: 0.9911805\ttest: 1.0185338\tbest: 1.0185338 (100)\ttotal: 25.9s\tremaining: 8m 7s\n",
      "200:\tlearn: 0.9448901\ttest: 0.9992128\tbest: 0.9992128 (200)\ttotal: 50.7s\tremaining: 7m 33s\n",
      "300:\tlearn: 0.9138206\ttest: 0.9920026\tbest: 0.9920026 (300)\ttotal: 1m 14s\tremaining: 7m 2s\n",
      "400:\tlearn: 0.8837112\ttest: 0.9865855\tbest: 0.9865855 (400)\ttotal: 1m 40s\tremaining: 6m 42s\n",
      "500:\tlearn: 0.8592699\ttest: 0.9842453\tbest: 0.9842453 (500)\ttotal: 2m 5s\tremaining: 6m 16s\n",
      "600:\tlearn: 0.8382813\ttest: 0.9825621\tbest: 0.9825621 (600)\ttotal: 2m 31s\tremaining: 5m 53s\n",
      "700:\tlearn: 0.8186024\ttest: 0.9815920\tbest: 0.9815862 (699)\ttotal: 2m 54s\tremaining: 5m 22s\n",
      "800:\tlearn: 0.8012046\ttest: 0.9806319\tbest: 0.9805983 (794)\ttotal: 3m 18s\tremaining: 4m 56s\n",
      "900:\tlearn: 0.7819198\ttest: 0.9805153\tbest: 0.9803551 (886)\ttotal: 3m 43s\tremaining: 4m 33s\n",
      "1000:\tlearn: 0.7664031\ttest: 0.9801336\tbest: 0.9801279 (985)\ttotal: 4m 10s\tremaining: 4m 9s\n",
      "1100:\tlearn: 0.7511189\ttest: 0.9803429\tbest: 0.9800786 (1036)\ttotal: 4m 32s\tremaining: 3m 42s\n",
      "1200:\tlearn: 0.7362698\ttest: 0.9803411\tbest: 0.9800786 (1036)\ttotal: 4m 49s\tremaining: 3m 12s\n",
      "1300:\tlearn: 0.7223841\ttest: 0.9808186\tbest: 0.9800786 (1036)\ttotal: 5m 8s\tremaining: 2m 45s\n",
      "Stopped by overfitting detector  (300 iterations wait)\n",
      "\n",
      "bestTest = 0.9800785946\n",
      "bestIteration = 1036\n",
      "\n",
      "Shrink model to first 1037 iterations.\n",
      "Partial score of fold 1 is: 0.6042429727505687\n",
      "0:\tlearn: 1.2471789\ttest: 1.2480231\tbest: 1.2480231 (0)\ttotal: 482ms\tremaining: 16m 2s\n",
      "100:\tlearn: 0.9912419\ttest: 1.0317342\tbest: 1.0317342 (100)\ttotal: 27.6s\tremaining: 8m 38s\n",
      "200:\tlearn: 0.9438769\ttest: 1.0080787\tbest: 1.0080787 (200)\ttotal: 54s\tremaining: 8m 3s\n",
      "300:\tlearn: 0.9114555\ttest: 0.9982000\tbest: 0.9982000 (300)\ttotal: 1m 21s\tremaining: 7m 42s\n",
      "400:\tlearn: 0.8822375\ttest: 0.9932323\tbest: 0.9932323 (400)\ttotal: 1m 49s\tremaining: 7m 16s\n",
      "500:\tlearn: 0.8599618\ttest: 0.9899061\tbest: 0.9899061 (499)\ttotal: 2m 17s\tremaining: 6m 49s\n",
      "600:\tlearn: 0.8415861\ttest: 0.9887349\tbest: 0.9886649 (594)\ttotal: 2m 37s\tremaining: 6m 5s\n",
      "700:\tlearn: 0.8237368\ttest: 0.9875893\tbest: 0.9875893 (700)\ttotal: 2m 59s\tremaining: 5m 33s\n",
      "800:\tlearn: 0.8048874\ttest: 0.9867595\tbest: 0.9867490 (799)\ttotal: 3m 22s\tremaining: 5m 2s\n",
      "900:\tlearn: 0.7861433\ttest: 0.9862449\tbest: 0.9862449 (900)\ttotal: 3m 38s\tremaining: 4m 26s\n",
      "1000:\tlearn: 0.7702217\ttest: 0.9865477\tbest: 0.9862035 (902)\ttotal: 3m 56s\tremaining: 3m 56s\n",
      "1100:\tlearn: 0.7552480\ttest: 0.9862282\tbest: 0.9861766 (1081)\ttotal: 4m 18s\tremaining: 3m 31s\n",
      "1200:\tlearn: 0.7433417\ttest: 0.9863075\tbest: 0.9861766 (1081)\ttotal: 4m 36s\tremaining: 3m 3s\n",
      "1300:\tlearn: 0.7311561\ttest: 0.9863459\tbest: 0.9861766 (1081)\ttotal: 4m 57s\tremaining: 2m 39s\n",
      "Stopped by overfitting detector  (300 iterations wait)\n",
      "\n",
      "bestTest = 0.9861765608\n",
      "bestIteration = 1081\n",
      "\n",
      "Shrink model to first 1082 iterations.\n",
      "Partial score of fold 2 is: 0.5913137393884114\n",
      "0:\tlearn: 1.2477153\ttest: 1.2473330\tbest: 1.2473330 (0)\ttotal: 377ms\tremaining: 12m 33s\n",
      "100:\tlearn: 0.9954803\ttest: 1.0103720\tbest: 1.0103720 (100)\ttotal: 20.4s\tremaining: 6m 23s\n",
      "200:\tlearn: 0.9479384\ttest: 0.9921740\tbest: 0.9921740 (200)\ttotal: 43.3s\tremaining: 6m 27s\n",
      "300:\tlearn: 0.9181652\ttest: 0.9860461\tbest: 0.9860461 (300)\ttotal: 1m 10s\tremaining: 6m 39s\n",
      "400:\tlearn: 0.8862329\ttest: 0.9824984\tbest: 0.9824984 (400)\ttotal: 1m 35s\tremaining: 6m 22s\n",
      "500:\tlearn: 0.8640526\ttest: 0.9805841\tbest: 0.9805841 (500)\ttotal: 2m\tremaining: 6m\n",
      "600:\tlearn: 0.8394904\ttest: 0.9794551\tbest: 0.9794551 (600)\ttotal: 2m 27s\tremaining: 5m 42s\n",
      "700:\tlearn: 0.8198412\ttest: 0.9790365\tbest: 0.9790226 (692)\ttotal: 2m 51s\tremaining: 5m 17s\n",
      "800:\tlearn: 0.8034552\ttest: 0.9790597\tbest: 0.9789720 (793)\ttotal: 3m 18s\tremaining: 4m 56s\n",
      "900:\tlearn: 0.7859721\ttest: 0.9796516\tbest: 0.9789720 (793)\ttotal: 3m 39s\tremaining: 4m 27s\n",
      "1000:\tlearn: 0.7713016\ttest: 0.9794872\tbest: 0.9789720 (793)\ttotal: 4m 2s\tremaining: 4m 2s\n",
      "Stopped by overfitting detector  (300 iterations wait)\n",
      "\n",
      "bestTest = 0.9789719962\n",
      "bestIteration = 793\n",
      "\n",
      "Shrink model to first 794 iterations.\n",
      "Partial score of fold 3 is: 0.6000815269409366\n",
      "0:\tlearn: 1.2476206\ttest: 1.2471783\tbest: 1.2471783 (0)\ttotal: 196ms\tremaining: 6m 32s\n",
      "100:\tlearn: 0.9917255\ttest: 1.0145255\tbest: 1.0145255 (100)\ttotal: 24.2s\tremaining: 7m 34s\n",
      "200:\tlearn: 0.9435991\ttest: 0.9952985\tbest: 0.9952985 (200)\ttotal: 46.4s\tremaining: 6m 55s\n",
      "300:\tlearn: 0.9125229\ttest: 0.9876321\tbest: 0.9876321 (300)\ttotal: 1m 15s\tremaining: 7m 3s\n",
      "400:\tlearn: 0.8814323\ttest: 0.9839952\tbest: 0.9839952 (400)\ttotal: 1m 42s\tremaining: 6m 48s\n",
      "500:\tlearn: 0.8556449\ttest: 0.9816328\tbest: 0.9816328 (500)\ttotal: 2m 6s\tremaining: 6m 18s\n",
      "600:\tlearn: 0.8363682\ttest: 0.9806121\tbest: 0.9803183 (592)\ttotal: 2m 27s\tremaining: 5m 43s\n",
      "700:\tlearn: 0.8202262\ttest: 0.9803144\tbest: 0.9802693 (686)\ttotal: 2m 48s\tremaining: 5m 12s\n",
      "800:\tlearn: 0.8033254\ttest: 0.9800067\tbest: 0.9797228 (752)\ttotal: 3m 10s\tremaining: 4m 44s\n",
      "900:\tlearn: 0.7929963\ttest: 0.9796839\tbest: 0.9796769 (896)\ttotal: 3m 32s\tremaining: 4m 18s\n",
      "1000:\tlearn: 0.7787734\ttest: 0.9792412\tbest: 0.9791845 (994)\ttotal: 3m 54s\tremaining: 3m 54s\n",
      "1100:\tlearn: 0.7657026\ttest: 0.9794260\tbest: 0.9791073 (1022)\ttotal: 4m 20s\tremaining: 3m 32s\n",
      "1200:\tlearn: 0.7541581\ttest: 0.9799693\tbest: 0.9791073 (1022)\ttotal: 4m 37s\tremaining: 3m 4s\n",
      "1300:\tlearn: 0.7408515\ttest: 0.9799932\tbest: 0.9791073 (1022)\ttotal: 4m 52s\tremaining: 2m 37s\n",
      "Stopped by overfitting detector  (300 iterations wait)\n",
      "\n",
      "bestTest = 0.9791072814\n",
      "bestIteration = 1022\n",
      "\n",
      "Shrink model to first 1023 iterations.\n",
      "Partial score of fold 4 is: 0.5927337131683938\n",
      "Our oof cohen kappa score is:  0.5942438124383298\n"
     ]
    },
    {
     "data": {
      "image/png": "[encoded data removed]",
      "text/plain": [
       "<Figure size 432x288 with 1 Axes>"
      ]
     },
     "metadata": {
      "needs_background": "light"
     },
     "output_type": "display_data"
    }
   ],
   "source": [
    "cat_model = Catb_Model(reduce_train, ajusted_test, features, categoricals=categoricals)"
   ]
  },
  {
   "cell_type": "code",
   "execution_count": 23,
   "metadata": {
    "scrolled": true
   },
   "outputs": [
    {
     "name": "stderr",
     "output_type": "stream",
     "text": [
      "Found `n_estimators` in params. Will use it instead of argument\n",
      "Found `early_stopping_rounds` in params. Will use it instead of argument\n",
      "Using categorical_feature in Dataset.\n"
     ]
    },
    {
     "name": "stdout",
     "output_type": "stream",
     "text": [
      "Training until validation scores don't improve for 100 rounds\n",
      "[100]\ttraining's rmse: 1.02801\tvalid_1's rmse: 1.05628\n",
      "[200]\ttraining's rmse: 0.959353\tvalid_1's rmse: 1.01192\n",
      "[300]\ttraining's rmse: 0.923879\tvalid_1's rmse: 0.996885\n",
      "[400]\ttraining's rmse: 0.899404\tvalid_1's rmse: 0.99037\n",
      "[500]\ttraining's rmse: 0.879336\tvalid_1's rmse: 0.986673\n",
      "[600]\ttraining's rmse: 0.861837\tvalid_1's rmse: 0.984225\n",
      "[700]\ttraining's rmse: 0.846229\tvalid_1's rmse: 0.983197\n",
      "[800]\ttraining's rmse: 0.831994\tvalid_1's rmse: 0.982488\n",
      "[900]\ttraining's rmse: 0.818487\tvalid_1's rmse: 0.981512\n",
      "[1000]\ttraining's rmse: 0.805375\tvalid_1's rmse: 0.981374\n",
      "[1100]\ttraining's rmse: 0.79329\tvalid_1's rmse: 0.981369\n",
      "Early stopping, best iteration is:\n",
      "[1058]\ttraining's rmse: 0.79821\tvalid_1's rmse: 0.98127\n",
      "Partial score of fold 0 is: 0.5936398871064282\n",
      "Training until validation scores don't improve for 100 rounds\n",
      "[100]\ttraining's rmse: 1.03107\tvalid_1's rmse: 1.04745\n",
      "[200]\ttraining's rmse: 0.961839\tvalid_1's rmse: 0.998728\n",
      "[300]\ttraining's rmse: 0.926267\tvalid_1's rmse: 0.982469\n",
      "[400]\ttraining's rmse: 0.901554\tvalid_1's rmse: 0.976445\n",
      "[500]\ttraining's rmse: 0.881309\tvalid_1's rmse: 0.973956\n",
      "[600]\ttraining's rmse: 0.863872\tvalid_1's rmse: 0.972768\n",
      "[700]\ttraining's rmse: 0.848067\tvalid_1's rmse: 0.972315\n",
      "[800]\ttraining's rmse: 0.833599\tvalid_1's rmse: 0.972474\n",
      "Early stopping, best iteration is:\n",
      "[730]\ttraining's rmse: 0.843601\tvalid_1's rmse: 0.9721\n",
      "Partial score of fold 1 is: 0.6079546422942247\n",
      "Training until validation scores don't improve for 100 rounds\n",
      "[100]\ttraining's rmse: 1.03066\tvalid_1's rmse: 1.05705\n",
      "[200]\ttraining's rmse: 0.960762\tvalid_1's rmse: 1.0072\n",
      "[300]\ttraining's rmse: 0.925704\tvalid_1's rmse: 0.990919\n",
      "[400]\ttraining's rmse: 0.900832\tvalid_1's rmse: 0.98364\n",
      "[500]\ttraining's rmse: 0.880791\tvalid_1's rmse: 0.980162\n",
      "[600]\ttraining's rmse: 0.863076\tvalid_1's rmse: 0.978409\n",
      "[700]\ttraining's rmse: 0.847333\tvalid_1's rmse: 0.977206\n",
      "[800]\ttraining's rmse: 0.832822\tvalid_1's rmse: 0.976723\n",
      "[900]\ttraining's rmse: 0.81923\tvalid_1's rmse: 0.976558\n",
      "Early stopping, best iteration is:\n",
      "[838]\ttraining's rmse: 0.827631\tvalid_1's rmse: 0.976441\n",
      "Partial score of fold 2 is: 0.6004393958206315\n",
      "Training until validation scores don't improve for 100 rounds\n",
      "[100]\ttraining's rmse: 1.03225\tvalid_1's rmse: 1.05193\n",
      "[200]\ttraining's rmse: 0.96286\tvalid_1's rmse: 1.00305\n",
      "[300]\ttraining's rmse: 0.926997\tvalid_1's rmse: 0.98715\n",
      "[400]\ttraining's rmse: 0.901686\tvalid_1's rmse: 0.980583\n",
      "[500]\ttraining's rmse: 0.881661\tvalid_1's rmse: 0.978391\n",
      "[600]\ttraining's rmse: 0.863942\tvalid_1's rmse: 0.976905\n",
      "[700]\ttraining's rmse: 0.848292\tvalid_1's rmse: 0.976234\n",
      "[800]\ttraining's rmse: 0.833797\tvalid_1's rmse: 0.975473\n",
      "Early stopping, best iteration is:\n",
      "[779]\ttraining's rmse: 0.836732\tvalid_1's rmse: 0.975383\n",
      "Partial score of fold 3 is: 0.6000815269409366\n",
      "Training until validation scores don't improve for 100 rounds\n",
      "[100]\ttraining's rmse: 1.03002\tvalid_1's rmse: 1.04717\n",
      "[200]\ttraining's rmse: 0.961542\tvalid_1's rmse: 1.00032\n",
      "[300]\ttraining's rmse: 0.926417\tvalid_1's rmse: 0.985673\n",
      "[400]\ttraining's rmse: 0.90223\tvalid_1's rmse: 0.979432\n",
      "[500]\ttraining's rmse: 0.882463\tvalid_1's rmse: 0.975872\n",
      "[600]\ttraining's rmse: 0.865465\tvalid_1's rmse: 0.974035\n",
      "[700]\ttraining's rmse: 0.849942\tvalid_1's rmse: 0.973008\n",
      "[800]\ttraining's rmse: 0.835832\tvalid_1's rmse: 0.97202\n",
      "[900]\ttraining's rmse: 0.822609\tvalid_1's rmse: 0.97152\n",
      "[1000]\ttraining's rmse: 0.810246\tvalid_1's rmse: 0.971178\n",
      "[1100]\ttraining's rmse: 0.798405\tvalid_1's rmse: 0.971265\n",
      "Early stopping, best iteration is:\n",
      "[1062]\ttraining's rmse: 0.802773\tvalid_1's rmse: 0.970926\n",
      "Partial score of fold 4 is: 0.598282056342105\n",
      "Our oof cohen kappa score is:  0.599111311909829\n"
     ]
    },
    {
     "data": {
      "image/png": "[encoded data removed]",
      "text/plain": [
       "<Figure size 432x288 with 1 Axes>"
      ]
     },
     "metadata": {
      "needs_background": "light"
     },
     "output_type": "display_data"
    }
   ],
   "source": [
    "# solve: LightGBMError: Do not support special JSON characters in feature name.\n",
    "reduce_train.columns = [\"\".join (c if c.isalnum() else \"_\" for c in str(x)) for x in reduce_train.columns]\n",
    "ajusted_test.columns = [\"\".join (c if c.isalnum() else \"_\" for c in str(x)) for x in ajusted_test.columns]\n",
    "features = [\"\".join (c if c.isalnum() else \"_\" for c in str(x)) for x in features]\n",
    "\n",
    "lgb_model = Lgb_Model(reduce_train, ajusted_test, features, categoricals=categoricals)"
   ]
  },
  {
   "cell_type": "code",
   "execution_count": 56,
   "metadata": {
    "scrolled": true
   },
   "outputs": [
    {
     "data": {
      "text/plain": [
       "array([ 390,  105,  119,   73,  107,  148,  136,  193,   28,  275,   88,\n",
       "         40,   42,   47,   35,   55,   57,   41,   60,  331,   88,  478,\n",
       "        443,  372,  120,  149,  224,  305,   49,  278,  215,   68,  304,\n",
       "         21,  107,  264,  581,   66,   20,   43,  113,   76,   31,   97,\n",
       "        190,   44,   69,   39,  100,   24,   41,  124,   35,    0,    1,\n",
       "         31,   32,    2,   94,   18,   35,  151,   70,   68,   53,   21,\n",
       "         12,   78,    9,   41,  177,   35,  163,   23,   70,  125,   10,\n",
       "          3,   68,   29,   78,    1,  146,   43,   39,   69,   35,   53,\n",
       "         51,   80,   58,   64,   53,   79,   17,    8,   50,   10,   59,\n",
       "         66,    1,    4,   28,    2,   21,   33,  162,   43,   65,    2,\n",
       "         32,  278,   60,  124,   36,   20,  163,   14,   21,   19,   11,\n",
       "          9,   58,   71,   22,   97,   81,   66,   44,   65,   47,   21,\n",
       "        106,   71,   50,   25,   24,   31,  109,   44,   10,   38,   46,\n",
       "         34,   36,    9,   50,   25,   44,   54,   24,   42,  213,   20,\n",
       "          5,   22,    0,   37,   30,    9,   37,    0,  123,   20,   96,\n",
       "          5,   22,   26,   55,   11,   34,   33,   36,  190,   28,   23,\n",
       "          0,   31,   63,   70,   38,   63,   10,   22,   25,   50,  114,\n",
       "         46,   76,   34,   12,  131,   41,   61,  105,    6,   61,   18,\n",
       "         47,   12,   12,   25,   54,   19,   10,   59,  174,  119,  209,\n",
       "         63,    1,   63,   67,  201,   17,   10,    0,   26,   78,   47,\n",
       "         85,  105,  118,    8,   54,   52,  129,   48,    8,   21,  139,\n",
       "         43,   95,   11,    8,   89,    5,   63,   48,    8,  103,   90,\n",
       "          8,   64,    5,   27,    7,   52,   83,    3,   42,    9,   23,\n",
       "        159,   13,   13,    7,   14,   14,   92,   27,   88,    0,   47,\n",
       "         98,   32,  106,  108,    0,   41,  146,    5,   36,   70,   17,\n",
       "          9,   53,   11,    2,   33,    5,   47,   15,   62,  158,   13,\n",
       "         30,  102,    7,   12,   19,   11,   25,   31,    0,   45,   61,\n",
       "         18,    9,   12,    4,   89,   12,   58,    0,    5,   46,    7,\n",
       "         40,   81,   81,   37,   76,   67,   98,   55,  103,   68,   40,\n",
       "         49,   39,   31,   62,   53,  115,   40,   48,  140,   32,   74,\n",
       "         79,   41,   22,   50,   39,   85,   36,   47,   49,   63,   73,\n",
       "        106,   74,   58,   46,   15,  118,   67,   43,   75,  104,   92,\n",
       "        122,   77,   84,   83,   74,   67,  188,   58,   92,  158,   84,\n",
       "         77,  133,   50,   69,  140,  145,   56,   48,   77,  133,  259,\n",
       "        232,  940,   56,  201,  449,  346,  484,  438,  468,  539,   93,\n",
       "         25,   28,   51,  496,  203, 1049,  317,  480], dtype=int32)"
      ]
     },
     "execution_count": 56,
     "metadata": {},
     "output_type": "execute_result"
    }
   ],
   "source": [
    "lgb_model.model.feature_importance()"
   ]
  },
  {
   "cell_type": "code",
   "execution_count": null,
   "metadata": {},
   "outputs": [],
   "source": []
  },
  {
   "cell_type": "code",
   "execution_count": 32,
   "metadata": {
    "scrolled": true
   },
   "outputs": [],
   "source": [
    "# xgb_model = Xgb_Model(reduce_train, ajusted_test, features, categoricals=categoricals)"
   ]
  },
  {
   "cell_type": "code",
   "execution_count": 33,
   "metadata": {},
   "outputs": [],
   "source": [
    "# cnn_model = Cnn_Model(reduce_train, ajusted_test, features, categoricals=categoricals)"
   ]
  },
  {
   "cell_type": "code",
   "execution_count": 34,
   "metadata": {},
   "outputs": [],
   "source": [
    "# nn_model = Nn_Model(reduce_train, ajusted_test, features, categoricals=categoricals)"
   ]
  },
  {
   "cell_type": "code",
   "execution_count": 47,
   "metadata": {},
   "outputs": [],
   "source": [
    "# stacking\n",
    "# stacker = LinearRegression()\n",
    "# S_train = np.concatenate(\n",
    "#     (lgb_model.oof_pred.reshape(-1,1), \\\n",
    "#      xgb_model.oof_pred.reshape(-1,1), \\\n",
    "#      cat_model.oof_pred.reshape(-1,1)),\\\n",
    "#     axis=1)\n",
    "# S_test = np.concatenate(\n",
    "#     (lgb_model.y_pred.reshape(-1,1), \\\n",
    "#      xgb_model.y_pred.reshape(-1,1), \\\n",
    "#      cat_model.y_pred.reshape(-1,1)),\\\n",
    "#     axis=1)\n",
    "# stacker.fit(S_train, reduce_train['accuracy_group'])\n",
    "# final_pred = stacker.predict(S_test)"
   ]
  },
  {
   "cell_type": "code",
   "execution_count": 49,
   "metadata": {},
   "outputs": [
    {
     "data": {
      "text/plain": [
       "(1000,)"
      ]
     },
     "execution_count": 49,
     "metadata": {},
     "output_type": "execute_result"
    }
   ],
   "source": [
    "# final_pred.shape"
   ]
  },
  {
   "cell_type": "code",
   "execution_count": 64,
   "metadata": {},
   "outputs": [
    {
     "name": "stdout",
     "output_type": "stream",
     "text": [
      "(1000,)\n"
     ]
    }
   ],
   "source": [
    "# weights = {'lgb': 0.60, 'cat': 0.20, 'xgb': 0.20, 'nn': 0.20}\n",
    "\n",
    "# final_pred = (lgb_model.y_pred * weights['lgb']) + (xgb_model.y_pred * weights['xgb']) + (cat_model.y_pred * weights['cat'])\n",
    "# print(final_pred.shape)"
   ]
  },
  {
   "cell_type": "code",
   "execution_count": 27,
   "metadata": {},
   "outputs": [],
   "source": [
    "final_pred = lgb_model.y_pred"
   ]
  },
  {
   "cell_type": "code",
   "execution_count": 28,
   "metadata": {},
   "outputs": [
    {
     "name": "stdout",
     "output_type": "stream",
     "text": [
      "{0: 1.2515291496653005, 1: 1.6753615239825623, 2: 1.8973574885382039}\n"
     ]
    },
    {
     "data": {
      "text/plain": [
       "3    0.500\n",
       "0    0.239\n",
       "1    0.136\n",
       "2    0.125\n",
       "Name: accuracy_group, dtype: float64"
      ]
     },
     "execution_count": 28,
     "metadata": {},
     "output_type": "execute_result"
    },
    {
     "data": {
      "image/png": "[encoded data removed]",
      "text/plain": [
       "<Figure size 432x288 with 1 Axes>"
      ]
     },
     "metadata": {
      "needs_background": "light"
     },
     "output_type": "display_data"
    }
   ],
   "source": [
    "dist = Counter(reduce_train['accuracy_group'])\n",
    "for k in dist:\n",
    "    dist[k] /= len(reduce_train)\n",
    "reduce_train['accuracy_group'].hist()\n",
    "\n",
    "acum = 0\n",
    "bound = {}\n",
    "for i in range(3):\n",
    "    acum += dist[i]\n",
    "    bound[i] = np.percentile(final_pred, acum * 100)\n",
    "print(bound)\n",
    "\n",
    "def classify(x):\n",
    "    if x <= bound[0]:\n",
    "        return 0\n",
    "    elif x <= bound[1]:\n",
    "        return 1\n",
    "    elif x <= bound[2]:\n",
    "        return 2\n",
    "    else:\n",
    "        return 3\n",
    "    \n",
    "final_pred = np.array(list(map(classify, final_pred)))\n",
    "\n",
    "sample_submission['accuracy_group'] = final_pred.astype(int)\n",
    "sample_submission.to_csv('submission.csv', index=False)\n",
    "sample_submission['accuracy_group'].value_counts(normalize=True)"
   ]
  },
  {
   "cell_type": "code",
   "execution_count": 71,
   "metadata": {},
   "outputs": [],
   "source": []
  },
  {
   "cell_type": "code",
   "execution_count": null,
   "metadata": {},
   "outputs": [],
   "source": []
  }
 ],
 "metadata": {
  "kernelspec": {
   "display_name": "Python 3",
   "language": "python",
   "name": "python3"
  },
  "language_info": {
   "codemirror_mode": {
    "name": "ipython",
    "version": 3
   },
   "file_extension": ".py",
   "mimetype": "text/x-python",
   "name": "python",
   "nbconvert_exporter": "python",
   "pygments_lexer": "ipython3",
   "version": "3.6.8"
  }
 },
 "nbformat": 4,
 "nbformat_minor": 1
}
